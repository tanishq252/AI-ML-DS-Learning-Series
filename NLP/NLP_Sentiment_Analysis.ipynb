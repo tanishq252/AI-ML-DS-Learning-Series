{
  "nbformat": 4,
  "nbformat_minor": 0,
  "metadata": {
    "colab": {
      "name": "NLP_Sentiment_Analysis.ipynb",
      "provenance": [],
      "authorship_tag": "ABX9TyNzuLCnn+5t6OTO7bGOB9nD",
      "include_colab_link": true
    },
    "kernelspec": {
      "name": "python3",
      "display_name": "Python 3"
    },
    "language_info": {
      "name": "python"
    }
  },
  "cells": [
    {
      "cell_type": "markdown",
      "metadata": {
        "id": "view-in-github",
        "colab_type": "text"
      },
      "source": [
        "<a href=\"https://colab.research.google.com/github/tanishq252/AI-ML-DS-Learning-Series/blob/main/NLP_Sentiment_Analysis.ipynb\" target=\"_parent\"><img src=\"https://colab.research.google.com/assets/colab-badge.svg\" alt=\"Open In Colab\"/></a>"
      ]
    },
    {
      "cell_type": "markdown",
      "source": [
        "* Here I have worked along with \"tsv\" tab separated values rather than csv files...\n",
        "* So first of all we have almost 170k words in oxford dictionary out of which 3k words are having probability of occurence of 95% \n",
        "* The problem statement is to create a model for sentiment analysis of whether a person liked the restaurant or not by using bag of words which will take distinct words from all the reviews and create a dataframe accordingly\n",
        "* After above process we will further proceed to classification based on training and testing data and later we will be trying the input from user side"
      ],
      "metadata": {
        "id": "Bn18SRY_xs1o"
      }
    },
    {
      "cell_type": "markdown",
      "source": [
        "#Importing dataset and libraraies"
      ],
      "metadata": {
        "id": "f_ke1k7CxbG5"
      }
    },
    {
      "cell_type": "code",
      "execution_count": 1,
      "metadata": {
        "id": "Zs42MDsBvDrD"
      },
      "outputs": [],
      "source": [
        "import pandas as pd\n",
        "import numpy as np\n",
        "import matplotlib.pyplot as plt"
      ]
    },
    {
      "cell_type": "code",
      "source": [
        "# refer to below syntax when you will be working with tsv files\n",
        "dataSet = pd.read_csv(\"Restaurant_Reviews.tsv\", delimiter = '\\t', quoting = 3)"
      ],
      "metadata": {
        "id": "mbAFdEkExj-k"
      },
      "execution_count": 6,
      "outputs": []
    },
    {
      "cell_type": "code",
      "source": [
        "dataSet.shape[0]"
      ],
      "metadata": {
        "colab": {
          "base_uri": "https://localhost:8080/"
        },
        "id": "BkNNdE7m1IYz",
        "outputId": "482d8a7e-c241-4f24-b94a-7d6216c9868d"
      },
      "execution_count": 11,
      "outputs": [
        {
          "output_type": "execute_result",
          "data": {
            "text/plain": [
              "1000"
            ]
          },
          "metadata": {},
          "execution_count": 11
        }
      ]
    },
    {
      "cell_type": "markdown",
      "source": [
        "#Cleaning Text"
      ],
      "metadata": {
        "id": "uRRBEpQDzt-b"
      }
    },
    {
      "cell_type": "code",
      "source": [
        "import re\n",
        "\n",
        "# to remove all the unnecessary/ useless words from the file nltk is used \n",
        "import nltk\n",
        "\n",
        "nltk.download(\"stopwords\")\n",
        "\n",
        "from nltk.corpus import stopwords\n",
        "\n",
        "# here we are converting the tense of the words\n",
        "# ex : loved -> love\n",
        "from nltk.stem.porter import PorterStemmer\n",
        "\n",
        "corpus = []\n",
        "rawReview = []\n",
        "\n",
        "for i in range(dataSet.shape[0]):\n",
        "  review = re.sub('[^a-zA-Z]', ' ', dataSet['Review'][i])  # here we are using regular expressions to fetch the given string of the line we are iterating in the given file\n",
        "  # we are replacing all the characters except aplhabets in lower and upper case along with emmpty spaces \n",
        "  review = review.lower() # lower all the words\n",
        "  review = review.split() # split the sentence and create a list so that every entity is a string\n",
        "  ps = PorterStemmer()\n",
        "  # after comparison in initial lines we can see that \"not\" is a stopword hence not considering it can lead to wrong review\n",
        "  all_stopwords = set(stopwords.words('english'))\n",
        "  all_stopwords.remove('not')\n",
        "  review = [ps.stem(j) for j in review if j not in all_stopwords] #\n",
        "  review = ' '.join(review)\n",
        "  corpus.append(review)\n",
        "\n"
      ],
      "metadata": {
        "colab": {
          "base_uri": "https://localhost:8080/"
        },
        "id": "5zGPbww8y8SR",
        "outputId": "1c316db9-d4ca-4519-81bb-5cbabf4f9bb8"
      },
      "execution_count": 21,
      "outputs": [
        {
          "output_type": "stream",
          "name": "stdout",
          "text": [
            "[nltk_data] Downloading package stopwords to /root/nltk_data...\n",
            "[nltk_data]   Package stopwords is already up-to-date!\n"
          ]
        }
      ]
    },
    {
      "cell_type": "code",
      "source": [
        "print(dataSet.iloc[:,0].values)"
      ],
      "metadata": {
        "colab": {
          "base_uri": "https://localhost:8080/"
        },
        "id": "rPXSF_ei40O8",
        "outputId": "78f0c047-1341-45bd-8073-d3eb411b39d3"
      },
      "execution_count": 19,
      "outputs": [
        {
          "output_type": "stream",
          "name": "stdout",
          "text": [
            "['Wow... Loved this place.' 'Crust is not good.'\n",
            " 'Not tasty and the texture was just nasty.'\n",
            " 'Stopped by during the late May bank holiday off Rick Steve recommendation and loved it.'\n",
            " 'The selection on the menu was great and so were the prices.'\n",
            " 'Now I am getting angry and I want my damn pho.'\n",
            " \"Honeslty it didn't taste THAT fresh.)\"\n",
            " 'The potatoes were like rubber and you could tell they had been made up ahead of time being kept under a warmer.'\n",
            " 'The fries were great too.' 'A great touch.' 'Service was very prompt.'\n",
            " 'Would not go back.'\n",
            " 'The cashier had no care what so ever on what I had to say it still ended up being wayyy overpriced.'\n",
            " 'I tried the Cape Cod ravoli, chicken, with cranberry...mmmm!'\n",
            " 'I was disgusted because I was pretty sure that was human hair.'\n",
            " 'I was shocked because no signs indicate cash only.'\n",
            " 'Highly recommended.' 'Waitress was a little slow in service.'\n",
            " 'This place is not worth your time, let alone Vegas.'\n",
            " 'did not like at all.' 'The Burrittos Blah!' 'The food, amazing.'\n",
            " 'Service is also cute.'\n",
            " 'I could care less... The interior is just beautiful.'\n",
            " 'So they performed.'\n",
            " \"That's right....the red velvet cake.....ohhh this stuff is so good.\"\n",
            " '- They never brought a salad we asked for.'\n",
            " 'This hole in the wall has great Mexican street tacos, and friendly staff.'\n",
            " 'Took an hour to get our food only 4 tables in restaurant my food was Luke warm, Our sever was running around like he was totally overwhelmed.'\n",
            " 'The worst was the salmon sashimi.'\n",
            " 'Also there are combos like a burger, fries, and beer for 23 which is a decent deal.'\n",
            " 'This was like the final blow!'\n",
            " 'I found this place by accident and I could not be happier.'\n",
            " 'seems like a good quick place to grab a bite of some familiar pub food, but do yourself a favor and look elsewhere.'\n",
            " 'Overall, I like this place a lot.'\n",
            " 'The only redeeming quality of the restaurant was that it was very inexpensive.'\n",
            " 'Ample portions and good prices.'\n",
            " 'Poor service, the waiter made me feel like I was stupid every time he came to the table.'\n",
            " 'My first visit to Hiro was a delight!' 'Service sucks.'\n",
            " 'The shrimp tender and moist.'\n",
            " 'There is not a deal good enough that would drag me into that establishment again.'\n",
            " \"Hard to judge whether these sides were good because we were grossed out by the melted styrofoam and didn't want to eat it for fear of getting sick.\"\n",
            " 'On a positive note, our server was very attentive and provided great service.'\n",
            " 'Frozen pucks of disgust, with some of the worst people behind the register.'\n",
            " 'The only thing I did like was the prime rib and dessert section.'\n",
            " \"It's too bad the food is so damn generic.\"\n",
            " 'The burger is good beef, cooked just right.'\n",
            " 'If you want a sandwich just go to any Firehouse!!!!!'\n",
            " 'My side Greek salad with the Greek dressing was so tasty, and the pita and hummus was very refreshing.'\n",
            " 'We ordered the duck rare and it was pink and tender on the inside with a nice char on the outside.'\n",
            " 'He came running after us when he realized my husband had left his sunglasses on the table.'\n",
            " 'Their chow mein is so good!'\n",
            " \"They have horrible attitudes towards customers, and talk down to each one when customers don't enjoy their food.\"\n",
            " 'The portion was huge!'\n",
            " 'Loved it...friendly servers, great food, wonderful and imaginative menu.'\n",
            " 'The Heart Attack Grill in downtown Vegas is an absolutely flat-lined excuse for a restaurant.'\n",
            " 'Not much seafood and like 5 strings of pasta at the bottom.'\n",
            " 'The salad had just the right amount of sauce to not over power the scallop, which was perfectly cooked.'\n",
            " 'The ripped banana was not only ripped, but petrified and tasteless.'\n",
            " 'At least think to refill my water before I struggle to wave you over for 10 minutes.'\n",
            " 'This place receives stars for their APPETIZERS!!!'\n",
            " 'The cocktails are all handmade and delicious.'\n",
            " \"We'd definitely go back here again.\"\n",
            " 'We are so glad we found this place.'\n",
            " 'Great food and service, huge portions and they give a military discount.'\n",
            " 'Always a great time at Dos Gringos!'\n",
            " 'Update.....went back for a second time and it was still just as amazing'\n",
            " 'We got the food and apparently they have never heard of salt and the batter on the fish was chewy.'\n",
            " 'A great way to finish a great.'\n",
            " 'The deal included 5 tastings and 2 drinks, and Jeff went above and beyond what we expected.'\n",
            " '- Really, really good rice, all the time.' 'The service was meh.'\n",
            " 'It took over 30 min to get their milkshake, which was nothing more than chocolate milk.'\n",
            " \"I guess I should have known that this place would suck, because it is inside of the Excalibur, but I didn't use my common sense.\"\n",
            " 'The scallop dish is quite appalling for value as well.'\n",
            " '2 times - Very Bad Customer Service !'\n",
            " 'The sweet potato fries were very good and seasoned well.'\n",
            " \"Today is the second time I've been to their lunch buffet and it was pretty good.\"\n",
            " 'There is so much good food in Vegas that I feel cheated for wasting an eating opportunity by going to Rice and Company.'\n",
            " \"Coming here is like experiencing an underwhelming relationship where both parties can't wait for the other person to ask to break up.\"\n",
            " 'walked in and the place smelled like an old grease trap and only 2 others there eating.'\n",
            " 'The turkey and roast beef were bland.' 'This place has it!'\n",
            " 'The pan cakes everyone are raving about taste like a sugary disaster tailored to the palate of a six year old.'\n",
            " 'I love the Pho and the spring rolls oh so yummy you have to try.'\n",
            " 'The poor batter to meat ratio made the chicken tenders very unsatisfying.'\n",
            " 'All I have to say is the food was amazing!!!' 'Omelets are to die for!'\n",
            " 'Everything was fresh and delicious!'\n",
            " 'In summary, this was a largely disappointing dining experience.'\n",
            " \"It's like a really sexy party in your mouth, where you're outrageously flirting with the hottest person at the party.\"\n",
            " 'Never been to Hard Rock Casino before, WILL NEVER EVER STEP FORWARD IN IT AGAIN!'\n",
            " 'Best breakfast buffet!!!' 'say bye bye to your tip lady!'\n",
            " \"We'll never go again.\" 'Will be back again!' 'Food arrived quickly!'\n",
            " 'It was not good.' 'On the up side, their cafe serves really good food.'\n",
            " 'Our server was fantastic and when he found out the wife loves roasted garlic and bone marrow, he added extra to our meal and another marrow to go!'\n",
            " \"The only good thing was our waiter, he was very helpful and kept the bloddy mary's coming.\"\n",
            " 'Best Buffet in town, for the price you cannot beat it.'\n",
            " 'I LOVED their mussels cooked in this wine reduction, the duck was tender, and their potato dishes were delicious.'\n",
            " 'This is one of the better buffets that I have been to.'\n",
            " 'So we went to Tigerlilly and had a fantastic afternoon!'\n",
            " 'The food was delicious, our bartender was attentive and personable AND we got a great deal!'\n",
            " 'The ambience is wonderful and there is music playing.'\n",
            " 'Will go back next trip out.' 'Sooooo good!!'\n",
            " \"REAL sushi lovers, let's be honest - Yama is not that good.\"\n",
            " \"At least 40min passed in between us ordering and the food arriving, and it wasn't that busy.\"\n",
            " 'This is a really fantastic Thai restaurant which is definitely worth a visit.'\n",
            " 'Nice, spicy and tender.' 'Good prices.' 'Check it out.'\n",
            " 'It was pretty gross!' \"I've had better atmosphere.\"\n",
            " 'Kind of hard to mess up a steak but they did.'\n",
            " 'Although I very much liked the look and sound of this place, the actual experience was a bit disappointing.'\n",
            " \"I just don't know how this place managed to served the blandest food I have ever eaten when they are preparing Indian cuisine.\"\n",
            " 'Worst service to boot, but that is the least of their worries.'\n",
            " 'Service was fine and the waitress was friendly.'\n",
            " \"The guys all had steaks, and our steak loving son who has had steak at the best and worst places said it was the best steak he's ever eaten.\"\n",
            " \"We thought you'd have to venture further away to get good sushi, but this place really hit the spot that night.\"\n",
            " 'Host staff were, for lack of a better word, BITCHES!'\n",
            " \"Bland... Not a liking this place for a number of reasons and I don't want to waste time on bad reviewing.. I'll leave it at that...\"\n",
            " 'Phenomenal food, service and ambiance.' \"I wouldn't return.\"\n",
            " \"Definitely worth venturing off the strip for the pork belly, will return next time I'm in Vegas.\"\n",
            " 'This place is way too overpriced for mediocre food.'\n",
            " 'Penne vodka excellent!'\n",
            " 'They have a good selection of food including a massive meatloaf sandwich, a crispy chicken wrap, a delish tuna melt and some tasty burgers.'\n",
            " 'The management is rude.'\n",
            " 'Delicious NYC bagels, good selections of cream cheese, real Lox with capers even.'\n",
            " \"Great Subway, in fact it's so good when you come here every other Subway will not meet your expectations.\"\n",
            " 'I had a seriously solid breakfast here.'\n",
            " 'This is one of the best bars with food in Vegas.'\n",
            " 'He was extremely rude and really, there are so many other restaurants I would love to dine at during a weekend in Vegas.'\n",
            " 'My drink was never empty and he made some really great menu suggestions.'\n",
            " \"Don't do it!!!!\"\n",
            " \"The waiter wasn't helpful or friendly and rarely checked on us.\"\n",
            " 'My husband and I ate lunch here and were very disappointed with the food and service.'\n",
            " \"And the red curry had so much bamboo shoots and wasn't very tasty to me.\"\n",
            " 'Nice blanket of moz over top but i feel like this was done to cover up the subpar food.'\n",
            " 'The bathrooms are clean and the place itself is well decorated.'\n",
            " 'The menu is always changing, food quality is going down & service is extremely slow.'\n",
            " 'The service was a little slow , considering that were served by 3 people servers so the food was coming in a slow pace.'\n",
            " 'I give it 2 thumbs down'\n",
            " 'We watched our waiter pay a lot more attention to other tables and ignore us.'\n",
            " 'My fiancé and I came in the middle of the day and we were greeted and seated right away.'\n",
            " 'This is a great restaurant at the Mandalay Bay.'\n",
            " 'We waited for forty five minutes in vain.'\n",
            " 'Crostini that came with the salad was stale.'\n",
            " 'Some highlights : Great quality nigiri here!'\n",
            " 'the staff is friendly and the joint is always clean.'\n",
            " 'this was a different cut than the piece the other day but still wonderful and tender s well as well flavored.'\n",
            " \"I ordered the Voodoo pasta and it was the first time I'd had really excellent pasta since going gluten free several years ago.\"\n",
            " 'this place is good.'\n",
            " 'Unfortunately, we must have hit the bakery on leftover day because everything we ordered was STALE.'\n",
            " 'I came back today since they relocated and still not impressed.'\n",
            " 'I was seated immediately.'\n",
            " 'Their menu is diverse, and reasonably priced.' 'Avoid at all cost!'\n",
            " 'Restaurant is always full but never a wait.' 'DELICIOUS!!'\n",
            " 'This place is hands-down one of the best places to eat in the Phoenix metro area.'\n",
            " \"So don't go there if you are looking for good food...\"\n",
            " \"I've never been treated so bad.\" 'Bacon is hella salty.'\n",
            " 'We also ordered the spinach and avocado salad, the ingredients were sad and the dressing literally had zero taste.'\n",
            " 'This really is how Vegas fine dining used to be, right down to the menus handed to the ladies that have no prices listed.'\n",
            " 'The waitresses are very friendly.'\n",
            " 'Lordy, the Khao Soi is a dish that is not to be missed for curry lovers!'\n",
            " 'Everything on the menu is terrific and we were also thrilled that they made amazing accommodations for our vegetarian daughter.'\n",
            " \"Perhaps I caught them on an off night judging by the other reviews, but I'm not inspired to go back.\"\n",
            " 'The service here leaves a lot to be desired.'\n",
            " 'The atmosphere is modern and hip, while maintaining a touch of coziness.'\n",
            " 'Not a weekly haunt, but definitely a place to come back to every once in a while.'\n",
            " 'We literally sat there for 20 minutes with no one asking to take our order.'\n",
            " 'The burger had absolutely no flavor - the meat itself was totally bland, the burger was overcooked and there was no charcoal flavor.'\n",
            " 'I also decided not to send it back because our waitress looked like she was on the verge of having a heart attack.'\n",
            " 'I dressed up to be treated so rudely!' 'It was probably dirt.'\n",
            " 'Love this place, hits the spot when I want something healthy but not lacking in quantity or flavor.'\n",
            " 'I ordered the Lemon raspberry ice cocktail which was also incredible.'\n",
            " 'The food sucked, which we expected but it sucked more than we could have imagined.'\n",
            " 'Interesting decor.' 'What I really like there is the crepe station.'\n",
            " 'Also were served hot bread and butter, and home made potato chips with bacon bits on top....very original and very good.'\n",
            " 'you can watch them preparing the delicious food!)'\n",
            " 'Both of the egg rolls were fantastic.'\n",
            " 'When my order arrived, one of the gyros was missing.'\n",
            " 'I had a salad with the wings, and some ice cream for dessert and left feeling quite satisfied.'\n",
            " \"I'm not really sure how Joey's was voted best hot dog in the Valley by readers of Phoenix Magazine.\"\n",
            " 'The best place to go for a tasty bowl of Pho!'\n",
            " 'The live music on Fridays totally blows.'\n",
            " \"I've never been more insulted or felt disrespected.\"\n",
            " 'Very friendly staff.' 'It is worth the drive.'\n",
            " 'I had heard good things about this place, but it exceeding every hope I could have dreamed of.'\n",
            " 'Food was great and so was the serivce!' \"The warm beer didn't help.\"\n",
            " 'Great brunch spot.' 'Service is friendly and inviting.'\n",
            " 'Very good lunch spot.'\n",
            " \"I've lived here since 1979 and this was the first (and last) time I've stepped foot into this place.\"\n",
            " 'The WORST EXPERIENCE EVER.' 'Must have been an off night at this place.'\n",
            " 'The sides are delish - mixed mushrooms, yukon gold puree, white corn - beateous.'\n",
            " 'If that bug never showed up I would have given a 4 for sure, but on the other side of the wall where this bug was climbing was the kitchen.'\n",
            " \"For about 10 minutes, we we're waiting for her salad when we realized that it wasn't coming any time soon.\"\n",
            " 'My friend loved the salmon tartar.' \"Won't go back.\" 'Extremely Tasty!'\n",
            " 'Waitress was good though!' 'Soggy and not good.'\n",
            " 'The Jamaican mojitos are delicious.'\n",
            " 'Which are small and not worth the price.'\n",
            " '- the food is rich so order accordingly.'\n",
            " \"The shower area is outside so you can only rinse, not take a full shower, unless you don't mind being nude for everyone to see!\"\n",
            " 'The service was a bit lacking.'\n",
            " 'Lobster Bisque, Bussell Sprouts, Risotto, Filet ALL needed salt and pepper..and of course there is none at the tables.'\n",
            " 'Hopefully this bodes for them going out of business and someone who can cook can come in.'\n",
            " 'It was either too cold, not enough flavor or just bad.'\n",
            " 'I loved the bacon wrapped dates.' 'This is an unbelievable BARGAIN!'\n",
            " 'The folks at Otto always make us feel so welcome and special.'\n",
            " 'As for the \"mains,\" also uninspired.'\n",
            " 'This is the place where I first had pho and it was amazing!!'\n",
            " 'This wonderful experience made this place a must-stop whenever we are in town again.'\n",
            " \"If the food isn't bad enough for you, then enjoy dealing with the world's worst/annoying drunk people.\"\n",
            " 'Very very fun chef.'\n",
            " 'Ordered a double cheeseburger & got a single patty that was falling apart (picture uploaded) Yeah, still sucks.'\n",
            " \"Great place to have a couple drinks and watch any and all sporting events as the walls are covered with TV's.\"\n",
            " \"If it were possible to give them zero stars, they'd have it.\"\n",
            " 'The descriptions said \"yum yum sauce\" and another said \"eel sauce\", yet another said \"spicy mayo\"...well NONE of the rolls had sauces on them.'\n",
            " \"I'd say that would be the hardest decision... Honestly, all of M's dishes taste how they are supposed to taste (amazing).\"\n",
            " 'If she had not rolled the eyes we may have stayed... Not sure if we will go back and try it again.'\n",
            " 'Everyone is very attentive, providing excellent customer service.'\n",
            " \"Horrible - don't waste your time and money.\"\n",
            " 'Now this dish was quite flavourful.'\n",
            " 'By this time our side of the restaurant was almost empty so there was no excuse.'\n",
            " \"(It wasn't busy either) Also, the building was FREEZING cold.\"\n",
            " 'like the other reviewer said \"you couldn\\'t pay me to eat at this place again.\"'\n",
            " '-Drinks took close to 30 minutes to come out at one point.'\n",
            " 'Seriously flavorful delights, folks.'\n",
            " 'Much better than the other AYCE sushi place I went to in Vegas.'\n",
            " 'The lighting is just dark enough to set the mood.'\n",
            " \"Based on the sub-par service I received and no effort to show their gratitude for my business I won't be going back.\"\n",
            " \"Owner's are really great people.!\"\n",
            " 'There is nothing privileged about working/eating there.'\n",
            " 'The Greek dressing was very creamy and flavorful.'\n",
            " \"Overall, I don't think that I would take my parents to this place again because they made most of the similar complaints that I silently felt too.\"\n",
            " 'Now the pizza itself was good the peanut sauce was very tasty.'\n",
            " 'We had 7 at our table and the service was pretty fast.'\n",
            " 'Fantastic service here.'\n",
            " \"I as well would've given godfathers zero stars if possible.\"\n",
            " 'They know how to make them here.' 'very tough and very short on flavor!'\n",
            " 'I hope this place sticks around.'\n",
            " 'I have been in more than a few bars in Vegas, and do not ever recall being charged for tap water.'\n",
            " 'The restaurant atmosphere was exquisite.'\n",
            " 'Good service, very clean, and inexpensive, to boot!'\n",
            " 'The seafood was fresh and generous in portion.'\n",
            " \"Plus, it's only 8 bucks.\" 'The service was not up to par, either.'\n",
            " 'Thus far, have only visited twice and the food was absolutely delicious each time.'\n",
            " 'Just as good as when I had it more than a year ago!'\n",
            " 'For a self proclaimed coffee cafe, I was wildly disappointed.'\n",
            " 'The Veggitarian platter is out of this world!'\n",
            " 'You cant go wrong with any of the food here.' \"You can't beat that.\"\n",
            " 'Stopped by this place while in Madison for the Ironman, very friendly, kind staff.'\n",
            " 'The chefs were friendly and did a good job.'\n",
            " \"I've had better, not only from dedicated boba tea spots, but even from Jenni Pho.\"\n",
            " 'I liked the patio and the service was outstanding.'\n",
            " \"The goat taco didn't skimp on the meat and wow what FLAVOR!\"\n",
            " 'I think not again'\n",
            " 'I had the mac salad and it was pretty bland so I will not be getting that again.'\n",
            " \"I went to Bachi Burger on a friend's recommendation and was not disappointed.\"\n",
            " 'Service stinks here!' 'I waited and waited.'\n",
            " 'This place is not quality sushi, it is not a quality restaurant.'\n",
            " 'I would definitely recommend the wings as well as the pizza.'\n",
            " 'Great Pizza and Salads!'\n",
            " 'Things that went wrong: - They burned the saganaki.'\n",
            " 'We waited an hour for what was a breakfast I could have done 100 times better at home.'\n",
            " 'This place is amazing!'\n",
            " 'I hate to disagree with my fellow Yelpers, but my husband and I were so disappointed with this place.'\n",
            " 'Waited 2 hours & never got either of our pizzas as many other around us who came in later did!'\n",
            " \"Just don't know why they were so slow.\"\n",
            " 'The staff is great, the food is delish, and they have an incredible beer selection.'\n",
            " \"I live in the neighborhood so I am disappointed I won't be back here, because it is a convenient location.\"\n",
            " \"I didn't know pulled pork could be soooo delicious.\"\n",
            " 'You get incredibly fresh fish, prepared with care.'\n",
            " 'Before I go in to why I gave a 1 star rating please know that this was my third time eating at Bachi burger before writing a review.'\n",
            " 'I love the fact that everything on their menu is worth it.'\n",
            " 'Never again will I be dining at this place!'\n",
            " 'The food was excellent and service was very good.'\n",
            " 'Good beer & drink selection and good food selection.'\n",
            " 'Please stay away from the shrimp stir fried noodles.'\n",
            " 'The potato chip order was sad... I could probably count how many chips were in that box and it was probably around 12.'\n",
            " 'Food was really boring.' 'Good Service-check!'\n",
            " 'This greedy corporation will NEVER see another dime from me!'\n",
            " 'Will never, ever go back.'\n",
            " \"As much as I'd like to go back, I can't get passed the atrocious service and will never return.\"\n",
            " 'In the summer, you can dine in a charming outdoor patio - so very delightful.'\n",
            " 'I did not expect this to be so good!' 'Fantastic food!'\n",
            " 'She ordered a toasted English muffin that came out untoasted.'\n",
            " 'The food was very good.' 'Never going back.'\n",
            " 'Great food for the price, which is very high quality and house made.'\n",
            " 'The bus boy on the other hand was so rude.'\n",
            " \"By this point, my friends and I had basically figured out this place was a joke and didn't mind making it publicly and loudly known.\"\n",
            " 'Back to good BBQ, lighter fare, reasonable pricing and tell the public they are back to the old ways.'\n",
            " \"And considering the two of us left there very full and happy for about $20, you just can't go wrong.\"\n",
            " 'All the bread is made in-house!' 'The only downside is the service.'\n",
            " \"Also, the fries are without a doubt the worst fries I've ever had.\"\n",
            " 'Service was exceptional and food was a good as all the reviews.'\n",
            " 'A couple of months later, I returned and had an amazing meal.'\n",
            " 'Favorite place in town for shawarrrrrrma!!!!!!'\n",
            " 'The black eyed peas and sweet potatoes... UNREAL!'\n",
            " \"You won't be disappointed.\"\n",
            " 'They could serve it with just the vinaigrette and it may make for a better overall dish, but it was still very good.'\n",
            " \"I go to far too many places and I've never seen any restaurant that serves a 1 egg breakfast, especially for $4.00.\"\n",
            " 'When my mom and I got home she immediately got sick and she only had a few bites of salad.'\n",
            " \"The servers are not pleasant to deal with and they don't always honor Pizza Hut coupons.\"\n",
            " 'Both of them were truly unbelievably good, and I am so glad we went back.'\n",
            " 'We had fantastic service, and were pleased by the atmosphere.'\n",
            " 'Everything was gross.' 'I love this place.' 'Great service and food.'\n",
            " 'First - the bathrooms at this location were dirty- Seat covers were not replenished & just plain yucky!!!'\n",
            " 'The burger... I got the \"Gold Standard\" a $17 burger and was kind of disappointed.'\n",
            " 'OMG, the food was delicioso!'\n",
            " 'There is nothing authentic about this place.'\n",
            " 'the spaghetti is nothing special whatsoever.'\n",
            " 'Of all the dishes, the salmon was the best, but all were great.'\n",
            " 'The vegetables are so fresh and the sauce feels like authentic Thai.'\n",
            " \"It's worth driving up from Tucson!\"\n",
            " \"The selection was probably the worst I've seen in Vegas.....there was none.\"\n",
            " 'Pretty good beer selection too.'\n",
            " 'This place is like Chipotle, but BETTER.'\n",
            " 'Classy/warm atmosphere, fun and fresh appetizers, succulent steaks (Baseball steak!!!!!'\n",
            " '5 stars for the brick oven bread app!'\n",
            " 'I have eaten here multiple times, and each time the food was delicious.'\n",
            " 'We sat another ten minutes and finally gave up and left.'\n",
            " 'He was terrible!' 'Everyone is treated equally special.'\n",
            " \"It shouldn't take 30 min for pancakes and eggs.\" 'It was delicious!!!'\n",
            " 'On the good side, the staff was genuinely pleasant and enthusiastic - a real treat.'\n",
            " \"Sadly, Gordon Ramsey's Steak is a place we shall sharply avoid during our next trip to Vegas.\"\n",
            " 'As always the evening was wonderful and the food delicious!'\n",
            " \"Best fish I've ever had in my life!\"\n",
            " '(The bathroom is just next door and very nice.)'\n",
            " 'The buffet is small and all the food they offered was BLAND.'\n",
            " 'This is an Outstanding little restaurant with some of the Best Food I have ever tasted.'\n",
            " 'Pretty cool I would say.'\n",
            " \"Definitely a turn off for me & i doubt I'll be back unless someone else is buying.\"\n",
            " 'Server did a great job handling our large rowdy table.'\n",
            " \"I find wasting food to be despicable, but this just wasn't food.\"\n",
            " 'My wife had the Lobster Bisque soup which was lukewarm.'\n",
            " 'Would come back again if I had a sushi craving while in Vegas.'\n",
            " 'The staff are great, the ambiance is great.' 'He deserves 5 stars.'\n",
            " 'I left with a stomach ache and felt sick the rest of the day.'\n",
            " 'They dropped more than the ball.'\n",
            " 'The dining space is tiny, but elegantly decorated and comfortable.'\n",
            " \"They will customize your order any way you'd like, my usual is Eggplant with Green Bean stir fry, love it!\"\n",
            " 'And the beans and rice were mediocre at best.'\n",
            " 'Best tacos in town by far!!' 'I took back my money and got outta there.'\n",
            " 'In an interesting part of town, this place is amazing.'\n",
            " 'RUDE & INCONSIDERATE MANAGEMENT.'\n",
            " 'The staff are now not as friendly, the wait times for being served are horrible, no one even says hi for the first 10 minutes.'\n",
            " \"I won't be back.\" 'They have great dinners.'\n",
            " 'The service was outshining & I definitely recommend the Halibut.'\n",
            " 'The food was terrible.'\n",
            " 'WILL NEVER EVER GO BACK AND HAVE TOLD MANY PEOPLE WHAT HAD HAPPENED.'\n",
            " \"I don't recommend unless your car breaks down in front of it and you are starving.\"\n",
            " \"I will come back here every time I'm in Vegas.\"\n",
            " 'This place deserves one star and 90% has to do with the food.'\n",
            " 'This is a disgrace.' 'Def coming back to bowl next time'\n",
            " 'If you want healthy authentic or ethic food, try this place.'\n",
            " 'I will continue to come here on ladies night andddd date night ... highly recommend this place to anyone who is in the area.'\n",
            " 'I have been here several times in the past, and the experience has always been great.'\n",
            " 'We walked away stuffed and happy about our first Vegas buffet experience.'\n",
            " 'Service was excellent and prices are pretty reasonable considering this is Vegas and located inside the Crystals shopping mall by Aria.'\n",
            " 'To summarize... the food was incredible, nay, transcendant... but nothing brings me joy quite like the memory of the pneumatic condiment dispenser.'\n",
            " \"I'm probably one of the few people to ever go to Ians and not like it.\"\n",
            " 'Kids pizza is always a hit too with lots of great side dish options for the kiddos!'\n",
            " 'Service is perfect and the family atmosphere is nice to see.'\n",
            " 'Cooked to perfection and the service was impeccable.'\n",
            " 'This one is simply a disappointment.'\n",
            " 'Overall, I was very disappointed with the quality of food at Bouchon.'\n",
            " \"I don't have to be an accountant to know I'm getting screwed!\"\n",
            " 'Great place to eat, reminds me of the little mom and pop shops in the San Francisco Bay Area.'\n",
            " 'Today was my first taste of a Buldogis Gourmet Hot Dog and I have to tell you it was more than I ever thought possible.'\n",
            " 'Left very frustrated.' \"I'll definitely be in soon again.\"\n",
            " 'Food was really good and I got full petty fast.'\n",
            " 'Service was fantastic.' 'TOTAL WASTE OF TIME.'\n",
            " \"I don't know what kind it is but they have the best iced tea.\"\n",
            " 'Come hungry, leave happy and stuffed!'\n",
            " 'For service, I give them no stars.'\n",
            " \"I can assure you that you won't be disappointed.\"\n",
            " 'I can take a little bad service but the food sucks.'\n",
            " 'Gave up trying to eat any of the crust (teeth still sore).'\n",
            " 'But now I was completely grossed out.' 'I really enjoyed eating here.'\n",
            " 'First time going but I think I will quickly become a regular.'\n",
            " 'Our server was very nice, and even though he looked a little overwhelmed with all of our needs, he stayed professional and friendly until the end.'\n",
            " 'From what my dinner companions told me...everything was very fresh with nice texture and taste.'\n",
            " 'On the ground, right next to our table was a large, smeared, been-stepped-in-and-tracked-everywhere pile of green bird poop.'\n",
            " \"Furthermore, you can't even find hours of operation on the website!\"\n",
            " \"We've tried to like this place but after 10+ times I think we're done with them.\"\n",
            " 'What a mistake that was!' 'No complaints!'\n",
            " \"This is some seriously good pizza and I'm an expert/connisseur on the topic.\"\n",
            " 'Waiter was a jerk.' 'Strike 2, who wants to be rushed.'\n",
            " \"These are the nicest restaurant owners I've ever come across.\"\n",
            " 'I never come again.' 'We loved the biscuits!!!'\n",
            " 'Service is quick and friendly.'\n",
            " 'Ordered an appetizer and took 40 minutes and then the pizza another 10 minutes.'\n",
            " 'So absolutley fantastic.'\n",
            " 'It was a huge awkward 1.5lb piece of cow that was 3/4ths gristle and fat.'\n",
            " 'definitely will come back here again.'\n",
            " \"I like Steiners because it's dark and it feels like a bar.\"\n",
            " 'Wow very spicy but delicious.' \"If you're not familiar, check it out.\"\n",
            " \"I'll take my business dinner dollars elsewhere.\" \"I'd love to go back.\"\n",
            " 'Anyway, this FS restaurant has a wonderful breakfast/lunch.'\n",
            " 'Nothing special.'\n",
            " \"Each day of the week they have a different deal and it's all so delicious!\"\n",
            " 'Not to mention the combination of pears, almonds and bacon is a big winner!'\n",
            " 'Will not be back.' 'Sauce was tasteless.'\n",
            " 'The food is delicious and just spicy enough, so be sure to ask for spicier if you prefer it that way.'\n",
            " 'My ribeye steak was cooked perfectly and had great mesquite flavor.'\n",
            " \"I don't think we'll be going back anytime soon.\" 'Food was so gooodd.'\n",
            " 'I am far from a sushi connoisseur but I can definitely tell the difference between good food and bad food and this was certainly bad food.'\n",
            " 'I was so insulted.' 'The last 3 times I had lunch here has been bad.'\n",
            " 'The chicken wings contained the driest chicken meat I have ever eaten.'\n",
            " 'The food was very good and I enjoyed every mouthful, an enjoyable relaxed venue for couples small family groups etc.'\n",
            " 'Nargile - I think you are great.' 'Best tater tots in the southwest.'\n",
            " 'We loved the place.' 'Definitely not worth the $3 I paid.'\n",
            " 'The vanilla ice cream was creamy and smooth while the profiterole (choux) pastry was fresh enough.'\n",
            " 'Im in AZ all the time and now have my new spot.'\n",
            " 'The manager was the worst.'\n",
            " 'The inside is really quite nice and very clean.'\n",
            " 'The food was outstanding and the prices were very reasonable.'\n",
            " \"I don't think I'll be running back to Carly's anytime soon for food.\"\n",
            " 'This is was due to the fact that it took 20 minutes to be acknowledged, then another 35 minutes to get our food...and they kept forgetting things.'\n",
            " 'Love the margaritas, too!'\n",
            " 'This was my first and only Vegas buffet and it did not disappoint.'\n",
            " 'Very good, though!'\n",
            " 'The one down note is the ventilation could use some upgrading.'\n",
            " 'Great pork sandwich.' \"Don't waste your time here.\"\n",
            " 'Total letdown, I would much rather just go to the Camelback Flower Shop and Cartel Coffee.'\n",
            " \"Third, the cheese on my friend's burger was cold.\"\n",
            " 'We enjoy their pizza and brunch.'\n",
            " 'The steaks are all well trimmed and also perfectly cooked.'\n",
            " 'We had a group of 70+ when we claimed we would only have 40 and they handled us beautifully.'\n",
            " 'I LOVED it!'\n",
            " \"We asked for the bill to leave without eating and they didn't bring that either.\"\n",
            " \"This place is a jewel in Las Vegas, and exactly what I've been hoping to find in nearly ten years living here.\"\n",
            " 'Seafood was limited to boiled shrimp and crab legs but the crab legs definitely did not taste fresh.'\n",
            " 'The selection of food was not the best.'\n",
            " 'Delicious and I will absolutely be back!'\n",
            " \"This isn't a small family restaurant, this is a fine dining establishment.\"\n",
            " 'They had a toro tartare with a cavier that was extraordinary and I liked the thinly sliced wagyu with white truffle.'\n",
            " 'I dont think I will be back for a very long time.'\n",
            " 'It was attached to a gas station, and that is rarely a good sign.'\n",
            " 'How awesome is that.' 'I will be back many times soon.'\n",
            " 'The menu had so much good stuff on it i could not decide!'\n",
            " 'Worse of all, he humiliated his worker right in front of me..Bunch of horrible name callings.'\n",
            " 'CONCLUSION: Very filling meals.'\n",
            " 'Their daily specials are always a hit with my group.'\n",
            " 'And then tragedy struck.'\n",
            " 'The pancake was also really good and pretty large at that.'\n",
            " 'This was my first crawfish experience, and it was delicious!'\n",
            " 'Their monster chicken fried steak and eggs is my all time favorite.'\n",
            " 'Waitress was sweet and funny.'\n",
            " \"I also had to taste my Mom's multi-grain pumpkin pancakes with pecan butter and they were amazing, fluffy, and delicious!\"\n",
            " \"I'd rather eat airline food, seriously.\"\n",
            " 'Cant say enough good things about this place.'\n",
            " 'The ambiance was incredible.'\n",
            " 'The waitress and manager are so friendly.'\n",
            " 'I would not recommend this place.'\n",
            " \"Overall I wasn't very impressed with Noca.\"\n",
            " 'My gyro was basically lettuce only.' 'Terrible service!'\n",
            " 'Thoroughly disappointed!'\n",
            " \"I don't each much pasta, but I love the homemade /hand made pastas and thin pizzas here.\"\n",
            " 'Give it a try, you will be happy you did.'\n",
            " 'By far the BEST cheesecurds we have ever had!' 'Reasonably priced also!'\n",
            " 'Everything was perfect the night we were in.'\n",
            " 'The food is very good for your typical bar food.'\n",
            " 'it was a drive to get there.'\n",
            " 'At first glance it is a lovely bakery cafe - nice ambiance, clean, friendly staff.'\n",
            " 'Anyway, I do not think i will go back there.'\n",
            " \"Point your finger at any item on the menu, order it and you won't be disappointed.\"\n",
            " 'Oh this is such a thing of beauty, this restaurant.'\n",
            " \"If you haven't gone here GO NOW!\" 'A greasy, unhealthy meal.'\n",
            " 'first time there and might just be the last.'\n",
            " 'Those burgers were amazing.'\n",
            " 'Similarly, the delivery man did not say a word of apology when our food was 45 minutes late.'\n",
            " 'And it was way to expensive.'\n",
            " 'Be sure to order dessert, even if you need to pack it to-go - the tiramisu and cannoli are both to die for.'\n",
            " \"This was my first time and I can't wait until the next.\"\n",
            " 'The bartender was also nice.' 'Everything was good and tasty!'\n",
            " 'This place is two thumbs up....way up.'\n",
            " 'The best place in Vegas for breakfast (just check out a Sat, or Sun.'\n",
            " 'If you love authentic Mexican food and want a whole bunch of interesting, yet delicious meats to choose from, you need to try this place.'\n",
            " 'Terrible management.'\n",
            " 'An excellent new restaurant by an experienced Frenchman.'\n",
            " 'If there were zero stars I would give it zero stars.'\n",
            " 'Great steak, great sides, great wine, amazing desserts.'\n",
            " 'Worst martini ever!'\n",
            " 'The steak and the shrimp are in my opinion the best entrees at GC.'\n",
            " 'I had the opportunity today to sample your amazing pizzas!'\n",
            " 'We waited for thirty minutes to be seated (although there were 8 vacant tables and we were the only folks waiting).'\n",
            " 'The yellowtail carpaccio was melt in your mouth fresh.'\n",
            " \"I won't try going back there even if it's empty.\"\n",
            " \"No, I'm going to eat the potato that I found some strangers hair in it.\"\n",
            " 'Just spicy enough.. Perfect actually.'\n",
            " 'Last night was my second time dining here and I was so happy I decided to go back!'\n",
            " 'not even a \"hello, we will be right with you.\"'\n",
            " 'The desserts were a bit strange.'\n",
            " 'My boyfriend and I came here for the first time on a recent trip to Vegas and could not have been more pleased with the quality of food and service.'\n",
            " 'I really do recommend this place, you can go wrong with this donut place!'\n",
            " 'Nice ambiance.' 'I would recommend saving room for this!'\n",
            " 'I guess maybe we went on an off night but it was disgraceful.'\n",
            " 'However, my recent experience at this particular location was not so good.'\n",
            " 'I know this is not like the other restaurants at all, something is very off here!'\n",
            " 'AVOID THIS ESTABLISHMENT!'\n",
            " 'I think this restaurant suffers from not trying hard enough.'\n",
            " 'All of the tapas dishes were delicious!' 'I *heart* this place.'\n",
            " 'My salad had a bland vinegrette on the baby greens and hearts of Palm.'\n",
            " 'After two I felt disgusting.' 'A good time!'\n",
            " 'I believe that this place is a great stop for those with a huge belly and hankering for sushi.'\n",
            " 'Generous portions and great taste.'\n",
            " 'I will never go back to this place and will never ever recommended this place to anyone!'\n",
            " 'The servers went back and forth several times, not even so much as an \"Are you being helped?\"'\n",
            " 'Food was delicious!' 'AN HOUR... seriously?' 'I consider this theft.'\n",
            " 'Eew... This location needs a complete overhaul.'\n",
            " 'We recently witnessed her poor quality of management towards other guests as well.'\n",
            " 'Waited and waited and waited.'\n",
            " 'He also came back to check on us regularly, excellent service.'\n",
            " 'Our server was super nice and checked on us many times.'\n",
            " 'The pizza tasted old, super chewy in not a good way.'\n",
            " 'I swung in to give them a try but was deeply disappointed.'\n",
            " 'Service was good and the company was better!'\n",
            " 'The staff are also very friendly and efficient.'\n",
            " \"As for the service: I'm a fan, because it's quick and you're being served by some nice folks.\"\n",
            " 'Boy was that sucker dry!!.' 'Over rated.'\n",
            " 'If you look for authentic Thai food, go else where.'\n",
            " 'Their steaks are 100% recommended!'\n",
            " 'After I pulled up my car I waited for another 15 minutes before being acknowledged.'\n",
            " 'Great food and great service in a clean and friendly setting.'\n",
            " \"All in all, I can assure you I'll be back.\"\n",
            " 'I hate those things as much as cheap quality black olives.'\n",
            " 'My breakfast was perpared great, with a beautiful presentation of 3 giant slices of Toast, lightly dusted with powdered sugar.'\n",
            " 'The kids play area is NASTY!' 'Great place fo take out or eat in.'\n",
            " 'The waitress was friendly and happy to accomodate for vegan/veggie options.'\n",
            " 'OMG I felt like I had never eaten Thai food until this dish.'\n",
            " 'It was extremely \"crumby\" and pretty tasteless.'\n",
            " 'It was a pale color instead of nice and char and has NO flavor.'\n",
            " 'The croutons also taste homemade which is an extra plus.'\n",
            " 'I got home to see the driest damn wings ever!'\n",
            " \"It'll be a regular stop on my trips to Phoenix!\"\n",
            " 'I really enjoyed Crema Café before they expanded. I even told friends they had the BEST breakfast.'\n",
            " 'Not good for the money.'\n",
            " 'I miss it and wish they had one in Philadelphia!'\n",
            " 'We got sitting fairly fast, but, ended up waiting 40 minutes just to place our order, another 30 minutes before the food arrived.'\n",
            " 'They also have the best cheese crisp in town.'\n",
            " 'Good value, great food, great service.'\n",
            " \"Couldn't ask for a more satisfying meal.\" 'The food is good.'\n",
            " 'It was awesome.' 'I just wanted to leave.'\n",
            " 'We made the drive all the way from North Scottsdale... and I was not one bit disappointed!'\n",
            " 'I will not be eating there again.'\n",
            " '!....THE OWNERS REALLY REALLY need to quit being soooooo cheap let them wrap my freaking sandwich in two papers not one!'\n",
            " 'I checked out this place a couple years ago and was not impressed.'\n",
            " 'The chicken I got was definitely reheated and was only ok, the wedges were cold and soggy.'\n",
            " 'Sorry, I will not be getting food from here anytime soon :('\n",
            " 'An absolute must visit!' 'The cow tongue and cheek tacos are amazing.'\n",
            " 'My friend did not like his Bloody Mary.'\n",
            " 'Despite how hard I rate businesses, its actually rare for me to give a 1 star.'\n",
            " 'They really want to make your experience a good one.'\n",
            " 'I will not return.' 'I had the chicken Pho and it tasted very bland.'\n",
            " 'Very disappointing!!!'\n",
            " 'The grilled chicken was so tender and yellow from the saffron seasoning.'\n",
            " 'a drive thru means you do not want to wait around for half an hour for your food, but somehow when we end up going here they make us wait and wait.'\n",
            " 'Pretty awesome place.' 'Ambience is perfect.'\n",
            " 'Best of luck to the rude and non-customer service focused new management.'\n",
            " 'Any grandmother can make a roasted chicken better than this one.'\n",
            " 'I asked multiple times for the wine list and after some time of being ignored I went to the hostess and got one myself.'\n",
            " 'The staff is always super friendly and helpful, which is especially cool when you bring two small boys and a baby!'\n",
            " 'Four stars for the food & the guy in the blue shirt for his great vibe & still letting us in to eat !'\n",
            " 'The roast beef sandwich tasted really good!'\n",
            " 'Same evening, him and I are both drastically sick.'\n",
            " 'High-quality chicken on the chicken Caesar salad.'\n",
            " \"Ordered burger rare came in we'll done.\"\n",
            " 'We were promptly greeted and seated.'\n",
            " 'Tried to go here for lunch and it was a madhouse.'\n",
            " 'I was proven dead wrong by this sushi bar, not only because the quality is great, but the service is fast and the food, impeccable.'\n",
            " 'After waiting an hour and being seated, I was not in the greatest of moods.'\n",
            " 'This is a good joint.' 'The Macarons here are insanely good.'\n",
            " \"I'm not eating here!\"\n",
            " 'Our waiter was very attentive, friendly, and informative.'\n",
            " \"Maybe if they weren't cold they would have been somewhat edible.\"\n",
            " 'This place has a lot of promise but fails to deliver.'\n",
            " 'Very bad Experience!' 'What a mistake.' 'Food was average at best.'\n",
            " 'Great food.' \"We won't be going back anytime soon!\"\n",
            " 'Very Very Disappointed ordered the $35 Big Bay Plater.'\n",
            " 'Great place to relax and have an awesome burger and beer.'\n",
            " 'It is PERFECT for a sit-down family meal or get together with a few friends.'\n",
            " 'Not much flavor to them, and very poorly constructed.'\n",
            " 'The patio seating was very comfortable.'\n",
            " 'The fried rice was dry as well.'\n",
            " 'Hands down my favorite Italian restaurant!'\n",
            " 'That just SCREAMS \"LEGIT\" in my book...somethat\\'s also pretty rare here in Vegas.'\n",
            " 'It was just not a fun experience.'\n",
            " 'The atmosphere was great with a lovely duo of violinists playing songs we requested.'\n",
            " \"I personally love the hummus, pita, baklava, falafels and Baba Ganoush (it's amazing what they do with eggplant!).\"\n",
            " 'Very convenient, since we were staying at the MGM!'\n",
            " 'The owners are super friendly and the staff is courteous.' 'Both great!'\n",
            " 'Eclectic selection.'\n",
            " 'The sweet potato tots were good but the onion rings were perfection or as close as I have had.'\n",
            " 'The staff was very attentive.'\n",
            " 'And the chef was generous with his time (even came around twice so we can take pictures with him).'\n",
            " 'The owner used to work at Nobu, so this place is really similar for half the price.'\n",
            " 'Google mediocre and I imagine Smashburger will pop up.' 'dont go here.'\n",
            " \"I promise they won't disappoint.\"\n",
            " 'As a sushi lover avoid this place by all means.'\n",
            " 'What a great double cheeseburger!' 'Awesome service and food.'\n",
            " 'A fantastic neighborhood gem !!!' \"I can't wait to go back.\"\n",
            " \"The plantains were the worst I've ever tasted.\"\n",
            " \"It's a great place and I highly recommend it.\"\n",
            " 'Service was slow and not attentive.'\n",
            " \"I gave it 5 stars then, and I'm giving it 5 stars now.\"\n",
            " 'Your staff spends more time talking to themselves than me.'\n",
            " 'Dessert: Panna Cotta was amazing.' 'Very good food, great atmosphere.1'\n",
            " 'Damn good steak.' 'Total brunch fail.'\n",
            " 'Prices are very reasonable, flavors are spot on, the sauce is home made, and the slaw is not drenched in mayo.'\n",
            " 'The decor is nice, and the piano music soundtrack is pleasant.'\n",
            " 'The steak was amazing...rge fillet relleno was the best seafood plate i have ever had!'\n",
            " 'Good food , good service .' 'It was absolutely amazing.'\n",
            " \"I probably won't be back, to be honest.\" 'will definitely be back!'\n",
            " 'The sergeant pepper beef sandwich with auju sauce is an excellent sandwich as well.'\n",
            " \"Hawaiian Breeze, Mango Magic, and Pineapple Delight are the smoothies that I've tried so far and they're all good.\"\n",
            " 'Went for lunch - service was slow.'\n",
            " 'We had so much to say about the place before we walked in that he expected it to be amazing, but was quickly disappointed.'\n",
            " 'I was mortified.' 'Needless to say, we will never be back here again.'\n",
            " 'Anyways, The food was definitely not filling at all, and for the price you pay you should expect more.'\n",
            " 'The chips that came out were dripping with grease, and mostly not edible.'\n",
            " \"I wasn't really impressed with Strip Steak.\"\n",
            " 'Have been going since 2007 and every meal has been awesome!!'\n",
            " 'Our server was very nice and attentive as were the other serving staff.'\n",
            " 'The cashier was friendly and even brought the food out to me.'\n",
            " 'I work in the hospitality industry in Paradise Valley and have refrained from recommending Cibo any longer.'\n",
            " 'The atmosphere here is fun.' 'Would not recommend to others.'\n",
            " 'Service is quick and even \"to go\" orders are just like we like it!'\n",
            " \"I mean really, how do you get so famous for your fish and chips when it's so terrible!?!\"\n",
            " 'That said, our mouths and bellies were still quite pleased.'\n",
            " 'Not my thing.' '2 Thumbs Up!!'\n",
            " \"If you are reading this please don't go there.\"\n",
            " 'I loved the grilled pizza, reminded me of legit Italian pizza.'\n",
            " 'Only Pros : Large seating area/ Nice bar area/ Great simple drink menu/ The BEST brick oven pizza with homemade dough!'\n",
            " 'They have a really nice atmosphere.'\n",
            " 'Tonight I had the Elk Filet special...and it sucked.'\n",
            " 'After one bite, I was hooked.'\n",
            " 'We ordered some old classics and some new dishes after going there a few times and were sorely disappointed with everything.'\n",
            " 'Cute, quaint, simple, honest.'\n",
            " 'The chicken was deliciously seasoned and had the perfect fry on the outside and moist chicken on the inside.'\n",
            " 'The food was great as always, compliments to the chef.'\n",
            " 'Special thanks to Dylan T. for the recommendation on what to order :) All yummy for my tummy.'\n",
            " 'Awesome selection of beer.' 'Great food and awesome service!'\n",
            " \"One nice thing was that they added gratuity on the bill since our party was larger than 6 or 8, and they didn't expect more tip than that.\"\n",
            " 'A FLY was in my apple juice.. A FLY!!!!!!!!'\n",
            " 'The Han Nan Chicken was also very tasty.'\n",
            " 'As for the service, I thought it was good.'\n",
            " 'The food was barely lukewarm, so it must have been sitting waiting for the server to bring it out to us.'\n",
            " \"Ryan's Bar is definitely one Edinburgh establishment I won't be revisiting.\"\n",
            " \"Nicest Chinese restaurant I've been in a while.\"\n",
            " 'Overall, I like there food and the service.'\n",
            " 'They also now serve Indian naan bread with hummus and some spicy pine nut sauce that was out of this world.'\n",
            " \"Probably never coming back, and wouldn't recommend it.\"\n",
            " \"Friend's pasta -- also bad, he barely touched it.\"\n",
            " 'Try them in the airport to experience some tasty food and speedy, friendly service.'\n",
            " 'I love the decor with the Chinese calligraphy wall paper.'\n",
            " 'Never had anything to complain about here.'\n",
            " 'The restaurant is very clean and has a family restaurant feel to it.'\n",
            " 'It was way over fried.'\n",
            " \"I'm not sure how long we stood there but it was long enough for me to begin to feel awkwardly out of place.\"\n",
            " 'When I opened the sandwich, I was impressed, but not in a good way.'\n",
            " 'Will not be back!'\n",
            " 'There was a warm feeling with the service and I felt like their guest for a special treat.'\n",
            " 'An extensive menu provides lots of options for breakfast.'\n",
            " 'I always order from the vegetarian menu during dinner, which has a wide array of options to choose from.'\n",
            " 'I have watched their prices inflate, portions get smaller and management attitudes grow rapidly!'\n",
            " 'Wonderful lil tapas and the ambience made me feel all warm and fuzzy inside.'\n",
            " 'I got to enjoy the seafood salad, with a fabulous vinegrette.'\n",
            " 'The wontons were thin, not thick and chewy, almost melt in your mouth.'\n",
            " \"Level 5 spicy was perfect, where spice didn't over-whelm the soup.\"\n",
            " 'We were sat right on time and our server from the get go was FANTASTIC!'\n",
            " \"Main thing I didn't enjoy is that the crowd is of older crowd, around mid 30s and up.\"\n",
            " \"When I'm on this side of town, this will definitely be a spot I'll hit up again!\"\n",
            " 'I had to wait over 30 minutes to get my drink and longer to get 2 arepas.'\n",
            " 'This is a GREAT place to eat!' 'The jalapeno bacon is soooo good.'\n",
            " 'The service was poor and thats being nice.'\n",
            " 'Food was good, service was good, Prices were good.'\n",
            " 'The place was not clean and the food oh so stale!'\n",
            " 'The chicken dishes are OK, the beef is like shoe leather.'\n",
            " 'But the service was beyond bad.' 'I\\'m so happy to be here!!!\"'\n",
            " 'Tasted like dirt.'\n",
            " 'One of the few places in Phoenix that I would definately go back to again .'\n",
            " 'The block was amazing.'\n",
            " \"It's close to my house, it's low-key, non-fancy, affordable prices, good food.\"\n",
            " '* Both the Hot & Sour & the Egg Flower Soups were absolutely 5 Stars!'\n",
            " 'My sashimi was poor quality being soggy and tasteless.'\n",
            " 'Great time - family dinner on a Sunday night.'\n",
            " 'the food is not tasty at all, not to say its \"real traditional Hunan style\".'\n",
            " 'What did bother me, was the slow service.'\n",
            " 'The flair bartenders are absolutely amazing!'\n",
            " 'Their frozen margaritas are WAY too sugary for my taste.'\n",
            " 'These were so good we ordered them twice.'\n",
            " 'So in a nutshell: 1) The restaraunt smells like a combination of a dirty fish market and a sewer.'\n",
            " \"My girlfriend's veal was very bad.\" 'Unfortunately, it was not good.'\n",
            " 'I had a pretty satifying experience.'\n",
            " 'Join the club and get awesome offers via email.'\n",
            " 'Perfect for someone (me) who only likes beer ice cold, or in this case, even colder.'\n",
            " 'Bland and flavorless is a good way of describing the barely tepid meat.'\n",
            " \"The chains, which I'm no fan of, beat this place easily.\"\n",
            " 'The nachos are a MUST HAVE!' 'We will not be coming back.'\n",
            " \"I don't have very many words to say about this place, but it does everything pretty well.\"\n",
            " 'The staff is super nice and very quick even with the crazy crowds of the downtown juries, lawyers, and court staff.'\n",
            " 'Great atmosphere, friendly and fast service.'\n",
            " 'When I received my Pita it was huge it did have a lot of meat in it so thumbs up there.'\n",
            " \"Once your food arrives it's meh.\"\n",
            " \"Paying $7.85 for a hot dog and fries that looks like it came out of a kid's meal at the Wienerschnitzel is not my idea of a good meal.\"\n",
            " 'The classic Maine Lobster Roll was fantastic.'\n",
            " 'My brother in law who works at the mall ate here same day, and guess what he was sick all night too.'\n",
            " 'So good I am going to have to review this place twice - once hereas a tribute to the place and once as a tribute to an event held here last night.'\n",
            " 'The chips and salsa were really good, the salsa was very fresh.'\n",
            " 'This place is great!!!!!!!!!!!!!!' 'Mediocre food.'\n",
            " \"Once you get inside you'll be impressed with the place.\"\n",
            " \"I'm super pissd.\" 'And service was super friendly.'\n",
            " 'Why are these sad little vegetables so overcooked?'\n",
            " 'This place was such a nice surprise!'\n",
            " 'They were golden-crispy and delicious.'\n",
            " 'I had high hopes for this place since the burgers are cooked over a charcoal grill, but unfortunately the taste fell flat, way flat.'\n",
            " 'I could eat their bruschetta all day it is devine.'\n",
            " 'Not a single employee came out to see if we were OK or even needed a water refill once they finally served us our food.'\n",
            " 'Lastly, the mozzarella sticks, they were the best thing we ordered.'\n",
            " 'The first time I ever came here I had an amazing experience, I still tell people how awesome the duck was.'\n",
            " 'The server was very negligent of our needs and made us feel very unwelcome... I would not suggest this place!'\n",
            " 'The service was terrible though.'\n",
            " 'This place is overpriced, not consistent with their boba, and it really is OVERPRICED!'\n",
            " 'It was packed!!' 'I love this place.'\n",
            " 'I can say that the desserts were yummy.' 'The food was terrible.'\n",
            " 'The seasonal fruit was fresh white peach puree.'\n",
            " \"It kept getting worse and worse so now I'm officially done.\"\n",
            " 'This place should honestly be blown up.'\n",
            " 'But I definitely would not eat here again.'\n",
            " 'Do not waste your money here!'\n",
            " 'I love that they put their food in nice plastic containers as opposed to cramming it in little paper takeout boxes.'\n",
            " 'The crêpe was delicate and thin and moist.' 'Awful service.'\n",
            " \"Won't ever go here again.\" 'Food quality has been horrible.'\n",
            " 'For that price I can think of a few place I would have much rather gone.'\n",
            " 'The service here is fair at best.'\n",
            " 'I do love sushi, but I found Kabuki to be over-priced, over-hip and under-services.'\n",
            " 'Do yourself a favor and stay away from this dish.' 'Very poor service.'\n",
            " 'No one at the table thought the food was above average or worth the wait that we had for it.'\n",
            " 'Best service and food ever, Maria our server was so good and friendly she made our day.'\n",
            " 'They were excellent.'\n",
            " 'I paid the bill but did not tip because I felt the server did a terrible job.'\n",
            " 'Just had lunch here and had a great experience.'\n",
            " 'I have never had such bland food which surprised me considering the article we read focused so much on their spices and flavor.'\n",
            " 'Food is way overpriced and portions are fucking small.'\n",
            " \"I recently tried Caballero's and I have been back every week since!\"\n",
            " 'for 40 bucks a head, i really expect better food.'\n",
            " 'The food came out at a good pace.'\n",
            " 'I ate there twice on my last visit, and especially enjoyed the salmon salad.'\n",
            " \"I won't be back.\" 'We could not believe how dirty the oysters were!'\n",
            " 'This place deserves no stars.' 'I would not recommend this place.'\n",
            " \"In fact I'm going to round up to 4 stars, just because she was so awesome.\"\n",
            " 'To my disbelief, each dish qualified as the worst version of these foods I have ever tasted.'\n",
            " 'Bad day or not, I have a very low tolerance for rude customer service people, it is your job to be nice and polite, wash dishes otherwise!!'\n",
            " 'the potatoes were great and so was the biscuit.'\n",
            " 'I probably would not go here again.'\n",
            " 'So flavorful and has just the perfect amount of heat.'\n",
            " 'The price is reasonable and the service is great.'\n",
            " 'The Wife hated her meal (coconut shrimp), and our friends really did not enjoy their meals, either.'\n",
            " \"My fella got the huevos rancheros and they didn't look too appealing.\"\n",
            " 'Went in for happy hour, great list of wines.'\n",
            " 'Some may say this buffet is pricey but I think you get what you pay for and this place you are getting quite a lot!'\n",
            " \"I probably won't be coming back here.\"\n",
            " \"Worst food/service I've had in a while.\"\n",
            " 'This place is pretty good, nice little vibe in the restaurant.'\n",
            " 'Talk about great customer service of course we will be back.'\n",
            " 'Hot dishes are not hot, cold dishes are close to room temp.I watched staff prepare food with BARE HANDS, no gloves.Everything is deep fried in oil.'\n",
            " 'I love their fries and their beans.'\n",
            " 'Always a pleasure dealing with him.'\n",
            " \"They have a plethora of salads and sandwiches, and everything I've tried gets my seal of approval.\"\n",
            " 'This place is awesome if you want something light and healthy during the summer.'\n",
            " 'For sushi on the Strip, this is the place to go.'\n",
            " 'The service was great, even the manager came and helped with our table.'\n",
            " 'The feel of the dining room was more college cooking course than high class dining and the service was slow at best.'\n",
            " \"I started this review with two stars, but I'm editing it to give it only one.\"\n",
            " \"this is the worst sushi i have ever eat besides Costco's.\"\n",
            " 'All in all an excellent restaurant highlighted by great service, a unique menu, and a beautiful setting.'\n",
            " 'My boyfriend and i sat at the bar and had a completely delightful experience.'\n",
            " 'Weird vibe from owners.' 'There was hardly any meat.'\n",
            " \"I've had better bagels from the grocery store.\" 'Go To Place for Gyros.'\n",
            " 'I love the owner/chef, his one authentic Japanese cool dude!'\n",
            " \"Now the burgers aren't as good, the pizza which used to be amazing is doughy and flavorless.\"\n",
            " 'I found a six inch long piece of wire in my salsa.'\n",
            " 'The service was terrible, food was mediocre.'\n",
            " 'We definately enjoyed ourselves.'\n",
            " 'I ordered Albondigas soup - which was just warm - and tasted like tomato soup with frozen meatballs.'\n",
            " 'On three different occasions I asked for well done or medium well, and all three times I got the bloodiest piece of meat on my plate.'\n",
            " 'I had about two bites and refused to eat anymore.'\n",
            " 'The service was extremely slow.' 'After 20 minutes wait, I got a table.'\n",
            " 'Seriously killer hot chai latte.'\n",
            " 'No allergy warnings on the menu, and the waitress had absolutely no clue as to which meals did or did not contain peanuts.'\n",
            " 'My boyfriend tried the Mediterranean Chicken Salad and fell in love.'\n",
            " 'Their rotating beers on tap is also a highlight of this place.'\n",
            " 'Pricing is a bit of a concern at Mellow Mushroom.' 'Worst Thai ever.'\n",
            " 'If you stay in Vegas you must get breakfast here at least once.'\n",
            " 'I want to first say our server was great and we had perfect service.'\n",
            " 'The pizza selections are good.' 'I had strawberry tea, which was good.'\n",
            " 'Highly unprofessional and rude to a loyal patron!'\n",
            " 'Overall, a great experience.' 'Spend your money elsewhere.'\n",
            " 'Their regular toasted bread was equally satisfying with the occasional pats of butter... Mmmm...!'\n",
            " 'The Buffet at Bellagio was far from what I anticipated.'\n",
            " 'And the drinks are WEAK, people!' '-My order was not correct.'\n",
            " 'Also, I feel like the chips are bought, not made in house.'\n",
            " 'After the disappointing dinner we went elsewhere for dessert.'\n",
            " 'The chips and sals a here is amazing!!!!!!!!!!!!!!!!!!!'\n",
            " \"We won't be returning.\" 'This is my new fav Vegas buffet spot.'\n",
            " 'I seriously cannot believe that the owner has so many unexperienced employees that all are running around like chickens with their heads cut off.'\n",
            " 'Very, very sad.'\n",
            " 'i felt insulted and disrespected, how could you talk and judge another human being like that?'\n",
            " \"How can you call yourself a steakhouse if you can't properly cook a steak, I don't understand!\"\n",
            " \"I'm not impressed with the concept or the food.\"\n",
            " \"The only thing I wasn't too crazy about was their guacamole as I don't like it puréed.\"\n",
            " 'There is really nothing for me at postinos, hope your experience is better'\n",
            " 'I got food poisoning here at the buffet.'\n",
            " 'They brought a fresh batch of fries and I was thinking yay something warm but no!'\n",
            " 'What SHOULD have been a hilarious, yummy Christmas Eve dinner to remember was the biggest fail of the entire trip for us.'\n",
            " \"Needless to say, I won't be going back anytime soon.\"\n",
            " 'This place is disgusting!'\n",
            " 'Every time I eat here, I see caring teamwork to a professional degree.'\n",
            " 'The RI style calamari was a joke.'\n",
            " 'However, there was so much garlic in the fondue, it was barely edible.'\n",
            " \"I could barely stomach the meal, but didn't complain because it was a business lunch.\"\n",
            " 'It was so bad, I had lost the heart to finish it.'\n",
            " 'It also took her forever to bring us the check when we asked for it.'\n",
            " \"We aren't ones to make a scene at restaurants but I just don't get it...definitely lost the love after this one!\"\n",
            " 'Disappointing experience.'\n",
            " \"The food is about on par with Denny's, which is to say, not good at all.\"\n",
            " 'If you want to wait for mediocre food and downright terrible service, then this is the place for you.'\n",
            " 'WAAAAAAyyyyyyyyyy over rated is all I am saying.'\n",
            " \"We won't be going back.\"\n",
            " \"The place was fairly clean but the food simply wasn't worth it.\"\n",
            " 'This place lacked style!!'\n",
            " 'The sangria was about half of a glass wine full and was $12, ridiculous.'\n",
            " \"Don't bother coming here.\"\n",
            " 'The meat was pretty dry, I had the sliced brisket and pulled pork.'\n",
            " \"The building itself seems pretty neat, the bathroom is pretty trippy, but I wouldn't eat here again.\"\n",
            " 'It was equally awful.' 'Probably not in a hurry to go back.'\n",
            " 'very slow at seating even with reservation.'\n",
            " 'Not good by any stretch of the imagination.'\n",
            " 'The cashew cream sauce was bland and the vegetables were undercooked.'\n",
            " 'The chipolte ranch dipping sause was tasteless, seemed thin and watered down with no heat.'\n",
            " 'It was a bit too sweet, not really spicy enough, and lacked flavor.'\n",
            " 'I was VERY disappointed!!' 'This place is horrible and way overpriced.'\n",
            " \"Maybe it's just their Vegetarian fare, but I've been twice and I thought it was average at best.\"\n",
            " \"It wasn't busy at all and now we know why.\"\n",
            " 'The tables outside are also dirty a lot of the time and the workers are not always friendly and helpful with the menu.'\n",
            " 'The ambiance here did not feel like a buffet setting, but more of a douchey indoor garden for tea and biscuits.'\n",
            " 'Con: spotty service.'\n",
            " 'The fries were not hot, and neither was my burger.'\n",
            " 'But then they came back cold.'\n",
            " 'Then our food came out, disappointment ensued.'\n",
            " 'The real disappointment was our waiter.'\n",
            " 'My husband said she was very rude... did not even apologize for the bad food or anything.'\n",
            " 'The only reason to eat here would be to fill up before a night of binge drinking just to get some carbs in your stomach.'\n",
            " 'Insults, profound deuchebaggery, and had to go outside for a smoke break while serving just to solidify it.'\n",
            " \"If someone orders two tacos don't' you think it may be part of customer service to ask if it is combo or ala cart?\"\n",
            " 'She was quite disappointed although some blame needs to be placed at her door.'\n",
            " \"After all the rave reviews I couldn't wait to eat here......what a disappointment!\"\n",
            " 'Del Taco is pretty nasty and should be avoided if possible.'\n",
            " \"It's NOT hard to make a decent hamburger.\" \"But I don't like it.\"\n",
            " 'Hell no will I go back'\n",
            " \"We've have gotten a much better service from the pizza place next door than the services we received from this restaurant.\"\n",
            " 'I don\\'t know what the big deal is about this place, but I won\\'t be back \"ya\\'all\".'\n",
            " 'I immediately said I wanted to talk to the manager but I did not want to talk to the guy who was doing shots of fireball behind the bar.'\n",
            " \"The ambiance isn't much better.\"\n",
            " 'Unfortunately, it only set us up for disapppointment with our entrees.'\n",
            " \"The food wasn't good.\"\n",
            " 'Your servers suck, wait, correction, our server Heimer sucked.'\n",
            " 'What happened next was pretty....off putting.'\n",
            " \"too bad cause I know it's family owned, I really wanted to like this place.\"\n",
            " 'Overpriced for what you are getting.'\n",
            " 'I vomited in the bathroom mid lunch.'\n",
            " 'I kept looking at the time and it had soon become 35 minutes, yet still no food.'\n",
            " 'I have been to very few places to eat that under no circumstances would I ever return to, and this tops the list.'\n",
            " \"We started with the tuna sashimi which was brownish in color and obviously wasn't fresh.\"\n",
            " 'Food was below average.'\n",
            " 'It sure does beat the nachos at the movies but I would expect a little bit more coming from a restaurant.'\n",
            " 'All in all, Ha Long Bay was a bit of a flop.'\n",
            " 'The problem I have is that they charge $11.99 for a sandwich that is no bigger than a Subway sub (which offers better and more amount of vegetables).'\n",
            " 'Shrimp- When I unwrapped it (I live only 1/2 a mile from Brushfire) it was literally ice cold.'\n",
            " 'It lacked flavor, seemed undercooked, and dry.'\n",
            " \"It really is impressive that the place hasn't closed down.\"\n",
            " 'I would avoid this place if you are staying in the Mirage.'\n",
            " 'The refried beans that came with my meal were dried out and crusty and the food was bland.'\n",
            " 'Spend your money and time some place else.'\n",
            " 'A lady at the table next to us found a live green caterpillar In her salad.'\n",
            " 'the presentation of the food was awful.'\n",
            " \"I can't tell you how disappointed I was.\"\n",
            " 'I think food should have flavor and texture and both were lacking.'\n",
            " 'Appetite instantly gone.'\n",
            " 'Overall I was not impressed and would not go back.'\n",
            " \"The whole experience was underwhelming, and I think we'll just go to Ninja Sushi next time.\"\n",
            " \"Then, as if I hadn't wasted enough of my life there, they poured salt in the wound by drawing out the time it took to bring the check.\"]\n"
          ]
        }
      ]
    },
    {
      "cell_type": "code",
      "source": [
        "print(corpus)"
      ],
      "metadata": {
        "colab": {
          "base_uri": "https://localhost:8080/"
        },
        "id": "6H7NmKwS0V94",
        "outputId": "e46c0e28-47e4-42e1-85f9-f6bdd9958a23"
      },
      "execution_count": 22,
      "outputs": [
        {
          "output_type": "stream",
          "name": "stdout",
          "text": [
            "['wow love place', 'crust not good', 'not tasti textur nasti', 'stop late may bank holiday rick steve recommend love', 'select menu great price', 'get angri want damn pho', 'honeslti tast fresh', 'potato like rubber could tell made ahead time kept warmer', 'fri great', 'great touch', 'servic prompt', 'would not go back', 'cashier care ever say still end wayyy overpr', 'tri cape cod ravoli chicken cranberri mmmm', 'disgust pretti sure human hair', 'shock sign indic cash', 'highli recommend', 'waitress littl slow servic', 'place not worth time let alon vega', 'not like', 'burritto blah', 'food amaz', 'servic also cute', 'could care less interior beauti', 'perform', 'right red velvet cake ohhh stuff good', 'never brought salad ask', 'hole wall great mexican street taco friendli staff', 'took hour get food tabl restaur food luke warm sever run around like total overwhelm', 'worst salmon sashimi', 'also combo like burger fri beer decent deal', 'like final blow', 'found place accid could not happier', 'seem like good quick place grab bite familiar pub food favor look elsewher', 'overal like place lot', 'redeem qualiti restaur inexpens', 'ampl portion good price', 'poor servic waiter made feel like stupid everi time came tabl', 'first visit hiro delight', 'servic suck', 'shrimp tender moist', 'not deal good enough would drag establish', 'hard judg whether side good gross melt styrofoam want eat fear get sick', 'posit note server attent provid great servic', 'frozen puck disgust worst peopl behind regist', 'thing like prime rib dessert section', 'bad food damn gener', 'burger good beef cook right', 'want sandwich go firehous', 'side greek salad greek dress tasti pita hummu refresh', 'order duck rare pink tender insid nice char outsid', 'came run us realiz husband left sunglass tabl', 'chow mein good', 'horribl attitud toward custom talk one custom enjoy food', 'portion huge', 'love friendli server great food wonder imagin menu', 'heart attack grill downtown vega absolut flat line excus restaur', 'not much seafood like string pasta bottom', 'salad right amount sauc not power scallop perfectli cook', 'rip banana not rip petrifi tasteless', 'least think refil water struggl wave minut', 'place receiv star appet', 'cocktail handmad delici', 'definit go back', 'glad found place', 'great food servic huge portion give militari discount', 'alway great time do gringo', 'updat went back second time still amaz', 'got food appar never heard salt batter fish chewi', 'great way finish great', 'deal includ tast drink jeff went beyond expect', 'realli realli good rice time', 'servic meh', 'took min get milkshak noth chocol milk', 'guess known place would suck insid excalibur use common sens', 'scallop dish quit appal valu well', 'time bad custom servic', 'sweet potato fri good season well', 'today second time lunch buffet pretti good', 'much good food vega feel cheat wast eat opportun go rice compani', 'come like experienc underwhelm relationship parti wait person ask break', 'walk place smell like old greas trap other eat', 'turkey roast beef bland', 'place', 'pan cake everyon rave tast like sugari disast tailor palat six year old', 'love pho spring roll oh yummi tri', 'poor batter meat ratio made chicken tender unsatisfi', 'say food amaz', 'omelet die', 'everyth fresh delici', 'summari larg disappoint dine experi', 'like realli sexi parti mouth outrag flirt hottest person parti', 'never hard rock casino never ever step forward', 'best breakfast buffet', 'say bye bye tip ladi', 'never go', 'back', 'food arriv quickli', 'not good', 'side cafe serv realli good food', 'server fantast found wife love roast garlic bone marrow ad extra meal anoth marrow go', 'good thing waiter help kept bloddi mari come', 'best buffet town price cannot beat', 'love mussel cook wine reduct duck tender potato dish delici', 'one better buffet', 'went tigerlilli fantast afternoon', 'food delici bartend attent person got great deal', 'ambienc wonder music play', 'go back next trip', 'sooooo good', 'real sushi lover let honest yama not good', 'least min pass us order food arriv busi', 'realli fantast thai restaur definit worth visit', 'nice spici tender', 'good price', 'check', 'pretti gross', 'better atmospher', 'kind hard mess steak', 'although much like look sound place actual experi bit disappoint', 'know place manag serv blandest food ever eaten prepar indian cuisin', 'worst servic boot least worri', 'servic fine waitress friendli', 'guy steak steak love son steak best worst place said best steak ever eaten', 'thought ventur away get good sushi place realli hit spot night', 'host staff lack better word bitch', 'bland not like place number reason want wast time bad review leav', 'phenomen food servic ambianc', 'return', 'definit worth ventur strip pork belli return next time vega', 'place way overpr mediocr food', 'penn vodka excel', 'good select food includ massiv meatloaf sandwich crispi chicken wrap delish tuna melt tasti burger', 'manag rude', 'delici nyc bagel good select cream chees real lox caper even', 'great subway fact good come everi subway not meet expect', 'serious solid breakfast', 'one best bar food vega', 'extrem rude realli mani restaur would love dine weekend vega', 'drink never empti made realli great menu suggest', '', 'waiter help friendli rare check us', 'husband ate lunch disappoint food servic', 'red curri much bamboo shoot tasti', 'nice blanket moz top feel like done cover subpar food', 'bathroom clean place well decor', 'menu alway chang food qualiti go servic extrem slow', 'servic littl slow consid serv peopl server food come slow pace', 'give thumb', 'watch waiter pay lot attent tabl ignor us', 'fianc came middl day greet seat right away', 'great restaur mandalay bay', 'wait forti five minut vain', 'crostini came salad stale', 'highlight great qualiti nigiri', 'staff friendli joint alway clean', 'differ cut piec day still wonder tender well well flavor', 'order voodoo pasta first time realli excel pasta sinc go gluten free sever year ago', 'place good', 'unfortun must hit bakeri leftov day everyth order stale', 'came back today sinc reloc still not impress', 'seat immedi', 'menu divers reason price', 'avoid cost', 'restaur alway full never wait', 'delici', 'place hand one best place eat phoenix metro area', 'go look good food', 'never treat bad', 'bacon hella salti', 'also order spinach avocado salad ingredi sad dress liter zero tast', 'realli vega fine dine use right menu hand ladi price list', 'waitress friendli', 'lordi khao soi dish not miss curri lover', 'everyth menu terrif also thrill made amaz accommod vegetarian daughter', 'perhap caught night judg review not inspir go back', 'servic leav lot desir', 'atmospher modern hip maintain touch cozi', 'not weekli haunt definit place come back everi', 'liter sat minut one ask take order', 'burger absolut flavor meat total bland burger overcook charcoal flavor', 'also decid not send back waitress look like verg heart attack', 'dress treat rude', 'probabl dirt', 'love place hit spot want someth healthi not lack quantiti flavor', 'order lemon raspberri ice cocktail also incred', 'food suck expect suck could imagin', 'interest decor', 'realli like crepe station', 'also serv hot bread butter home made potato chip bacon bit top origin good', 'watch prepar delici food', 'egg roll fantast', 'order arriv one gyro miss', 'salad wing ice cream dessert left feel quit satisfi', 'not realli sure joey vote best hot dog valley reader phoenix magazin', 'best place go tasti bowl pho', 'live music friday total blow', 'never insult felt disrespect', 'friendli staff', 'worth drive', 'heard good thing place exceed everi hope could dream', 'food great serivc', 'warm beer help', 'great brunch spot', 'servic friendli invit', 'good lunch spot', 'live sinc first last time step foot place', 'worst experi ever', 'must night place', 'side delish mix mushroom yukon gold pure white corn beateou', 'bug never show would given sure side wall bug climb kitchen', 'minut wait salad realiz come time soon', 'friend love salmon tartar', 'go back', 'extrem tasti', 'waitress good though', 'soggi not good', 'jamaican mojito delici', 'small not worth price', 'food rich order accordingli', 'shower area outsid rins not take full shower unless mind nude everyon see', 'servic bit lack', 'lobster bisqu bussel sprout risotto filet need salt pepper cours none tabl', 'hope bode go busi someon cook come', 'either cold not enough flavor bad', 'love bacon wrap date', 'unbeliev bargain', 'folk otto alway make us feel welcom special', 'main also uninspir', 'place first pho amaz', 'wonder experi made place must stop whenev town', 'food bad enough enjoy deal world worst annoy drunk peopl', 'fun chef', 'order doubl cheeseburg got singl patti fall apart pictur upload yeah still suck', 'great place coupl drink watch sport event wall cover tv', 'possibl give zero star', 'descript said yum yum sauc anoth said eel sauc yet anoth said spici mayo well none roll sauc', 'say would hardest decis honestli dish tast suppos tast amaz', 'not roll eye may stay not sure go back tri', 'everyon attent provid excel custom servic', 'horribl wast time money', 'dish quit flavour', 'time side restaur almost empti excus', 'busi either also build freez cold', 'like review said pay eat place', 'drink took close minut come one point', 'serious flavor delight folk', 'much better ayc sushi place went vega', 'light dark enough set mood', 'base sub par servic receiv effort show gratitud busi go back', 'owner realli great peopl', 'noth privileg work eat', 'greek dress creami flavor', 'overal think would take parent place made similar complaint silent felt', 'pizza good peanut sauc tasti', 'tabl servic pretti fast', 'fantast servic', 'well would given godfath zero star possibl', 'know make', 'tough short flavor', 'hope place stick around', 'bar vega not ever recal charg tap water', 'restaur atmospher exquisit', 'good servic clean inexpens boot', 'seafood fresh gener portion', 'plu buck', 'servic not par either', 'thu far visit twice food absolut delici time', 'good year ago', 'self proclaim coffe cafe wildli disappoint', 'veggitarian platter world', 'cant go wrong food', 'beat', 'stop place madison ironman friendli kind staff', 'chef friendli good job', 'better not dedic boba tea spot even jenni pho', 'like patio servic outstand', 'goat taco skimp meat wow flavor', 'think not', 'mac salad pretti bland not get', 'went bachi burger friend recommend not disappoint', 'servic stink', 'wait wait', 'place not qualiti sushi not qualiti restaur', 'would definit recommend wing well pizza', 'great pizza salad', 'thing went wrong burn saganaki', 'wait hour breakfast could done time better home', 'place amaz', 'hate disagre fellow yelper husband disappoint place', 'wait hour never got either pizza mani around us came later', 'know slow', 'staff great food delish incred beer select', 'live neighborhood disappoint back conveni locat', 'know pull pork could soooo delici', 'get incred fresh fish prepar care', 'go gave star rate pleas know third time eat bachi burger write review', 'love fact everyth menu worth', 'never dine place', 'food excel servic good', 'good beer drink select good food select', 'pleas stay away shrimp stir fri noodl', 'potato chip order sad could probabl count mani chip box probabl around', 'food realli bore', 'good servic check', 'greedi corpor never see anoth dime', 'never ever go back', 'much like go back get pass atroci servic never return', 'summer dine charm outdoor patio delight', 'not expect good', 'fantast food', 'order toast english muffin came untoast', 'food good', 'never go back', 'great food price high qualiti hous made', 'bu boy hand rude', 'point friend basic figur place joke mind make publicli loudli known', 'back good bbq lighter fare reason price tell public back old way', 'consid two us left full happi go wrong', 'bread made hous', 'downsid servic', 'also fri without doubt worst fri ever', 'servic except food good review', 'coupl month later return amaz meal', 'favorit place town shawarrrrrrma', 'black eye pea sweet potato unreal', 'disappoint', 'could serv vinaigrett may make better overal dish still good', 'go far mani place never seen restaur serv egg breakfast especi', 'mom got home immedi got sick bite salad', 'server not pleasant deal alway honor pizza hut coupon', 'truli unbeliev good glad went back', 'fantast servic pleas atmospher', 'everyth gross', 'love place', 'great servic food', 'first bathroom locat dirti seat cover not replenish plain yucki', 'burger got gold standard burger kind disappoint', 'omg food delicioso', 'noth authent place', 'spaghetti noth special whatsoev', 'dish salmon best great', 'veget fresh sauc feel like authent thai', 'worth drive tucson', 'select probabl worst seen vega none', 'pretti good beer select', 'place like chipotl better', 'classi warm atmospher fun fresh appet succul steak basebal steak', 'star brick oven bread app', 'eaten multipl time time food delici', 'sat anoth ten minut final gave left', 'terribl', 'everyon treat equal special', 'take min pancak egg', 'delici', 'good side staff genuin pleasant enthusiast real treat', 'sadli gordon ramsey steak place shall sharpli avoid next trip vega', 'alway even wonder food delici', 'best fish ever life', 'bathroom next door nice', 'buffet small food offer bland', 'outstand littl restaur best food ever tast', 'pretti cool would say', 'definit turn doubt back unless someon els buy', 'server great job handl larg rowdi tabl', 'find wast food despic food', 'wife lobster bisqu soup lukewarm', 'would come back sushi crave vega', 'staff great ambianc great', 'deserv star', 'left stomach ach felt sick rest day', 'drop ball', 'dine space tini elegantli decor comfort', 'custom order way like usual eggplant green bean stir fri love', 'bean rice mediocr best', 'best taco town far', 'took back money got outta', 'interest part town place amaz', 'rude inconsider manag', 'staff not friendli wait time serv horribl one even say hi first minut', 'back', 'great dinner', 'servic outshin definit recommend halibut', 'food terribl', 'never ever go back told mani peopl happen', 'recommend unless car break front starv', 'come back everi time vega', 'place deserv one star food', 'disgrac', 'def come back bowl next time', 'want healthi authent ethic food tri place', 'continu come ladi night andddd date night highli recommend place anyon area', 'sever time past experi alway great', 'walk away stuf happi first vega buffet experi', 'servic excel price pretti reason consid vega locat insid crystal shop mall aria', 'summar food incred nay transcend noth bring joy quit like memori pneumat condiment dispens', 'probabl one peopl ever go ian not like', 'kid pizza alway hit lot great side dish option kiddo', 'servic perfect famili atmospher nice see', 'cook perfect servic impecc', 'one simpli disappoint', 'overal disappoint qualiti food bouchon', 'account know get screw', 'great place eat remind littl mom pop shop san francisco bay area', 'today first tast buldogi gourmet hot dog tell ever thought possibl', 'left frustrat', 'definit soon', 'food realli good got full petti fast', 'servic fantast', 'total wast time', 'know kind best ice tea', 'come hungri leav happi stuf', 'servic give star', 'assur disappoint', 'take littl bad servic food suck', 'gave tri eat crust teeth still sore', 'complet gross', 'realli enjoy eat', 'first time go think quickli becom regular', 'server nice even though look littl overwhelm need stay profession friendli end', 'dinner companion told everyth fresh nice textur tast', 'ground right next tabl larg smear step track everywher pile green bird poop', 'furthermor even find hour oper websit', 'tri like place time think done', 'mistak', 'complaint', 'serious good pizza expert connisseur topic', 'waiter jerk', 'strike want rush', 'nicest restaur owner ever come across', 'never come', 'love biscuit', 'servic quick friendli', 'order appet took minut pizza anoth minut', 'absolutley fantast', 'huge awkward lb piec cow th gristl fat', 'definit come back', 'like steiner dark feel like bar', 'wow spici delici', 'not familiar check', 'take busi dinner dollar elsewher', 'love go back', 'anyway fs restaur wonder breakfast lunch', 'noth special', 'day week differ deal delici', 'not mention combin pear almond bacon big winner', 'not back', 'sauc tasteless', 'food delici spici enough sure ask spicier prefer way', 'ribey steak cook perfectli great mesquit flavor', 'think go back anytim soon', 'food gooodd', 'far sushi connoisseur definit tell differ good food bad food certainli bad food', 'insult', 'last time lunch bad', 'chicken wing contain driest chicken meat ever eaten', 'food good enjoy everi mouth enjoy relax venu coupl small famili group etc', 'nargil think great', 'best tater tot southwest', 'love place', 'definit not worth paid', 'vanilla ice cream creami smooth profiterol choux pastri fresh enough', 'im az time new spot', 'manag worst', 'insid realli quit nice clean', 'food outstand price reason', 'think run back carli anytim soon food', 'due fact took minut acknowledg anoth minut get food kept forget thing', 'love margarita', 'first vega buffet not disappoint', 'good though', 'one note ventil could use upgrad', 'great pork sandwich', 'wast time', 'total letdown would much rather go camelback flower shop cartel coffe', 'third chees friend burger cold', 'enjoy pizza brunch', 'steak well trim also perfectli cook', 'group claim would handl us beauti', 'love', 'ask bill leav without eat bring either', 'place jewel la vega exactli hope find nearli ten year live', 'seafood limit boil shrimp crab leg crab leg definit not tast fresh', 'select food not best', 'delici absolut back', 'small famili restaur fine dine establish', 'toro tartar cavier extraordinari like thinli slice wagyu white truffl', 'dont think back long time', 'attach ga station rare good sign', 'awesom', 'back mani time soon', 'menu much good stuff could not decid', 'wors humili worker right front bunch horribl name call', 'conclus fill meal', 'daili special alway hit group', 'tragedi struck', 'pancak also realli good pretti larg', 'first crawfish experi delici', 'monster chicken fri steak egg time favorit', 'waitress sweet funni', 'also tast mom multi grain pumpkin pancak pecan butter amaz fluffi delici', 'rather eat airlin food serious', 'cant say enough good thing place', 'ambianc incred', 'waitress manag friendli', 'would not recommend place', 'overal impress noca', 'gyro basic lettuc', 'terribl servic', 'thoroughli disappoint', 'much pasta love homemad hand made pasta thin pizza', 'give tri happi', 'far best cheesecurd ever', 'reason price also', 'everyth perfect night', 'food good typic bar food', 'drive get', 'first glanc love bakeri cafe nice ambianc clean friendli staff', 'anyway not think go back', 'point finger item menu order disappoint', 'oh thing beauti restaur', 'gone go', 'greasi unhealthi meal', 'first time might last', 'burger amaz', 'similarli deliveri man not say word apolog food minut late', 'way expens', 'sure order dessert even need pack go tiramisu cannoli die', 'first time wait next', 'bartend also nice', 'everyth good tasti', 'place two thumb way', 'best place vega breakfast check sat sun', 'love authent mexican food want whole bunch interest yet delici meat choos need tri place', 'terribl manag', 'excel new restaur experienc frenchman', 'zero star would give zero star', 'great steak great side great wine amaz dessert', 'worst martini ever', 'steak shrimp opinion best entre gc', 'opportun today sampl amaz pizza', 'wait thirti minut seat although vacant tabl folk wait', 'yellowtail carpaccio melt mouth fresh', 'tri go back even empti', 'go eat potato found stranger hair', 'spici enough perfect actual', 'last night second time dine happi decid go back', 'not even hello right', 'dessert bit strang', 'boyfriend came first time recent trip vega could not pleas qualiti food servic', 'realli recommend place go wrong donut place', 'nice ambianc', 'would recommend save room', 'guess mayb went night disgrac', 'howev recent experi particular locat not good', 'know not like restaur someth', 'avoid establish', 'think restaur suffer not tri hard enough', 'tapa dish delici', 'heart place', 'salad bland vinegrett babi green heart palm', 'two felt disgust', 'good time', 'believ place great stop huge belli hanker sushi', 'gener portion great tast', 'never go back place never ever recommend place anyon', 'server went back forth sever time not even much help', 'food delici', 'hour serious', 'consid theft', 'eew locat need complet overhaul', 'recent wit poor qualiti manag toward guest well', 'wait wait wait', 'also came back check us regularli excel servic', 'server super nice check us mani time', 'pizza tast old super chewi not good way', 'swung give tri deepli disappoint', 'servic good compani better', 'staff also friendli effici', 'servic fan quick serv nice folk', 'boy sucker dri', 'rate', 'look authent thai food go els', 'steak recommend', 'pull car wait anoth minut acknowledg', 'great food great servic clean friendli set', 'assur back', 'hate thing much cheap qualiti black oliv', 'breakfast perpar great beauti present giant slice toast lightli dust powder sugar', 'kid play area nasti', 'great place fo take eat', 'waitress friendli happi accomod vegan veggi option', 'omg felt like never eaten thai food dish', 'extrem crumbi pretti tasteless', 'pale color instead nice char flavor', 'crouton also tast homemad extra plu', 'got home see driest damn wing ever', 'regular stop trip phoenix', 'realli enjoy crema caf expand even told friend best breakfast', 'not good money', 'miss wish one philadelphia', 'got sit fairli fast end wait minut place order anoth minut food arriv', 'also best chees crisp town', 'good valu great food great servic', 'ask satisfi meal', 'food good', 'awesom', 'want leav', 'made drive way north scottsdal not one bit disappoint', 'not eat', 'owner realli realli need quit soooooo cheap let wrap freak sandwich two paper not one', 'check place coupl year ago not impress', 'chicken got definit reheat ok wedg cold soggi', 'sorri not get food anytim soon', 'absolut must visit', 'cow tongu cheek taco amaz', 'friend not like bloodi mari', 'despit hard rate busi actual rare give star', 'realli want make experi good one', 'not return', 'chicken pho tast bland', 'disappoint', 'grill chicken tender yellow saffron season', 'drive thru mean not want wait around half hour food somehow end go make us wait wait', 'pretti awesom place', 'ambienc perfect', 'best luck rude non custom servic focus new manag', 'grandmoth make roast chicken better one', 'ask multipl time wine list time ignor went hostess got one', 'staff alway super friendli help especi cool bring two small boy babi', 'four star food guy blue shirt great vibe still let us eat', 'roast beef sandwich tast realli good', 'even drastic sick', 'high qualiti chicken chicken caesar salad', 'order burger rare came done', 'promptli greet seat', 'tri go lunch madhous', 'proven dead wrong sushi bar not qualiti great servic fast food impecc', 'wait hour seat not greatest mood', 'good joint', 'macaron insan good', 'not eat', 'waiter attent friendli inform', 'mayb cold would somewhat edibl', 'place lot promis fail deliv', 'bad experi', 'mistak', 'food averag best', 'great food', 'go back anytim soon', 'disappoint order big bay plater', 'great place relax awesom burger beer', 'perfect sit famili meal get togeth friend', 'not much flavor poorli construct', 'patio seat comfort', 'fri rice dri well', 'hand favorit italian restaur', 'scream legit book somethat also pretti rare vega', 'not fun experi', 'atmospher great love duo violinist play song request', 'person love hummu pita baklava falafel baba ganoush amaz eggplant', 'conveni sinc stay mgm', 'owner super friendli staff courteou', 'great', 'eclect select', 'sweet potato tot good onion ring perfect close', 'staff attent', 'chef gener time even came around twice take pictur', 'owner use work nobu place realli similar half price', 'googl mediocr imagin smashburg pop', 'dont go', 'promis disappoint', 'sushi lover avoid place mean', 'great doubl cheeseburg', 'awesom servic food', 'fantast neighborhood gem', 'wait go back', 'plantain worst ever tast', 'great place highli recommend', 'servic slow not attent', 'gave star give star', 'staff spend time talk', 'dessert panna cotta amaz', 'good food great atmospher', 'damn good steak', 'total brunch fail', 'price reason flavor spot sauc home made slaw not drench mayo', 'decor nice piano music soundtrack pleasant', 'steak amaz rge fillet relleno best seafood plate ever', 'good food good servic', 'absolut amaz', 'probabl back honest', 'definit back', 'sergeant pepper beef sandwich auju sauc excel sandwich well', 'hawaiian breez mango magic pineappl delight smoothi tri far good', 'went lunch servic slow', 'much say place walk expect amaz quickli disappoint', 'mortifi', 'needless say never back', 'anyway food definit not fill price pay expect', 'chip came drip greas mostli not edibl', 'realli impress strip steak', 'go sinc everi meal awesom', 'server nice attent serv staff', 'cashier friendli even brought food', 'work hospit industri paradis valley refrain recommend cibo longer', 'atmospher fun', 'would not recommend other', 'servic quick even go order like like', 'mean realli get famou fish chip terribl', 'said mouth belli still quit pleas', 'not thing', 'thumb', 'read pleas go', 'love grill pizza remind legit italian pizza', 'pro larg seat area nice bar area great simpl drink menu best brick oven pizza homemad dough', 'realli nice atmospher', 'tonight elk filet special suck', 'one bite hook', 'order old classic new dish go time sore disappoint everyth', 'cute quaint simpl honest', 'chicken delici season perfect fri outsid moist chicken insid', 'food great alway compliment chef', 'special thank dylan recommend order yummi tummi', 'awesom select beer', 'great food awesom servic', 'one nice thing ad gratuiti bill sinc parti larger expect tip', 'fli appl juic fli', 'han nan chicken also tasti', 'servic thought good', 'food bare lukewarm must sit wait server bring us', 'ryan bar definit one edinburgh establish revisit', 'nicest chines restaur', 'overal like food servic', 'also serv indian naan bread hummu spici pine nut sauc world', 'probabl never come back recommend', 'friend pasta also bad bare touch', 'tri airport experi tasti food speedi friendli servic', 'love decor chines calligraphi wall paper', 'never anyth complain', 'restaur clean famili restaur feel', 'way fri', 'not sure long stood long enough begin feel awkwardli place', 'open sandwich impress not good way', 'not back', 'warm feel servic felt like guest special treat', 'extens menu provid lot option breakfast', 'alway order vegetarian menu dinner wide array option choos', 'watch price inflat portion get smaller manag attitud grow rapidli', 'wonder lil tapa ambienc made feel warm fuzzi insid', 'got enjoy seafood salad fabul vinegrett', 'wonton thin not thick chewi almost melt mouth', 'level spici perfect spice whelm soup', 'sat right time server get go fantast', 'main thing enjoy crowd older crowd around mid', 'side town definit spot hit', 'wait minut get drink longer get arepa', 'great place eat', 'jalapeno bacon soooo good', 'servic poor that nice', 'food good servic good price good', 'place not clean food oh stale', 'chicken dish ok beef like shoe leather', 'servic beyond bad', 'happi', 'tast like dirt', 'one place phoenix would defin go back', 'block amaz', 'close hous low key non fanci afford price good food', 'hot sour egg flower soup absolut star', 'sashimi poor qualiti soggi tasteless', 'great time famili dinner sunday night', 'food not tasti not say real tradit hunan style', 'bother slow servic', 'flair bartend absolut amaz', 'frozen margarita way sugari tast', 'good order twice', 'nutshel restaraunt smell like combin dirti fish market sewer', 'girlfriend veal bad', 'unfortun not good', 'pretti satifi experi', 'join club get awesom offer via email', 'perfect someon like beer ice cold case even colder', 'bland flavorless good way describ bare tepid meat', 'chain fan beat place easili', 'nacho must', 'not come back', 'mani word say place everyth pretti well', 'staff super nice quick even crazi crowd downtown juri lawyer court staff', 'great atmospher friendli fast servic', 'receiv pita huge lot meat thumb', 'food arriv meh', 'pay hot dog fri look like came kid meal wienerschnitzel not idea good meal', 'classic main lobster roll fantast', 'brother law work mall ate day guess sick night', 'good go review place twice herea tribut place tribut event held last night', 'chip salsa realli good salsa fresh', 'place great', 'mediocr food', 'get insid impress place', 'super pissd', 'servic super friendli', 'sad littl veget overcook', 'place nice surpris', 'golden crispi delici', 'high hope place sinc burger cook charcoal grill unfortun tast fell flat way flat', 'could eat bruschetta day devin', 'not singl employe came see ok even need water refil final serv us food', 'lastli mozzarella stick best thing order', 'first time ever came amaz experi still tell peopl awesom duck', 'server neglig need made us feel unwelcom would not suggest place', 'servic terribl though', 'place overpr not consist boba realli overpr', 'pack', 'love place', 'say dessert yummi', 'food terribl', 'season fruit fresh white peach pure', 'kept get wors wors offici done', 'place honestli blown', 'definit would not eat', 'not wast money', 'love put food nice plastic contain oppos cram littl paper takeout box', 'cr pe delic thin moist', 'aw servic', 'ever go', 'food qualiti horribl', 'price think place would much rather gone', 'servic fair best', 'love sushi found kabuki price hip servic', 'favor stay away dish', 'poor servic', 'one tabl thought food averag worth wait', 'best servic food ever maria server good friendli made day', 'excel', 'paid bill not tip felt server terribl job', 'lunch great experi', 'never bland food surpris consid articl read focus much spice flavor', 'food way overpr portion fuck small', 'recent tri caballero back everi week sinc', 'buck head realli expect better food', 'food came good pace', 'ate twice last visit especi enjoy salmon salad', 'back', 'could not believ dirti oyster', 'place deserv star', 'would not recommend place', 'fact go round star awesom', 'disbelief dish qualifi worst version food ever tast', 'bad day not low toler rude custom servic peopl job nice polit wash dish otherwis', 'potato great biscuit', 'probabl would not go', 'flavor perfect amount heat', 'price reason servic great', 'wife hate meal coconut shrimp friend realli not enjoy meal either', 'fella got huevo ranchero look appeal', 'went happi hour great list wine', 'may say buffet pricey think get pay place get quit lot', 'probabl come back', 'worst food servic', 'place pretti good nice littl vibe restaur', 'talk great custom servic cours back', 'hot dish not hot cold dish close room temp watch staff prepar food bare hand glove everyth deep fri oil', 'love fri bean', 'alway pleasur deal', 'plethora salad sandwich everyth tri get seal approv', 'place awesom want someth light healthi summer', 'sushi strip place go', 'servic great even manag came help tabl', 'feel dine room colleg cook cours high class dine servic slow best', 'start review two star edit give one', 'worst sushi ever eat besid costco', 'excel restaur highlight great servic uniqu menu beauti set', 'boyfriend sat bar complet delight experi', 'weird vibe owner', 'hardli meat', 'better bagel groceri store', 'go place gyro', 'love owner chef one authent japanes cool dude', 'burger good pizza use amaz doughi flavorless', 'found six inch long piec wire salsa', 'servic terribl food mediocr', 'defin enjoy', 'order albondiga soup warm tast like tomato soup frozen meatbal', 'three differ occas ask well done medium well three time got bloodiest piec meat plate', 'two bite refus eat anymor', 'servic extrem slow', 'minut wait got tabl', 'serious killer hot chai latt', 'allergi warn menu waitress absolut clue meal not contain peanut', 'boyfriend tri mediterranean chicken salad fell love', 'rotat beer tap also highlight place', 'price bit concern mellow mushroom', 'worst thai ever', 'stay vega must get breakfast least', 'want first say server great perfect servic', 'pizza select good', 'strawberri tea good', 'highli unprofession rude loyal patron', 'overal great experi', 'spend money elsewher', 'regular toast bread equal satisfi occasion pat butter mmmm', 'buffet bellagio far anticip', 'drink weak peopl', 'order not correct', 'also feel like chip bought not made hous', 'disappoint dinner went elsewher dessert', 'chip sal amaz', 'return', 'new fav vega buffet spot', 'serious cannot believ owner mani unexperienc employe run around like chicken head cut', 'sad', 'felt insult disrespect could talk judg anoth human like', 'call steakhous properli cook steak understand', 'not impress concept food', 'thing crazi guacamol like pur ed', 'realli noth postino hope experi better', 'got food poison buffet', 'brought fresh batch fri think yay someth warm', 'hilari yummi christma eve dinner rememb biggest fail entir trip us', 'needless say go back anytim soon', 'place disgust', 'everi time eat see care teamwork profession degre', 'ri style calamari joke', 'howev much garlic fondu bare edibl', 'could bare stomach meal complain busi lunch', 'bad lost heart finish', 'also took forev bring us check ask', 'one make scene restaur get definit lost love one', 'disappoint experi', 'food par denni say not good', 'want wait mediocr food downright terribl servic place', 'waaaaaayyyyyyyyyi rate say', 'go back', 'place fairli clean food simpli worth', 'place lack style', 'sangria half glass wine full ridicul', 'bother come', 'meat pretti dri slice brisket pull pork', 'build seem pretti neat bathroom pretti trippi eat', 'equal aw', 'probabl not hurri go back', 'slow seat even reserv', 'not good stretch imagin', 'cashew cream sauc bland veget undercook', 'chipolt ranch dip saus tasteless seem thin water heat', 'bit sweet not realli spici enough lack flavor', 'disappoint', 'place horribl way overpr', 'mayb vegetarian fare twice thought averag best', 'busi know', 'tabl outsid also dirti lot time worker not alway friendli help menu', 'ambianc not feel like buffet set douchey indoor garden tea biscuit', 'con spotti servic', 'fri not hot neither burger', 'came back cold', 'food came disappoint ensu', 'real disappoint waiter', 'husband said rude not even apolog bad food anyth', 'reason eat would fill night bing drink get carb stomach', 'insult profound deuchebaggeri go outsid smoke break serv solidifi', 'someon order two taco think may part custom servic ask combo ala cart', 'quit disappoint although blame need place door', 'rave review wait eat disappoint', 'del taco pretti nasti avoid possibl', 'not hard make decent hamburg', 'like', 'hell go back', 'gotten much better servic pizza place next door servic receiv restaur', 'know big deal place back ya', 'immedi said want talk manag not want talk guy shot firebal behind bar', 'ambianc much better', 'unfortun set us disapppoint entre', 'food good', 'server suck wait correct server heimer suck', 'happen next pretti put', 'bad caus know famili own realli want like place', 'overpr get', 'vomit bathroom mid lunch', 'kept look time soon becom minut yet still food', 'place eat circumst would ever return top list', 'start tuna sashimi brownish color obvious fresh', 'food averag', 'sure beat nacho movi would expect littl bit come restaur', 'ha long bay bit flop', 'problem charg sandwich bigger subway sub offer better amount veget', 'shrimp unwrap live mile brushfir liter ice cold', 'lack flavor seem undercook dri', 'realli impress place close', 'would avoid place stay mirag', 'refri bean came meal dri crusti food bland', 'spend money time place els', 'ladi tabl next us found live green caterpillar salad', 'present food aw', 'tell disappoint', 'think food flavor textur lack', 'appetit instantli gone', 'overal not impress would not go back', 'whole experi underwhelm think go ninja sushi next time', 'wast enough life pour salt wound draw time took bring check']\n"
          ]
        }
      ]
    },
    {
      "cell_type": "code",
      "source": [
        "# as we can differentiate above the reviews before text cleaning are very raw\n",
        "# whereas when we perform text cleaning on them we can experience that only keywords are extracted from the reviews and appended to the list"
      ],
      "metadata": {
        "id": "gmTYX3AQ4tdv"
      },
      "execution_count": 18,
      "outputs": []
    },
    {
      "cell_type": "markdown",
      "source": [
        "#Creating bag of words model"
      ],
      "metadata": {
        "id": "jOFqE5Ji5kN5"
      }
    },
    {
      "cell_type": "code",
      "source": [
        "from sklearn.feature_extraction.text import CountVectorizer\n",
        "cv = CountVectorizer(max_features = 1500)\n",
        "\n",
        "# basically the following command will ensure that all unique words are taken from \"corpus\" and organize them in tabular form in such a way that each unique word represents a column\n",
        "# from theorticak pov it is similar to the bag of words array\n",
        "x = cv.fit_transform(corpus).toarray()\n",
        "y = dataSet.iloc[:,-1].values"
      ],
      "metadata": {
        "id": "zS-aYpOf5hLY"
      },
      "execution_count": 26,
      "outputs": []
    },
    {
      "cell_type": "code",
      "source": [
        "len(x[0])"
      ],
      "metadata": {
        "colab": {
          "base_uri": "https://localhost:8080/"
        },
        "id": "RA34Lv6v8P5s",
        "outputId": "1c92cd90-aab8-421a-965f-65fa027a2529"
      },
      "execution_count": 27,
      "outputs": [
        {
          "output_type": "execute_result",
          "data": {
            "text/plain": [
              "1500"
            ]
          },
          "metadata": {},
          "execution_count": 27
        }
      ]
    },
    {
      "cell_type": "code",
      "source": [
        "y"
      ],
      "metadata": {
        "colab": {
          "base_uri": "https://localhost:8080/"
        },
        "id": "j3BrmcO0-EfJ",
        "outputId": "b32cfb9c-cdab-47cd-dd4f-42a36d57e89d"
      },
      "execution_count": 28,
      "outputs": [
        {
          "output_type": "execute_result",
          "data": {
            "text/plain": [
              "array([1, 0, 0, 1, 1, 0, 0, 0, 1, 1, 1, 0, 0, 1, 0, 0, 1, 0, 0, 0, 0, 1,\n",
              "       1, 1, 1, 1, 0, 1, 0, 0, 1, 0, 1, 0, 1, 1, 1, 0, 1, 0, 1, 0, 0, 1,\n",
              "       0, 1, 0, 1, 1, 1, 1, 1, 1, 0, 1, 1, 0, 0, 1, 0, 0, 1, 1, 1, 1, 1,\n",
              "       1, 1, 0, 1, 1, 1, 0, 0, 0, 0, 0, 1, 1, 0, 0, 0, 0, 1, 0, 1, 0, 1,\n",
              "       1, 1, 0, 1, 0, 1, 0, 0, 1, 1, 0, 1, 1, 1, 1, 1, 1, 1, 1, 1, 1, 1,\n",
              "       0, 0, 1, 1, 1, 1, 0, 0, 0, 0, 0, 0, 1, 1, 1, 0, 0, 1, 0, 1, 0, 1,\n",
              "       1, 0, 1, 1, 1, 1, 0, 1, 0, 0, 0, 0, 1, 1, 0, 0, 0, 0, 1, 1, 0, 0,\n",
              "       1, 1, 1, 1, 1, 0, 0, 1, 1, 0, 1, 1, 1, 0, 0, 1, 0, 1, 1, 1, 1, 0,\n",
              "       0, 1, 1, 0, 0, 0, 0, 0, 1, 1, 0, 1, 1, 1, 1, 1, 0, 1, 0, 1, 0, 0,\n",
              "       1, 1, 1, 1, 0, 1, 1, 1, 0, 0, 0, 1, 0, 0, 1, 0, 1, 1, 0, 1, 0, 1,\n",
              "       0, 0, 0, 0, 0, 1, 1, 1, 0, 1, 1, 0, 1, 0, 1, 0, 0, 1, 0, 1, 0, 1,\n",
              "       0, 0, 0, 0, 1, 1, 1, 0, 1, 0, 1, 0, 1, 1, 1, 0, 1, 0, 1, 0, 1, 1,\n",
              "       1, 1, 0, 1, 1, 0, 1, 1, 1, 1, 1, 0, 1, 1, 0, 0, 1, 0, 0, 0, 1, 1,\n",
              "       0, 0, 1, 0, 0, 0, 1, 0, 1, 1, 0, 1, 0, 1, 1, 0, 0, 0, 1, 0, 0, 0,\n",
              "       1, 1, 1, 0, 1, 0, 1, 0, 0, 1, 1, 1, 0, 0, 1, 1, 1, 1, 1, 1, 0, 0,\n",
              "       0, 1, 1, 0, 1, 1, 0, 0, 1, 0, 0, 1, 1, 1, 0, 1, 1, 1, 1, 1, 0, 0,\n",
              "       1, 0, 1, 1, 0, 1, 1, 1, 0, 1, 1, 0, 1, 0, 0, 1, 1, 1, 0, 0, 1, 1,\n",
              "       0, 1, 0, 1, 0, 0, 0, 1, 1, 0, 0, 0, 1, 0, 0, 1, 1, 1, 1, 1, 1, 1,\n",
              "       0, 1, 1, 1, 0, 0, 0, 1, 1, 0, 1, 1, 1, 0, 1, 1, 0, 1, 0, 0, 0, 1,\n",
              "       1, 1, 1, 0, 0, 0, 0, 1, 1, 0, 0, 1, 0, 1, 1, 0, 1, 0, 1, 1, 1, 1,\n",
              "       0, 1, 1, 0, 1, 1, 0, 0, 1, 1, 0, 1, 0, 0, 0, 0, 1, 1, 1, 1, 0, 1,\n",
              "       1, 0, 1, 1, 0, 0, 1, 1, 1, 0, 1, 0, 0, 0, 1, 1, 1, 1, 0, 1, 0, 0,\n",
              "       1, 1, 1, 0, 0, 1, 1, 1, 0, 1, 1, 0, 1, 1, 1, 1, 1, 0, 1, 1, 1, 0,\n",
              "       0, 0, 0, 0, 1, 1, 1, 1, 1, 1, 0, 1, 0, 1, 1, 1, 0, 0, 1, 0, 0, 1,\n",
              "       1, 1, 1, 1, 1, 1, 0, 1, 0, 1, 0, 1, 1, 0, 1, 0, 0, 1, 1, 0, 0, 1,\n",
              "       1, 1, 1, 0, 0, 0, 0, 0, 1, 1, 0, 0, 1, 1, 1, 0, 0, 1, 0, 0, 0, 0,\n",
              "       0, 1, 1, 0, 0, 1, 1, 1, 0, 0, 0, 1, 0, 1, 1, 0, 1, 0, 1, 1, 1, 0,\n",
              "       0, 1, 0, 1, 1, 0, 1, 0, 1, 1, 1, 1, 1, 0, 1, 0, 0, 0, 0, 0, 1, 1,\n",
              "       0, 0, 1, 0, 0, 0, 1, 0, 1, 1, 0, 0, 0, 1, 1, 1, 0, 1, 0, 1, 0, 1,\n",
              "       0, 1, 1, 0, 1, 0, 0, 0, 0, 0, 1, 0, 0, 1, 1, 0, 1, 0, 1, 1, 1, 1,\n",
              "       1, 1, 1, 1, 1, 1, 1, 1, 1, 0, 0, 1, 0, 1, 1, 1, 1, 0, 1, 0, 1, 0,\n",
              "       1, 1, 1, 0, 1, 1, 1, 1, 1, 0, 1, 1, 1, 0, 0, 0, 0, 0, 0, 0, 1, 1,\n",
              "       1, 0, 1, 0, 1, 0, 1, 0, 1, 0, 1, 1, 1, 0, 1, 0, 1, 1, 1, 1, 1, 1,\n",
              "       1, 0, 1, 1, 0, 0, 1, 1, 1, 0, 0, 1, 1, 1, 1, 0, 0, 0, 0, 1, 1, 1,\n",
              "       0, 1, 1, 1, 1, 1, 0, 1, 0, 1, 1, 0, 1, 0, 0, 0, 1, 0, 1, 1, 1, 1,\n",
              "       0, 1, 0, 0, 1, 0, 1, 0, 0, 0, 1, 1, 1, 0, 0, 1, 0, 1, 1, 1, 1, 0,\n",
              "       0, 1, 0, 1, 1, 1, 0, 1, 0, 1, 0, 1, 1, 0, 1, 0, 1, 1, 0, 0, 0, 0,\n",
              "       1, 1, 0, 1, 0, 0, 0, 0, 1, 1, 0, 0, 0, 0, 0, 0, 0, 0, 0, 1, 1, 0,\n",
              "       1, 0, 0, 1, 0, 1, 1, 0, 0, 0, 0, 1, 0, 0, 1, 0, 1, 1, 0, 0, 1, 1,\n",
              "       0, 0, 1, 1, 0, 1, 1, 1, 1, 1, 1, 0, 0, 0, 1, 1, 0, 0, 0, 1, 1, 0,\n",
              "       0, 0, 1, 0, 0, 0, 0, 0, 1, 0, 1, 1, 0, 0, 1, 1, 1, 1, 0, 1, 0, 1,\n",
              "       0, 0, 0, 0, 0, 1, 0, 1, 0, 0, 0, 0, 0, 0, 0, 0, 0, 0, 0, 0, 1, 0,\n",
              "       0, 0, 0, 0, 0, 0, 0, 0, 0, 0, 0, 0, 0, 0, 0, 0, 0, 0, 0, 0, 0, 0,\n",
              "       0, 0, 0, 0, 0, 0, 0, 0, 0, 0, 0, 0, 0, 0, 0, 0, 0, 0, 0, 0, 0, 0,\n",
              "       0, 0, 0, 0, 0, 0, 0, 0, 0, 0, 0, 0, 0, 0, 0, 0, 0, 0, 0, 0, 0, 0,\n",
              "       0, 0, 0, 0, 0, 0, 0, 0, 0, 0])"
            ]
          },
          "metadata": {},
          "execution_count": 28
        }
      ]
    },
    {
      "cell_type": "code",
      "source": [
        "# we are having 1566 distinct words in our dataset"
      ],
      "metadata": {
        "id": "S4MqF7Ky8kJf"
      },
      "execution_count": null,
      "outputs": []
    },
    {
      "cell_type": "code",
      "source": [
        "x[3]"
      ],
      "metadata": {
        "colab": {
          "base_uri": "https://localhost:8080/"
        },
        "id": "drGcSbXK-Ytj",
        "outputId": "ac9827b5-be8d-4388-ce89-02c7ae086995"
      },
      "execution_count": 31,
      "outputs": [
        {
          "output_type": "execute_result",
          "data": {
            "text/plain": [
              "array([0, 0, 0, ..., 0, 0, 0])"
            ]
          },
          "metadata": {},
          "execution_count": 31
        }
      ]
    },
    {
      "cell_type": "markdown",
      "source": [
        "#Splitting dataset in training and testing sets respectively"
      ],
      "metadata": {
        "id": "T_Zd-nrw9vHF"
      }
    },
    {
      "cell_type": "code",
      "source": [
        "from sklearn.model_selection import train_test_split\n",
        "x_train, x_test, y_train, y_test = train_test_split(x, y, train_size=0.75, random_state = 42)"
      ],
      "metadata": {
        "id": "x80RO_Kt91oy"
      },
      "execution_count": 32,
      "outputs": []
    },
    {
      "cell_type": "code",
      "source": [
        "x_train, x_test, y_train, y_test "
      ],
      "metadata": {
        "colab": {
          "base_uri": "https://localhost:8080/"
        },
        "id": "tivkZ4JG9_ix",
        "outputId": "927c00f7-097b-47f9-9f34-10f1e218cf6c"
      },
      "execution_count": 33,
      "outputs": [
        {
          "output_type": "execute_result",
          "data": {
            "text/plain": [
              "(array([[0, 0, 0, ..., 0, 0, 0],\n",
              "        [0, 0, 0, ..., 0, 0, 0],\n",
              "        [0, 0, 0, ..., 0, 0, 0],\n",
              "        ...,\n",
              "        [0, 0, 0, ..., 0, 0, 0],\n",
              "        [0, 0, 0, ..., 0, 0, 0],\n",
              "        [0, 0, 0, ..., 0, 0, 0]]), array([[0, 0, 0, ..., 0, 0, 0],\n",
              "        [0, 0, 0, ..., 0, 0, 0],\n",
              "        [0, 0, 0, ..., 0, 0, 0],\n",
              "        ...,\n",
              "        [0, 0, 0, ..., 0, 0, 0],\n",
              "        [0, 0, 0, ..., 0, 0, 0],\n",
              "        [0, 0, 0, ..., 0, 0, 0]]), array([0, 0, 1, 1, 1, 1, 1, 0, 1, 0, 0, 1, 1, 0, 1, 1, 0, 0, 1, 1, 1, 0,\n",
              "        0, 1, 0, 1, 0, 1, 0, 0, 0, 1, 1, 0, 0, 0, 1, 1, 1, 0, 0, 1, 0, 1,\n",
              "        1, 1, 0, 0, 0, 1, 0, 0, 0, 0, 0, 0, 1, 0, 0, 1, 0, 1, 0, 0, 1, 0,\n",
              "        0, 1, 1, 1, 0, 0, 0, 0, 0, 0, 1, 1, 0, 0, 1, 0, 1, 1, 1, 0, 1, 0,\n",
              "        1, 1, 1, 1, 1, 0, 1, 1, 1, 0, 0, 0, 0, 1, 1, 1, 0, 1, 1, 0, 1, 1,\n",
              "        0, 0, 1, 0, 1, 0, 0, 1, 0, 1, 1, 0, 0, 1, 0, 1, 1, 0, 0, 0, 0, 1,\n",
              "        0, 1, 0, 0, 1, 1, 0, 1, 1, 0, 0, 1, 1, 0, 0, 1, 1, 0, 1, 0, 1, 1,\n",
              "        1, 1, 0, 1, 1, 0, 0, 0, 1, 1, 1, 1, 1, 0, 0, 0, 0, 1, 0, 0, 0, 1,\n",
              "        1, 1, 0, 1, 1, 0, 1, 1, 0, 0, 0, 1, 0, 1, 0, 0, 0, 0, 1, 0, 1, 0,\n",
              "        1, 1, 1, 1, 1, 0, 1, 0, 0, 0, 1, 0, 0, 1, 1, 0, 1, 1, 1, 1, 0, 1,\n",
              "        0, 0, 0, 1, 0, 0, 0, 0, 1, 0, 0, 0, 0, 0, 1, 1, 0, 0, 0, 1, 0, 1,\n",
              "        0, 1, 1, 1, 1, 0, 0, 1, 1, 1, 1, 0, 1, 0, 1, 0, 0, 1, 0, 0, 1, 0,\n",
              "        1, 1, 0, 0, 0, 1, 0, 1, 1, 0, 1, 1, 1, 1, 1, 1, 1, 0, 1, 1, 0, 1,\n",
              "        0, 0, 0, 0, 1, 1, 0, 0, 0, 0, 1, 0, 1, 0, 0, 0, 1, 0, 1, 0, 1, 1,\n",
              "        0, 1, 1, 0, 1, 0, 1, 0, 1, 1, 1, 0, 0, 1, 0, 1, 0, 0, 0, 1, 1, 1,\n",
              "        0, 0, 1, 1, 1, 1, 1, 0, 1, 0, 0, 0, 1, 0, 0, 1, 0, 1, 0, 0, 0, 1,\n",
              "        1, 1, 1, 0, 1, 1, 0, 1, 0, 0, 0, 1, 1, 0, 0, 1, 0, 1, 1, 1, 0, 1,\n",
              "        1, 1, 1, 0, 0, 1, 0, 0, 0, 1, 1, 1, 0, 0, 1, 0, 1, 1, 0, 0, 0, 1,\n",
              "        0, 1, 1, 1, 0, 0, 1, 1, 0, 0, 1, 0, 1, 0, 0, 1, 0, 1, 0, 1, 1, 1,\n",
              "        0, 1, 1, 1, 1, 0, 0, 0, 1, 1, 0, 0, 1, 0, 0, 1, 0, 1, 0, 1, 0, 0,\n",
              "        1, 0, 0, 1, 1, 1, 0, 1, 0, 1, 1, 1, 0, 1, 0, 0, 0, 0, 1, 0, 1, 1,\n",
              "        1, 0, 1, 0, 1, 1, 1, 0, 0, 0, 0, 0, 0, 0, 1, 0, 0, 1, 1, 0, 0, 0,\n",
              "        0, 0, 0, 1, 1, 0, 0, 0, 0, 0, 1, 0, 0, 1, 1, 0, 1, 0, 1, 1, 0, 0,\n",
              "        1, 0, 1, 1, 1, 0, 1, 0, 0, 1, 1, 0, 1, 0, 1, 1, 1, 1, 1, 0, 0, 1,\n",
              "        1, 0, 0, 0, 0, 0, 0, 0, 0, 1, 1, 1, 0, 1, 0, 0, 0, 0, 0, 1, 0, 0,\n",
              "        0, 0, 1, 1, 1, 0, 0, 0, 1, 1, 1, 0, 1, 1, 1, 1, 0, 1, 0, 1, 0, 0,\n",
              "        1, 1, 0, 0, 1, 0, 1, 0, 1, 1, 0, 1, 1, 1, 1, 0, 0, 1, 1, 1, 1, 0,\n",
              "        1, 0, 1, 1, 1, 1, 1, 0, 1, 1, 1, 1, 0, 1, 1, 0, 0, 1, 1, 1, 1, 1,\n",
              "        1, 0, 1, 0, 0, 0, 0, 1, 0, 0, 1, 0, 0, 1, 1, 0, 0, 1, 0, 0, 0, 1,\n",
              "        1, 0, 0, 0, 1, 1, 0, 0, 1, 1, 0, 0, 1, 0, 0, 1, 1, 0, 1, 0, 1, 1,\n",
              "        0, 1, 1, 0, 1, 0, 0, 0, 0, 0, 1, 1, 0, 0, 0, 0, 0, 1, 0, 1, 1, 1,\n",
              "        1, 1, 1, 0, 1, 0, 1, 1, 0, 0, 0, 0, 1, 0, 1, 0, 0, 0, 0, 1, 1, 1,\n",
              "        1, 0, 0, 0, 1, 1, 0, 0, 1, 1, 1, 1, 0, 1, 0, 1, 0, 1, 0, 0, 1, 1,\n",
              "        1, 1, 1, 1, 0, 1, 0, 1, 1, 1, 1, 0, 1, 0, 0, 1, 0, 0, 1, 1, 1, 1,\n",
              "        0, 1]), array([1, 1, 1, 1, 1, 1, 0, 1, 0, 1, 0, 0, 0, 0, 0, 1, 1, 0, 0, 1, 1, 1,\n",
              "        0, 1, 0, 0, 1, 0, 0, 0, 1, 1, 0, 1, 0, 1, 1, 0, 1, 0, 0, 1, 1, 0,\n",
              "        1, 1, 0, 0, 1, 0, 0, 0, 0, 1, 1, 1, 0, 1, 0, 0, 0, 1, 1, 1, 1, 1,\n",
              "        1, 1, 1, 0, 1, 1, 1, 0, 1, 0, 1, 0, 0, 0, 0, 1, 0, 1, 1, 0, 0, 1,\n",
              "        1, 1, 1, 1, 0, 0, 1, 1, 1, 1, 1, 0, 1, 0, 0, 1, 1, 0, 0, 0, 0, 0,\n",
              "        1, 1, 0, 0, 0, 1, 1, 0, 0, 1, 0, 1, 0, 1, 1, 1, 1, 1, 1, 0, 0, 0,\n",
              "        1, 0, 1, 1, 0, 1, 1, 0, 0, 1, 1, 0, 0, 0, 0, 0, 1, 0, 0, 1, 0, 1,\n",
              "        0, 1, 1, 0, 0, 0, 1, 1, 0, 0, 1, 1, 0, 1, 1, 1, 1, 1, 0, 0, 1, 0,\n",
              "        1, 0, 0, 0, 1, 0, 1, 0, 0, 1, 1, 0, 0, 1, 0, 0, 1, 1, 0, 1, 1, 0,\n",
              "        0, 1, 0, 1, 0, 0, 1, 0, 1, 0, 0, 0, 1, 0, 0, 0, 0, 1, 1, 0, 1, 1,\n",
              "        0, 1, 0, 1, 1, 0, 0, 0, 0, 0, 0, 0, 1, 0, 0, 0, 0, 0, 0, 0, 1, 1,\n",
              "        1, 1, 0, 1, 0, 1, 0, 0]))"
            ]
          },
          "metadata": {},
          "execution_count": 33
        }
      ]
    },
    {
      "cell_type": "code",
      "source": [
        "print(len(y_train), len(y_test))"
      ],
      "metadata": {
        "colab": {
          "base_uri": "https://localhost:8080/"
        },
        "id": "u2JlCeyoESfq",
        "outputId": "d8ee8bea-00e7-45aa-934f-611903f7a408"
      },
      "execution_count": 96,
      "outputs": [
        {
          "output_type": "stream",
          "name": "stdout",
          "text": [
            "750 250\n"
          ]
        }
      ]
    },
    {
      "cell_type": "markdown",
      "source": [
        "#Creating list to append the test scores of all powerful classification models"
      ],
      "metadata": {
        "id": "iE9_YT8rAVSI"
      }
    },
    {
      "cell_type": "code",
      "source": [
        "model_name = []\n",
        "train_accuracy = []\n",
        "test_accuracy = []\n"
      ],
      "metadata": {
        "id": "YCMh2f24AjOw"
      },
      "execution_count": 69,
      "outputs": []
    },
    {
      "cell_type": "markdown",
      "source": [
        "#Training Naive Bayes model on training test"
      ],
      "metadata": {
        "id": "JF2wkKqR-ilj"
      }
    },
    {
      "cell_type": "code",
      "source": [
        "from sklearn.naive_bayes import GaussianNB\n",
        "nbModel = GaussianNB()\n",
        "nbModel.fit(x_train, y_train)"
      ],
      "metadata": {
        "colab": {
          "base_uri": "https://localhost:8080/"
        },
        "id": "y_6uSPxZ-hv7",
        "outputId": "f777d137-f4c5-461f-c4b0-ccdf62c71924"
      },
      "execution_count": 70,
      "outputs": [
        {
          "output_type": "execute_result",
          "data": {
            "text/plain": [
              "GaussianNB()"
            ]
          },
          "metadata": {},
          "execution_count": 70
        }
      ]
    },
    {
      "cell_type": "code",
      "source": [
        "nbModel.score(x_train, y_train)"
      ],
      "metadata": {
        "colab": {
          "base_uri": "https://localhost:8080/"
        },
        "id": "A6yGVn3z_Z-1",
        "outputId": "c7b528a5-4d01-4302-d131-b38251691105"
      },
      "execution_count": 71,
      "outputs": [
        {
          "output_type": "execute_result",
          "data": {
            "text/plain": [
              "0.9306666666666666"
            ]
          },
          "metadata": {},
          "execution_count": 71
        }
      ]
    },
    {
      "cell_type": "code",
      "source": [
        "nbModel.score(x_test, y_test)"
      ],
      "metadata": {
        "colab": {
          "base_uri": "https://localhost:8080/"
        },
        "id": "6MX1SujS_a8B",
        "outputId": "97c72c5b-b6f0-4e0b-e57e-7dbea38e4fe1"
      },
      "execution_count": 72,
      "outputs": [
        {
          "output_type": "execute_result",
          "data": {
            "text/plain": [
              "0.68"
            ]
          },
          "metadata": {},
          "execution_count": 72
        }
      ]
    },
    {
      "cell_type": "code",
      "source": [
        "model_name.append(\"Naive Bayes\")\n",
        "train_accuracy.append(nbModel.score(x_train, y_train)*100)\n",
        "test_accuracy.append(nbModel.score(x_test, y_test)*100)"
      ],
      "metadata": {
        "id": "Y1YGVEBcA-5u"
      },
      "execution_count": 73,
      "outputs": []
    },
    {
      "cell_type": "markdown",
      "source": [
        "#Training Random Forest model on training test"
      ],
      "metadata": {
        "id": "OANFPCeZAE4R"
      }
    },
    {
      "cell_type": "code",
      "source": [
        "from sklearn.ensemble import RandomForestClassifier\n",
        "RFModel = RandomForestClassifier(n_estimators = 10,criterion = 'entropy',random_state=0)"
      ],
      "metadata": {
        "id": "TNniP5a8_dgx"
      },
      "execution_count": 74,
      "outputs": []
    },
    {
      "cell_type": "code",
      "source": [
        "RFModel.fit(x_train, y_train)"
      ],
      "metadata": {
        "colab": {
          "base_uri": "https://localhost:8080/"
        },
        "id": "-HL8R-fS_rQc",
        "outputId": "5ca5d58d-d86b-4afc-e98e-d01d8e9f8045"
      },
      "execution_count": 75,
      "outputs": [
        {
          "output_type": "execute_result",
          "data": {
            "text/plain": [
              "RandomForestClassifier(criterion='entropy', n_estimators=10, random_state=0)"
            ]
          },
          "metadata": {},
          "execution_count": 75
        }
      ]
    },
    {
      "cell_type": "code",
      "source": [
        "RFModel.score(x_train, y_train)"
      ],
      "metadata": {
        "colab": {
          "base_uri": "https://localhost:8080/"
        },
        "id": "aDEWE5uP_ssO",
        "outputId": "ea09cd70-9409-4add-85b7-ec01573d3cbc"
      },
      "execution_count": 76,
      "outputs": [
        {
          "output_type": "execute_result",
          "data": {
            "text/plain": [
              "0.9893333333333333"
            ]
          },
          "metadata": {},
          "execution_count": 76
        }
      ]
    },
    {
      "cell_type": "code",
      "source": [
        "RFModel.score(x_test, y_test)"
      ],
      "metadata": {
        "colab": {
          "base_uri": "https://localhost:8080/"
        },
        "id": "yw1o4ax7_twX",
        "outputId": "00478d4a-725b-4b45-ab2d-67ec6abf530d"
      },
      "execution_count": 77,
      "outputs": [
        {
          "output_type": "execute_result",
          "data": {
            "text/plain": [
              "0.748"
            ]
          },
          "metadata": {},
          "execution_count": 77
        }
      ]
    },
    {
      "cell_type": "code",
      "source": [
        "model_name.append(\"Random Forest\")\n",
        "train_accuracy.append(RFModel.score(x_train, y_train)*100)\n",
        "test_accuracy.append(RFModel.score(x_test, y_test)*100)"
      ],
      "metadata": {
        "id": "ys3WF88CBGxu"
      },
      "execution_count": 78,
      "outputs": []
    },
    {
      "cell_type": "markdown",
      "source": [
        "#Training SVM(non-linear kernel) model on training test"
      ],
      "metadata": {
        "id": "dlCBNbwiALe0"
      }
    },
    {
      "cell_type": "code",
      "source": [
        "from sklearn.svm import SVC\n",
        "# we will be linear kernel as of now\n",
        "svmModel = SVC(kernel = 'rbf', random_state=42)"
      ],
      "metadata": {
        "id": "TyP6xGZO_v_0"
      },
      "execution_count": 79,
      "outputs": []
    },
    {
      "cell_type": "code",
      "source": [
        "svmModel.fit(x_train, y_train)\n"
      ],
      "metadata": {
        "colab": {
          "base_uri": "https://localhost:8080/"
        },
        "id": "jO0xYD5Z_8MZ",
        "outputId": "69f523cd-f88b-4719-eca8-370ebd1e2f64"
      },
      "execution_count": 80,
      "outputs": [
        {
          "output_type": "execute_result",
          "data": {
            "text/plain": [
              "SVC(random_state=42)"
            ]
          },
          "metadata": {},
          "execution_count": 80
        }
      ]
    },
    {
      "cell_type": "code",
      "source": [
        "svmModel.score(x_train, y_train)\n"
      ],
      "metadata": {
        "colab": {
          "base_uri": "https://localhost:8080/"
        },
        "id": "ccQsWBmE_9P_",
        "outputId": "8c6127df-45d3-45e3-dbc1-a14244e14323"
      },
      "execution_count": 81,
      "outputs": [
        {
          "output_type": "execute_result",
          "data": {
            "text/plain": [
              "0.9826666666666667"
            ]
          },
          "metadata": {},
          "execution_count": 81
        }
      ]
    },
    {
      "cell_type": "code",
      "source": [
        "svmModel.score(x_test, y_test)\n"
      ],
      "metadata": {
        "colab": {
          "base_uri": "https://localhost:8080/"
        },
        "id": "0YFxpjpJAAFf",
        "outputId": "665daea6-023a-4707-f20c-14cdd265d070"
      },
      "execution_count": 82,
      "outputs": [
        {
          "output_type": "execute_result",
          "data": {
            "text/plain": [
              "0.776"
            ]
          },
          "metadata": {},
          "execution_count": 82
        }
      ]
    },
    {
      "cell_type": "code",
      "source": [
        "model_name.append(\"Support Vector Machine non linear kernels\")\n",
        "train_accuracy.append(svmModel.score(x_train, y_train)*100)\n",
        "test_accuracy.append(svmModel.score(x_test, y_test)*100)"
      ],
      "metadata": {
        "id": "dsqphgllACfL"
      },
      "execution_count": 83,
      "outputs": []
    },
    {
      "cell_type": "code",
      "source": [
        "for i in range(3):\n",
        "  print(\"Model : \"+model_name[i]+\" has training accuracy of \"+str(train_accuracy[i])[:7]+\" and testing accuracy of \"+str(test_accuracy[i]))"
      ],
      "metadata": {
        "colab": {
          "base_uri": "https://localhost:8080/"
        },
        "id": "-O7N-QU2BXKC",
        "outputId": "d4027b1f-0caa-45da-915c-5f424268eba8"
      },
      "execution_count": 87,
      "outputs": [
        {
          "output_type": "stream",
          "name": "stdout",
          "text": [
            "Model : Naive Bayes has training accuracy of 93.0666 and testing accuracy of 68.0\n",
            "Model : Random Forest has training accuracy of 98.9333 and testing accuracy of 74.8\n",
            "Model : Support Vector Machine non linear kernels has training accuracy of 98.2666 and testing accuracy of 77.60000000000001\n"
          ]
        }
      ]
    },
    {
      "cell_type": "code",
      "source": [
        "# as per the observations SVM is the most impactful model with high training and testing accuracies"
      ],
      "metadata": {
        "id": "3eERULC7BaDF"
      },
      "execution_count": 88,
      "outputs": []
    },
    {
      "cell_type": "markdown",
      "source": [
        "#Confusion Matrix"
      ],
      "metadata": {
        "id": "LnYVHJoxDMYa"
      }
    },
    {
      "cell_type": "code",
      "source": [
        "from sklearn.metrics import classification_report, confusion_matrix\n",
        "cm = confusion_matrix(y_test, svmModel.predict(x_test))"
      ],
      "metadata": {
        "id": "iQ-Lt0WjDLj_"
      },
      "execution_count": 93,
      "outputs": []
    },
    {
      "cell_type": "code",
      "source": [
        "import seaborn as sns\n",
        "sns.heatmap(cm, annot=True)"
      ],
      "metadata": {
        "colab": {
          "base_uri": "https://localhost:8080/",
          "height": 282
        },
        "id": "wbUMtPQBDzGW",
        "outputId": "5426cbb9-71b8-4fff-a203-b5465b624457"
      },
      "execution_count": 94,
      "outputs": [
        {
          "output_type": "execute_result",
          "data": {
            "text/plain": [
              "<matplotlib.axes._subplots.AxesSubplot at 0x7f5d672f7f50>"
            ]
          },
          "metadata": {},
          "execution_count": 94
        },
        {
          "output_type": "display_data",
          "data": {
            "image/png": "[encoded data removed]",
            "text/plain": [
              "<Figure size 432x288 with 2 Axes>"
            ]
          },
          "metadata": {
            "needs_background": "light"
          }
        }
      ]
    },
    {
      "cell_type": "code",
      "source": [
        "print(cm)"
      ],
      "metadata": {
        "colab": {
          "base_uri": "https://localhost:8080/"
        },
        "id": "YkRrGZapD5EQ",
        "outputId": "9be1c481-cb41-4689-86f6-adca11245e50"
      },
      "execution_count": 95,
      "outputs": [
        {
          "output_type": "stream",
          "name": "stdout",
          "text": [
            "[[116  12]\n",
            " [ 44  78]]\n"
          ]
        }
      ]
    },
    {
      "cell_type": "code",
      "source": [
        "from sklearn.metrics import confusion_matrix\n",
        "tn, fp, fn, tp = cm.ravel()\n",
        "\n",
        "print('\\nTEST METRICS ----------------------')\n",
        "acc = (tp+tn)/(tp+tn+fp+fn)*100\n",
        "precision = tp/(tp+fp)*100\n",
        "recall = tp/(tp+fn)*100\n",
        "print('Accuracy: {}%'.format(acc))\n",
        "print('Precision: {}%'.format(precision))\n",
        "print('Recall: {}%'.format(recall))\n",
        "print('F1-score: {}'.format(2*precision*recall/(precision+recall)))\n",
        "\n",
        "print('\\nTRAIN METRIC ----------------------')\n",
        "print('Train acc: {}'.format(np.round(svmModel.score(x_train, y_train)*100, 2)))\n",
        "\n",
        "print('CONFUSION MATRIX ------------------')\n",
        "print(cm)"
      ],
      "metadata": {
        "colab": {
          "base_uri": "https://localhost:8080/"
        },
        "id": "8uVm04FOEB4e",
        "outputId": "39aa5d8e-4ef1-434b-8a82-2d35312c3446"
      },
      "execution_count": 98,
      "outputs": [
        {
          "output_type": "stream",
          "name": "stdout",
          "text": [
            "\n",
            "TEST METRICS ----------------------\n",
            "Accuracy: 77.60000000000001%\n",
            "Precision: 86.66666666666667%\n",
            "Recall: 63.934426229508205%\n",
            "F1-score: 73.58490566037737\n",
            "\n",
            "TRAIN METRIC ----------------------\n",
            "Train acc: 98.27\n",
            "CONFUSION MATRIX ------------------\n",
            "[[116  12]\n",
            " [ 44  78]]\n"
          ]
        }
      ]
    },
    {
      "cell_type": "code",
      "source": [
        ""
      ],
      "metadata": {
        "id": "GCkn1vItF1hw"
      },
      "execution_count": null,
      "outputs": []
    }
  ]
}