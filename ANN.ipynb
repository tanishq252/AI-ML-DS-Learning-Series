{
  "nbformat": 4,
  "nbformat_minor": 0,
  "metadata": {
    "colab": {
      "name": "ANN.ipynb",
      "provenance": [],
      "authorship_tag": "ABX9TyNeuDg5eFFVGUMO7eopTtLG",
      "include_colab_link": true
    },
    "kernelspec": {
      "name": "python3",
      "display_name": "Python 3"
    },
    "language_info": {
      "name": "python"
    }
  },
  "cells": [
    {
      "cell_type": "markdown",
      "metadata": {
        "id": "view-in-github",
        "colab_type": "text"
      },
      "source": [
        "<a href=\"https://colab.research.google.com/github/tanishq252/AI-ML-DS-Learning-Series/blob/main/ANN.ipynb\" target=\"_parent\"><img src=\"https://colab.research.google.com/assets/colab-badge.svg\" alt=\"Open In Colab\"/></a>"
      ]
    },
    {
      "cell_type": "markdown",
      "source": [
        "#**Artificial Neural Networks**"
      ],
      "metadata": {
        "id": "1ITwIz6-y8bu"
      }
    },
    {
      "cell_type": "markdown",
      "source": [
        "#Importing dataset and libraries"
      ],
      "metadata": {
        "id": "W7RZ-1qIyfKO"
      }
    },
    {
      "cell_type": "code",
      "execution_count": 4,
      "metadata": {
        "id": "AvCZicqZyP5c"
      },
      "outputs": [],
      "source": [
        "import numpy as np\n",
        "import pandas as pd\n",
        "import matplotlib.pyplot as plt\n",
        "import tensorflow as tf"
      ]
    },
    {
      "cell_type": "code",
      "source": [
        "dataSet = pd.read_csv(\"Churn_Modelling.csv\")\n",
        "x = dataSet.iloc[:,3:-1].values\n",
        "y = dataSet.iloc[:,-1].values"
      ],
      "metadata": {
        "id": "YHsUAbj-yqAb"
      },
      "execution_count": 48,
      "outputs": []
    },
    {
      "cell_type": "code",
      "source": [
        "x, y"
      ],
      "metadata": {
        "colab": {
          "base_uri": "https://localhost:8080/"
        },
        "id": "c0uwMdpp0el5",
        "outputId": "1d2ff2a3-7a85-4040-d6a4-ddc746276c02"
      },
      "execution_count": 49,
      "outputs": [
        {
          "output_type": "execute_result",
          "data": {
            "text/plain": [
              "(array([[619, 'France', 'Female', ..., 1, 1, 101348.88],\n",
              "        [608, 'Spain', 'Female', ..., 0, 1, 112542.58],\n",
              "        [502, 'France', 'Female', ..., 1, 0, 113931.57],\n",
              "        ...,\n",
              "        [709, 'France', 'Female', ..., 0, 1, 42085.58],\n",
              "        [772, 'Germany', 'Male', ..., 1, 0, 92888.52],\n",
              "        [792, 'France', 'Female', ..., 1, 0, 38190.78]], dtype=object),\n",
              " array([1, 0, 1, ..., 1, 1, 0]))"
            ]
          },
          "metadata": {},
          "execution_count": 49
        }
      ]
    },
    {
      "cell_type": "markdown",
      "source": [
        "#Performing label encoding on gender column and one hot encoding on geography column"
      ],
      "metadata": {
        "id": "QJHZj8sezILw"
      }
    },
    {
      "cell_type": "code",
      "source": [
        "# performing label encoding on gender column since it is a column consisting of binary values\n",
        "from sklearn.preprocessing import LabelEncoder\n",
        "le = LabelEncoder()\n",
        "x[:,2] = le.fit_transform(x[:,2])"
      ],
      "metadata": {
        "id": "e5UhE0dryu_y"
      },
      "execution_count": 50,
      "outputs": []
    },
    {
      "cell_type": "code",
      "source": [
        "x[1]"
      ],
      "metadata": {
        "colab": {
          "base_uri": "https://localhost:8080/"
        },
        "id": "7qCMKdkR010L",
        "outputId": "cc94c552-d425-4094-850a-e725686ecf89"
      },
      "execution_count": 51,
      "outputs": [
        {
          "output_type": "execute_result",
          "data": {
            "text/plain": [
              "array([608, 'Spain', 0, 41, 1, 83807.86, 1, 0, 1, 112542.58], dtype=object)"
            ]
          },
          "metadata": {},
          "execution_count": 51
        }
      ]
    },
    {
      "cell_type": "code",
      "source": [
        "# as the geography column consists multi classes values we have to perform one hot encoding on it\n",
        "# so that it can be used as an appropriate variable for making a good model\n",
        "from sklearn.compose import ColumnTransformer\n",
        "from sklearn.preprocessing import OneHotEncoder\n",
        "ct = ColumnTransformer(transformers = [('encoder', OneHotEncoder(), [1])], remainder = 'passthrough')\n",
        "x = np.array(ct.fit_transform(x))"
      ],
      "metadata": {
        "id": "glgnhiDQ07lB"
      },
      "execution_count": 52,
      "outputs": []
    },
    {
      "cell_type": "code",
      "source": [
        "x[1]"
      ],
      "metadata": {
        "colab": {
          "base_uri": "https://localhost:8080/"
        },
        "id": "eVBudpk22Io_",
        "outputId": "bdcafc3c-8145-4edc-d8bd-1b3b9cd5c57d"
      },
      "execution_count": 53,
      "outputs": [
        {
          "output_type": "execute_result",
          "data": {
            "text/plain": [
              "array([0.0, 0.0, 1.0, 608, 0, 41, 1, 83807.86, 1, 0, 1, 112542.58],\n",
              "      dtype=object)"
            ]
          },
          "metadata": {},
          "execution_count": 53
        }
      ]
    },
    {
      "cell_type": "markdown",
      "source": [
        "#Splitting the data into training and testing sets"
      ],
      "metadata": {
        "id": "ypEGDWza24LA"
      }
    },
    {
      "cell_type": "code",
      "source": [
        "from sklearn.model_selection import train_test_split\n",
        "x_train, x_test, y_train, y_test = train_test_split(x,y, train_size = 0.8)"
      ],
      "metadata": {
        "id": "TNa2MbKq2WGg"
      },
      "execution_count": 54,
      "outputs": []
    },
    {
      "cell_type": "markdown",
      "source": [
        "#Feature Scaling"
      ],
      "metadata": {
        "id": "ksQnzRi14XO-"
      }
    },
    {
      "cell_type": "code",
      "source": [
        "#  as the data has multi variables each having different range of values we have \n",
        "#  to standardize the data so that all variables will be having equal impact and we will have a good model\n",
        "from sklearn.preprocessing import StandardScaler\n",
        "sc = StandardScaler()\n",
        "x_train = sc.fit_transform(x_train) \n",
        "x_test = sc.transform(x_test)"
      ],
      "metadata": {
        "id": "rYy_vNIM2ZFW"
      },
      "execution_count": 56,
      "outputs": []
    },
    {
      "cell_type": "code",
      "source": [
        "x_train, x_test"
      ],
      "metadata": {
        "colab": {
          "base_uri": "https://localhost:8080/"
        },
        "id": "moDm3fMc4e4-",
        "outputId": "7b1f848d-4448-4279-b35b-3e8c3abe174b"
      },
      "execution_count": 57,
      "outputs": [
        {
          "output_type": "execute_result",
          "data": {
            "text/plain": [
              "(array([[-0.99825153,  1.72058015, -0.57484841, ..., -1.54405141,\n",
              "          0.96076892, -1.72152915],\n",
              "        [ 1.00175153, -0.58119931, -0.57484841, ...,  0.64764683,\n",
              "         -1.040833  , -1.09044647],\n",
              "        [ 1.00175153, -0.58119931, -0.57484841, ...,  0.64764683,\n",
              "          0.96076892, -1.39182442],\n",
              "        ...,\n",
              "        [ 1.00175153, -0.58119931, -0.57484841, ..., -1.54405141,\n",
              "         -1.040833  ,  1.14136023],\n",
              "        [ 1.00175153, -0.58119931, -0.57484841, ...,  0.64764683,\n",
              "         -1.040833  , -1.715338  ],\n",
              "        [-0.99825153, -0.58119931,  1.73958906, ..., -1.54405141,\n",
              "         -1.040833  ,  1.30002666]]),\n",
              " array([[-0.99825153, -0.58119931,  1.73958906, ...,  0.64764683,\n",
              "         -1.040833  ,  0.32791062],\n",
              "        [-0.99825153,  1.72058015, -0.57484841, ...,  0.64764683,\n",
              "          0.96076892, -0.28361489],\n",
              "        [ 1.00175153, -0.58119931, -0.57484841, ...,  0.64764683,\n",
              "          0.96076892, -0.08205345],\n",
              "        ...,\n",
              "        [ 1.00175153, -0.58119931, -0.57484841, ...,  0.64764683,\n",
              "         -1.040833  , -0.04872002],\n",
              "        [ 1.00175153, -0.58119931, -0.57484841, ..., -1.54405141,\n",
              "         -1.040833  , -0.76416251],\n",
              "        [ 1.00175153, -0.58119931, -0.57484841, ...,  0.64764683,\n",
              "          0.96076892,  0.84604589]]))"
            ]
          },
          "metadata": {},
          "execution_count": 57
        }
      ]
    },
    {
      "cell_type": "markdown",
      "source": [
        "#Building the ANN model\n"
      ],
      "metadata": {
        "id": "akalwe3S-Ymp"
      }
    },
    {
      "cell_type": "code",
      "source": [
        "from keras.layers import Dense, Dropout\n",
        "from keras.models import Sequential\n",
        "\n",
        "# initialize model\n",
        "ann_model = Sequential()\n",
        "# block 1\n",
        "ann_model.add(Dense(256,activation = \"relu\"))\n",
        "ann_model.add(Dense(256,activation = \"relu\"))\n",
        "ann_model.add(Dense(256,activation = \"relu\"))\n",
        "\n",
        "# block 2\n",
        "ann_model.add(Dense(128,activation = \"relu\"))\n",
        "ann_model.add(Dense(128,activation = \"relu\"))\n",
        "ann_model.add(Dense(128,activation = \"relu\"))\n",
        "\n",
        "# block3\n",
        "ann_model.add(Dense(64,activation = \"relu\"))\n",
        "ann_model.add(Dense(64,activation = \"relu\"))\n",
        "ann_model.add(Dense(64,activation = \"relu\"))\n",
        "\n",
        "# block 4\n",
        "ann_model.add(Dense(32,activation = \"relu\"))\n",
        "ann_model.add(Dense(32,activation = \"relu\"))\n",
        "ann_model.add(Dense(32,activation = \"relu\"))\n",
        "\n",
        "# output layer\n",
        "ann_model.add(Dense(1,activation = \"sigmoid\"))"
      ],
      "metadata": {
        "id": "5-dayTrY8UUn"
      },
      "execution_count": 88,
      "outputs": []
    },
    {
      "cell_type": "code",
      "source": [
        "from keras.callbacks import ReduceLROnPlateau\n",
        "\n",
        "lr_reduce = ReduceLROnPlateau(monitor='val_loss', factor=0.3, patience=2, verbose=2, mode='max')\n"
      ],
      "metadata": {
        "id": "0CMCuBk1A5mt"
      },
      "execution_count": 89,
      "outputs": []
    },
    {
      "cell_type": "code",
      "source": [
        "ann_model.compile(loss=\"binary_crossentropy\",optimizer=\"adam\",metrics= [\"accuracy\"])\n",
        "epochs =50\n",
        "history_ann = ann_model.fit(x_train,y_train,batch_size=32,epochs=epochs,validation_data=(x_test,y_test), callbacks=[lr_reduce])"
      ],
      "metadata": {
        "colab": {
          "base_uri": "https://localhost:8080/"
        },
        "id": "TZ_uA6z3ASJs",
        "outputId": "316d40e5-1734-4de3-97f0-a377aa91c2c9"
      },
      "execution_count": 90,
      "outputs": [
        {
          "output_type": "stream",
          "name": "stdout",
          "text": [
            "Epoch 1/50\n",
            "250/250 [==============================] - 3s 8ms/step - loss: 0.4130 - accuracy: 0.8190 - val_loss: 0.4349 - val_accuracy: 0.8310 - lr: 0.0010\n",
            "Epoch 2/50\n",
            "250/250 [==============================] - 1s 6ms/step - loss: 0.3556 - accuracy: 0.8550 - val_loss: 0.3935 - val_accuracy: 0.8450 - lr: 0.0010\n",
            "Epoch 3/50\n",
            "243/250 [============================>.] - ETA: 0s - loss: 0.3402 - accuracy: 0.8593\n",
            "Epoch 3: ReduceLROnPlateau reducing learning rate to 0.0003000000142492354.\n",
            "250/250 [==============================] - 2s 7ms/step - loss: 0.3404 - accuracy: 0.8595 - val_loss: 0.3715 - val_accuracy: 0.8490 - lr: 0.0010\n",
            "Epoch 4/50\n",
            "250/250 [==============================] - 2s 7ms/step - loss: 0.3185 - accuracy: 0.8669 - val_loss: 0.3659 - val_accuracy: 0.8515 - lr: 3.0000e-04\n",
            "Epoch 5/50\n",
            "249/250 [============================>.] - ETA: 0s - loss: 0.3145 - accuracy: 0.8678\n",
            "Epoch 5: ReduceLROnPlateau reducing learning rate to 9.000000427477062e-05.\n",
            "250/250 [==============================] - 2s 6ms/step - loss: 0.3140 - accuracy: 0.8680 - val_loss: 0.3634 - val_accuracy: 0.8490 - lr: 3.0000e-04\n",
            "Epoch 6/50\n",
            "250/250 [==============================] - 2s 7ms/step - loss: 0.3032 - accuracy: 0.8744 - val_loss: 0.3652 - val_accuracy: 0.8535 - lr: 9.0000e-05\n",
            "Epoch 7/50\n",
            "240/250 [===========================>..] - ETA: 0s - loss: 0.3021 - accuracy: 0.8742\n",
            "Epoch 7: ReduceLROnPlateau reducing learning rate to 2.700000040931627e-05.\n",
            "250/250 [==============================] - 1s 6ms/step - loss: 0.3008 - accuracy: 0.8750 - val_loss: 0.3675 - val_accuracy: 0.8520 - lr: 9.0000e-05\n",
            "Epoch 8/50\n",
            "250/250 [==============================] - 2s 6ms/step - loss: 0.2962 - accuracy: 0.8775 - val_loss: 0.3707 - val_accuracy: 0.8545 - lr: 2.7000e-05\n",
            "Epoch 9/50\n",
            "242/250 [============================>.] - ETA: 0s - loss: 0.2945 - accuracy: 0.8772\n",
            "Epoch 9: ReduceLROnPlateau reducing learning rate to 8.100000013655517e-06.\n",
            "250/250 [==============================] - 2s 7ms/step - loss: 0.2953 - accuracy: 0.8764 - val_loss: 0.3689 - val_accuracy: 0.8530 - lr: 2.7000e-05\n",
            "Epoch 10/50\n",
            "250/250 [==============================] - 1s 5ms/step - loss: 0.2945 - accuracy: 0.8764 - val_loss: 0.3697 - val_accuracy: 0.8525 - lr: 8.1000e-06\n",
            "Epoch 11/50\n",
            "244/250 [============================>.] - ETA: 0s - loss: 0.2936 - accuracy: 0.8781\n",
            "Epoch 11: ReduceLROnPlateau reducing learning rate to 2.429999949526973e-06.\n",
            "250/250 [==============================] - 2s 7ms/step - loss: 0.2938 - accuracy: 0.8775 - val_loss: 0.3700 - val_accuracy: 0.8535 - lr: 8.1000e-06\n",
            "Epoch 12/50\n",
            "250/250 [==============================] - 2s 6ms/step - loss: 0.2933 - accuracy: 0.8777 - val_loss: 0.3702 - val_accuracy: 0.8535 - lr: 2.4300e-06\n",
            "Epoch 13/50\n",
            "247/250 [============================>.] - ETA: 0s - loss: 0.2935 - accuracy: 0.8780\n",
            "Epoch 13: ReduceLROnPlateau reducing learning rate to 7.289999985005124e-07.\n",
            "250/250 [==============================] - 2s 7ms/step - loss: 0.2933 - accuracy: 0.8781 - val_loss: 0.3703 - val_accuracy: 0.8535 - lr: 2.4300e-06\n",
            "Epoch 14/50\n",
            "250/250 [==============================] - 2s 6ms/step - loss: 0.2931 - accuracy: 0.8781 - val_loss: 0.3704 - val_accuracy: 0.8530 - lr: 7.2900e-07\n",
            "Epoch 15/50\n",
            "247/250 [============================>.] - ETA: 0s - loss: 0.2918 - accuracy: 0.8789\n",
            "Epoch 15: ReduceLROnPlateau reducing learning rate to 2.1870000637136398e-07.\n",
            "250/250 [==============================] - 2s 6ms/step - loss: 0.2931 - accuracy: 0.8781 - val_loss: 0.3705 - val_accuracy: 0.8525 - lr: 7.2900e-07\n",
            "Epoch 16/50\n",
            "250/250 [==============================] - 1s 5ms/step - loss: 0.2930 - accuracy: 0.8781 - val_loss: 0.3705 - val_accuracy: 0.8525 - lr: 2.1870e-07\n",
            "Epoch 17/50\n",
            "243/250 [============================>.] - ETA: 0s - loss: 0.2931 - accuracy: 0.8782\n",
            "Epoch 17: ReduceLROnPlateau reducing learning rate to 6.561000276406048e-08.\n",
            "250/250 [==============================] - 1s 5ms/step - loss: 0.2930 - accuracy: 0.8781 - val_loss: 0.3705 - val_accuracy: 0.8525 - lr: 2.1870e-07\n",
            "Epoch 18/50\n",
            "250/250 [==============================] - 2s 6ms/step - loss: 0.2930 - accuracy: 0.8781 - val_loss: 0.3705 - val_accuracy: 0.8525 - lr: 6.5610e-08\n",
            "Epoch 19/50\n",
            "242/250 [============================>.] - ETA: 0s - loss: 0.2928 - accuracy: 0.8777\n",
            "Epoch 19: ReduceLROnPlateau reducing learning rate to 1.9683000829218145e-08.\n",
            "250/250 [==============================] - 1s 6ms/step - loss: 0.2930 - accuracy: 0.8781 - val_loss: 0.3705 - val_accuracy: 0.8525 - lr: 6.5610e-08\n",
            "Epoch 20/50\n",
            "250/250 [==============================] - 1s 6ms/step - loss: 0.2930 - accuracy: 0.8781 - val_loss: 0.3705 - val_accuracy: 0.8525 - lr: 1.9683e-08\n",
            "Epoch 21/50\n",
            "243/250 [============================>.] - ETA: 0s - loss: 0.2951 - accuracy: 0.8768\n",
            "Epoch 21: ReduceLROnPlateau reducing learning rate to 5.904900035602622e-09.\n",
            "250/250 [==============================] - 2s 7ms/step - loss: 0.2930 - accuracy: 0.8781 - val_loss: 0.3705 - val_accuracy: 0.8525 - lr: 1.9683e-08\n",
            "Epoch 22/50\n",
            "250/250 [==============================] - 1s 6ms/step - loss: 0.2930 - accuracy: 0.8781 - val_loss: 0.3705 - val_accuracy: 0.8525 - lr: 5.9049e-09\n",
            "Epoch 23/50\n",
            "243/250 [============================>.] - ETA: 0s - loss: 0.2926 - accuracy: 0.8778\n",
            "Epoch 23: ReduceLROnPlateau reducing learning rate to 1.7714700373261393e-09.\n",
            "250/250 [==============================] - 1s 6ms/step - loss: 0.2930 - accuracy: 0.8781 - val_loss: 0.3705 - val_accuracy: 0.8525 - lr: 5.9049e-09\n",
            "Epoch 24/50\n",
            "250/250 [==============================] - 1s 6ms/step - loss: 0.2930 - accuracy: 0.8781 - val_loss: 0.3705 - val_accuracy: 0.8525 - lr: 1.7715e-09\n",
            "Epoch 25/50\n",
            "245/250 [============================>.] - ETA: 0s - loss: 0.2914 - accuracy: 0.8781\n",
            "Epoch 25: ReduceLROnPlateau reducing learning rate to 5.314410245205181e-10.\n",
            "250/250 [==============================] - 2s 7ms/step - loss: 0.2930 - accuracy: 0.8781 - val_loss: 0.3705 - val_accuracy: 0.8525 - lr: 1.7715e-09\n",
            "Epoch 26/50\n",
            "250/250 [==============================] - 1s 6ms/step - loss: 0.2930 - accuracy: 0.8781 - val_loss: 0.3705 - val_accuracy: 0.8525 - lr: 5.3144e-10\n",
            "Epoch 27/50\n",
            "245/250 [============================>.] - ETA: 0s - loss: 0.2925 - accuracy: 0.8787\n",
            "Epoch 27: ReduceLROnPlateau reducing learning rate to 1.5943230069481729e-10.\n",
            "250/250 [==============================] - 2s 6ms/step - loss: 0.2930 - accuracy: 0.8781 - val_loss: 0.3705 - val_accuracy: 0.8525 - lr: 5.3144e-10\n",
            "Epoch 28/50\n",
            "250/250 [==============================] - 2s 6ms/step - loss: 0.2930 - accuracy: 0.8781 - val_loss: 0.3705 - val_accuracy: 0.8525 - lr: 1.5943e-10\n",
            "Epoch 29/50\n",
            "242/250 [============================>.] - ETA: 0s - loss: 0.2932 - accuracy: 0.8782\n",
            "Epoch 29: ReduceLROnPlateau reducing learning rate to 4.7829690208445185e-11.\n",
            "250/250 [==============================] - 2s 6ms/step - loss: 0.2930 - accuracy: 0.8781 - val_loss: 0.3705 - val_accuracy: 0.8525 - lr: 1.5943e-10\n",
            "Epoch 30/50\n",
            "250/250 [==============================] - 2s 6ms/step - loss: 0.2930 - accuracy: 0.8781 - val_loss: 0.3705 - val_accuracy: 0.8525 - lr: 4.7830e-11\n",
            "Epoch 31/50\n",
            "242/250 [============================>.] - ETA: 0s - loss: 0.2929 - accuracy: 0.8780\n",
            "Epoch 31: ReduceLROnPlateau reducing learning rate to 1.434890747886719e-11.\n",
            "250/250 [==============================] - 1s 6ms/step - loss: 0.2930 - accuracy: 0.8781 - val_loss: 0.3705 - val_accuracy: 0.8525 - lr: 4.7830e-11\n",
            "Epoch 32/50\n",
            "250/250 [==============================] - 2s 7ms/step - loss: 0.2930 - accuracy: 0.8781 - val_loss: 0.3705 - val_accuracy: 0.8525 - lr: 1.4349e-11\n",
            "Epoch 33/50\n",
            "244/250 [============================>.] - ETA: 0s - loss: 0.2932 - accuracy: 0.8778\n",
            "Epoch 33: ReduceLROnPlateau reducing learning rate to 4.304672243660157e-12.\n",
            "250/250 [==============================] - 2s 7ms/step - loss: 0.2930 - accuracy: 0.8781 - val_loss: 0.3705 - val_accuracy: 0.8525 - lr: 1.4349e-11\n",
            "Epoch 34/50\n",
            "250/250 [==============================] - 2s 6ms/step - loss: 0.2930 - accuracy: 0.8781 - val_loss: 0.3705 - val_accuracy: 0.8525 - lr: 4.3047e-12\n",
            "Epoch 35/50\n",
            "245/250 [============================>.] - ETA: 0s - loss: 0.2930 - accuracy: 0.8779\n",
            "Epoch 35: ReduceLROnPlateau reducing learning rate to 1.2914016210563428e-12.\n",
            "250/250 [==============================] - 1s 6ms/step - loss: 0.2930 - accuracy: 0.8781 - val_loss: 0.3705 - val_accuracy: 0.8525 - lr: 4.3047e-12\n",
            "Epoch 36/50\n",
            "250/250 [==============================] - 2s 6ms/step - loss: 0.2930 - accuracy: 0.8781 - val_loss: 0.3705 - val_accuracy: 0.8525 - lr: 1.2914e-12\n",
            "Epoch 37/50\n",
            "240/250 [===========================>..] - ETA: 0s - loss: 0.2947 - accuracy: 0.8776\n",
            "Epoch 37: ReduceLROnPlateau reducing learning rate to 3.874204993273289e-13.\n",
            "250/250 [==============================] - 1s 6ms/step - loss: 0.2930 - accuracy: 0.8781 - val_loss: 0.3705 - val_accuracy: 0.8525 - lr: 1.2914e-12\n",
            "Epoch 38/50\n",
            "250/250 [==============================] - 1s 6ms/step - loss: 0.2930 - accuracy: 0.8781 - val_loss: 0.3705 - val_accuracy: 0.8525 - lr: 3.8742e-13\n",
            "Epoch 39/50\n",
            "245/250 [============================>.] - ETA: 0s - loss: 0.2934 - accuracy: 0.8778\n",
            "Epoch 39: ReduceLROnPlateau reducing learning rate to 1.162261530508052e-13.\n",
            "250/250 [==============================] - 2s 6ms/step - loss: 0.2930 - accuracy: 0.8781 - val_loss: 0.3705 - val_accuracy: 0.8525 - lr: 3.8742e-13\n",
            "Epoch 40/50\n",
            "250/250 [==============================] - 2s 7ms/step - loss: 0.2930 - accuracy: 0.8781 - val_loss: 0.3705 - val_accuracy: 0.8525 - lr: 1.1623e-13\n",
            "Epoch 41/50\n",
            "246/250 [============================>.] - ETA: 0s - loss: 0.2926 - accuracy: 0.8783\n",
            "Epoch 41: ReduceLROnPlateau reducing learning rate to 3.4867844288938296e-14.\n",
            "250/250 [==============================] - 1s 6ms/step - loss: 0.2930 - accuracy: 0.8781 - val_loss: 0.3705 - val_accuracy: 0.8525 - lr: 1.1623e-13\n",
            "Epoch 42/50\n",
            "250/250 [==============================] - 1s 6ms/step - loss: 0.2930 - accuracy: 0.8781 - val_loss: 0.3705 - val_accuracy: 0.8525 - lr: 3.4868e-14\n",
            "Epoch 43/50\n",
            "250/250 [==============================] - ETA: 0s - loss: 0.2930 - accuracy: 0.8781\n",
            "Epoch 43: ReduceLROnPlateau reducing learning rate to 1.0460353083393582e-14.\n",
            "250/250 [==============================] - 1s 6ms/step - loss: 0.2930 - accuracy: 0.8781 - val_loss: 0.3705 - val_accuracy: 0.8525 - lr: 3.4868e-14\n",
            "Epoch 44/50\n",
            "250/250 [==============================] - 2s 6ms/step - loss: 0.2930 - accuracy: 0.8781 - val_loss: 0.3705 - val_accuracy: 0.8525 - lr: 1.0460e-14\n",
            "Epoch 45/50\n",
            "248/250 [============================>.] - ETA: 0s - loss: 0.2928 - accuracy: 0.8780\n",
            "Epoch 45: ReduceLROnPlateau reducing learning rate to 3.138105874196098e-15.\n",
            "250/250 [==============================] - 2s 7ms/step - loss: 0.2930 - accuracy: 0.8781 - val_loss: 0.3705 - val_accuracy: 0.8525 - lr: 1.0460e-14\n",
            "Epoch 46/50\n",
            "250/250 [==============================] - 2s 7ms/step - loss: 0.2930 - accuracy: 0.8781 - val_loss: 0.3705 - val_accuracy: 0.8525 - lr: 3.1381e-15\n",
            "Epoch 47/50\n",
            "249/250 [============================>.] - ETA: 0s - loss: 0.2929 - accuracy: 0.8780\n",
            "Epoch 47: ReduceLROnPlateau reducing learning rate to 9.414317622588293e-16.\n",
            "250/250 [==============================] - 1s 6ms/step - loss: 0.2930 - accuracy: 0.8781 - val_loss: 0.3705 - val_accuracy: 0.8525 - lr: 3.1381e-15\n",
            "Epoch 48/50\n",
            "250/250 [==============================] - 1s 6ms/step - loss: 0.2930 - accuracy: 0.8781 - val_loss: 0.3705 - val_accuracy: 0.8525 - lr: 9.4143e-16\n",
            "Epoch 49/50\n",
            "249/250 [============================>.] - ETA: 0s - loss: 0.2925 - accuracy: 0.8781\n",
            "Epoch 49: ReduceLROnPlateau reducing learning rate to 2.8242954138314303e-16.\n",
            "250/250 [==============================] - 1s 6ms/step - loss: 0.2930 - accuracy: 0.8781 - val_loss: 0.3705 - val_accuracy: 0.8525 - lr: 9.4143e-16\n",
            "Epoch 50/50\n",
            "250/250 [==============================] - 2s 6ms/step - loss: 0.2930 - accuracy: 0.8781 - val_loss: 0.3705 - val_accuracy: 0.8525 - lr: 2.8243e-16\n"
          ]
        }
      ]
    },
    {
      "cell_type": "code",
      "source": [
        "y_pred = ann_model.predict(x_test)"
      ],
      "metadata": {
        "id": "PaTWOo8qFgQT"
      },
      "execution_count": 91,
      "outputs": []
    },
    {
      "cell_type": "code",
      "source": [
        "y_test"
      ],
      "metadata": {
        "colab": {
          "base_uri": "https://localhost:8080/"
        },
        "id": "kIdEtRxWFxIy",
        "outputId": "8e237d29-3239-40b0-d7bc-9c8407a8b9f0"
      },
      "execution_count": 93,
      "outputs": [
        {
          "output_type": "execute_result",
          "data": {
            "text/plain": [
              "array([0, 0, 0, ..., 1, 0, 0])"
            ]
          },
          "metadata": {},
          "execution_count": 93
        }
      ]
    },
    {
      "cell_type": "code",
      "source": [
        "l = []\n",
        "for i in y_pred:\n",
        "  if i >= 0.5:\n",
        "    l.append(1)\n",
        "  else:\n",
        "    l.append(0)\n",
        "l = np.array(l)\n"
      ],
      "metadata": {
        "id": "Nr4lpc-8FqUt"
      },
      "execution_count": 113,
      "outputs": []
    },
    {
      "cell_type": "code",
      "source": [
        "print(np.concatenate((l.reshape(len(y_pred),1), y_test.reshape(len(y_test),1)),1)[:100])"
      ],
      "metadata": {
        "colab": {
          "base_uri": "https://localhost:8080/"
        },
        "id": "_RbehM0EHffd",
        "outputId": "46de2a7b-0ae3-4f03-d0c9-9812c8734ffe"
      },
      "execution_count": 114,
      "outputs": [
        {
          "output_type": "stream",
          "name": "stdout",
          "text": [
            "[[0 0]\n",
            " [0 0]\n",
            " [0 0]\n",
            " [0 0]\n",
            " [0 0]\n",
            " [0 0]\n",
            " [0 0]\n",
            " [0 0]\n",
            " [1 0]\n",
            " [0 0]\n",
            " [0 0]\n",
            " [0 0]\n",
            " [0 0]\n",
            " [0 0]\n",
            " [0 0]\n",
            " [1 1]\n",
            " [0 0]\n",
            " [0 1]\n",
            " [0 0]\n",
            " [0 1]\n",
            " [0 0]\n",
            " [0 0]\n",
            " [0 0]\n",
            " [0 0]\n",
            " [0 0]\n",
            " [1 1]\n",
            " [0 0]\n",
            " [1 0]\n",
            " [0 0]\n",
            " [0 0]\n",
            " [0 0]\n",
            " [0 0]\n",
            " [0 0]\n",
            " [0 0]\n",
            " [0 0]\n",
            " [0 0]\n",
            " [0 0]\n",
            " [0 0]\n",
            " [0 0]\n",
            " [0 0]\n",
            " [0 0]\n",
            " [0 0]\n",
            " [0 0]\n",
            " [0 0]\n",
            " [0 1]\n",
            " [0 0]\n",
            " [0 0]\n",
            " [0 0]\n",
            " [0 0]\n",
            " [0 0]\n",
            " [0 0]\n",
            " [0 0]\n",
            " [0 0]\n",
            " [0 0]\n",
            " [0 0]\n",
            " [0 0]\n",
            " [0 0]\n",
            " [0 0]\n",
            " [0 0]\n",
            " [0 0]\n",
            " [0 0]\n",
            " [0 0]\n",
            " [0 0]\n",
            " [0 0]\n",
            " [0 0]\n",
            " [0 0]\n",
            " [1 1]\n",
            " [0 0]\n",
            " [0 0]\n",
            " [0 0]\n",
            " [0 0]\n",
            " [0 0]\n",
            " [0 0]\n",
            " [0 0]\n",
            " [0 0]\n",
            " [0 0]\n",
            " [0 0]\n",
            " [0 1]\n",
            " [0 1]\n",
            " [0 0]\n",
            " [0 0]\n",
            " [0 1]\n",
            " [0 0]\n",
            " [0 0]\n",
            " [0 0]\n",
            " [0 0]\n",
            " [0 0]\n",
            " [0 0]\n",
            " [0 0]\n",
            " [0 0]\n",
            " [0 0]\n",
            " [0 0]\n",
            " [0 1]\n",
            " [0 0]\n",
            " [0 0]\n",
            " [0 0]\n",
            " [0 0]\n",
            " [0 0]\n",
            " [0 0]\n",
            " [1 1]]\n"
          ]
        }
      ]
    },
    {
      "cell_type": "markdown",
      "source": [
        "#Predicting the solution based on input"
      ],
      "metadata": {
        "id": "ah4ABo9FFIRk"
      }
    },
    {
      "cell_type": "code",
      "source": [
        "# input the data in the way it was represented after one hot encoding\n",
        "# we have to transform the data by performing feature scaling\n",
        "print(ann_model.predict(sc.transform([[1,0,0,600,1,40,3,60000,2,1,1,50000]]))>0.5)"
      ],
      "metadata": {
        "colab": {
          "base_uri": "https://localhost:8080/"
        },
        "id": "MyzM0urVAglF",
        "outputId": "8aacab53-8ccc-4d61-c8e8-1d34e378de1c"
      },
      "execution_count": 110,
      "outputs": [
        {
          "output_type": "stream",
          "name": "stdout",
          "text": [
            "[[False]]\n"
          ]
        }
      ]
    },
    {
      "cell_type": "code",
      "source": [
        "# so the customer is not going to leave or exit the bank as per the predictions"
      ],
      "metadata": {
        "id": "vLs5bRCDIu8L"
      },
      "execution_count": 107,
      "outputs": []
    },
    {
      "cell_type": "markdown",
      "source": [
        "#Confusion matrix and visualisation"
      ],
      "metadata": {
        "id": "YXAV9D6fJi3d"
      }
    },
    {
      "cell_type": "code",
      "source": [
        "from sklearn.metrics import classification_report, confusion_matrix, accuracy_score\n",
        "cm = confusion_matrix(y_test, l)\n",
        "import seaborn as sns\n",
        "sns.heatmap(cm, annot=True)"
      ],
      "metadata": {
        "colab": {
          "base_uri": "https://localhost:8080/",
          "height": 282
        },
        "id": "PbPYi_LmI17G",
        "outputId": "112307a4-453c-4cd8-a229-20caf87b85fc"
      },
      "execution_count": 119,
      "outputs": [
        {
          "output_type": "execute_result",
          "data": {
            "text/plain": [
              "<matplotlib.axes._subplots.AxesSubplot at 0x7f04e8ed4cd0>"
            ]
          },
          "metadata": {},
          "execution_count": 119
        },
        {
          "output_type": "display_data",
          "data": {
            "image/png": "[encoded data removed]",
            "text/plain": [
              "<Figure size 432x288 with 2 Axes>"
            ]
          },
          "metadata": {
            "needs_background": "light"
          }
        }
      ]
    },
    {
      "cell_type": "code",
      "source": [
        "print(cm)"
      ],
      "metadata": {
        "colab": {
          "base_uri": "https://localhost:8080/"
        },
        "id": "eL5-KhjaJsmB",
        "outputId": "8fa47221-ec5e-4b40-c17b-10ed05372567"
      },
      "execution_count": 116,
      "outputs": [
        {
          "output_type": "stream",
          "name": "stdout",
          "text": [
            "[[1523   61]\n",
            " [ 234  182]]\n"
          ]
        }
      ]
    },
    {
      "cell_type": "code",
      "source": [
        "accuracy_score(y_test, y_pred>0.5) "
      ],
      "metadata": {
        "colab": {
          "base_uri": "https://localhost:8080/"
        },
        "id": "ZtILiU1jKHcF",
        "outputId": "f3132a92-e5f4-45d8-bd42-90e8769b2130"
      },
      "execution_count": 122,
      "outputs": [
        {
          "output_type": "execute_result",
          "data": {
            "text/plain": [
              "0.8525"
            ]
          },
          "metadata": {},
          "execution_count": 122
        }
      ]
    },
    {
      "cell_type": "code",
      "source": [
        ""
      ],
      "metadata": {
        "id": "gvgCLg77KZif"
      },
      "execution_count": null,
      "outputs": []
    }
  ]
}