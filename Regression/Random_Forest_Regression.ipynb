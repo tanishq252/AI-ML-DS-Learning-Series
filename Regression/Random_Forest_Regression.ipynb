{
  "nbformat": 4,
  "nbformat_minor": 0,
  "metadata": {
    "colab": {
      "name": "Random Forest Regression.ipynb",
      "provenance": [],
      "authorship_tag": "ABX9TyNMvco7Wv1Nv/8/XHoBfW1m",
      "include_colab_link": true
    },
    "kernelspec": {
      "name": "python3",
      "display_name": "Python 3"
    },
    "language_info": {
      "name": "python"
    }
  },
  "cells": [
    {
      "cell_type": "markdown",
      "metadata": {
        "id": "view-in-github",
        "colab_type": "text"
      },
      "source": [
        "<a href=\"https://colab.research.google.com/github/tanishq252/AI-ML-DS-Learning-Series/blob/main/Random_Forest_Regression.ipynb\" target=\"_parent\"><img src=\"https://colab.research.google.com/assets/colab-badge.svg\" alt=\"Open In Colab\"/></a>"
      ]
    },
    {
      "cell_type": "markdown",
      "source": [
        "#Importing Dataset and libraries"
      ],
      "metadata": {
        "id": "umldtk1PH4NF"
      }
    },
    {
      "cell_type": "code",
      "execution_count": null,
      "metadata": {
        "id": "JxT0t2Wa6PgT"
      },
      "outputs": [],
      "source": [
        "import numpy as np\n",
        "import pandas as pd\n",
        "import matplotlib.pyplot as plt"
      ]
    },
    {
      "cell_type": "code",
      "source": [
        "dataSet = pd.read_csv(\"Position_Salaries.csv\")\n",
        "dataSet"
      ],
      "metadata": {
        "colab": {
          "base_uri": "https://localhost:8080/",
          "height": 363
        },
        "id": "RE4LoDCUIDzz",
        "outputId": "36b898ca-ddc6-423a-c98e-2705fac51dee"
      },
      "execution_count": null,
      "outputs": [
        {
          "output_type": "execute_result",
          "data": {
            "text/html": [
              "\n",
              "  <div id=\"df-2dc5d51a-66bd-4c22-9736-0b6041a1bd81\">\n",
              "    <div class=\"colab-df-container\">\n",
              "      <div>\n",
              "<style scoped>\n",
              "    .dataframe tbody tr th:only-of-type {\n",
              "        vertical-align: middle;\n",
              "    }\n",
              "\n",
              "    .dataframe tbody tr th {\n",
              "        vertical-align: top;\n",
              "    }\n",
              "\n",
              "    .dataframe thead th {\n",
              "        text-align: right;\n",
              "    }\n",
              "</style>\n",
              "<table border=\"1\" class=\"dataframe\">\n",
              "  <thead>\n",
              "    <tr style=\"text-align: right;\">\n",
              "      <th></th>\n",
              "      <th>Position</th>\n",
              "      <th>Level</th>\n",
              "      <th>Salary</th>\n",
              "    </tr>\n",
              "  </thead>\n",
              "  <tbody>\n",
              "    <tr>\n",
              "      <th>0</th>\n",
              "      <td>Business Analyst</td>\n",
              "      <td>1</td>\n",
              "      <td>45000</td>\n",
              "    </tr>\n",
              "    <tr>\n",
              "      <th>1</th>\n",
              "      <td>Junior Consultant</td>\n",
              "      <td>2</td>\n",
              "      <td>50000</td>\n",
              "    </tr>\n",
              "    <tr>\n",
              "      <th>2</th>\n",
              "      <td>Senior Consultant</td>\n",
              "      <td>3</td>\n",
              "      <td>60000</td>\n",
              "    </tr>\n",
              "    <tr>\n",
              "      <th>3</th>\n",
              "      <td>Manager</td>\n",
              "      <td>4</td>\n",
              "      <td>80000</td>\n",
              "    </tr>\n",
              "    <tr>\n",
              "      <th>4</th>\n",
              "      <td>Country Manager</td>\n",
              "      <td>5</td>\n",
              "      <td>110000</td>\n",
              "    </tr>\n",
              "    <tr>\n",
              "      <th>5</th>\n",
              "      <td>Region Manager</td>\n",
              "      <td>6</td>\n",
              "      <td>150000</td>\n",
              "    </tr>\n",
              "    <tr>\n",
              "      <th>6</th>\n",
              "      <td>Partner</td>\n",
              "      <td>7</td>\n",
              "      <td>200000</td>\n",
              "    </tr>\n",
              "    <tr>\n",
              "      <th>7</th>\n",
              "      <td>Senior Partner</td>\n",
              "      <td>8</td>\n",
              "      <td>300000</td>\n",
              "    </tr>\n",
              "    <tr>\n",
              "      <th>8</th>\n",
              "      <td>C-level</td>\n",
              "      <td>9</td>\n",
              "      <td>500000</td>\n",
              "    </tr>\n",
              "    <tr>\n",
              "      <th>9</th>\n",
              "      <td>CEO</td>\n",
              "      <td>10</td>\n",
              "      <td>1000000</td>\n",
              "    </tr>\n",
              "  </tbody>\n",
              "</table>\n",
              "</div>\n",
              "      <button class=\"colab-df-convert\" onclick=\"convertToInteractive('df-2dc5d51a-66bd-4c22-9736-0b6041a1bd81')\"\n",
              "              title=\"Convert this dataframe to an interactive table.\"\n",
              "              style=\"display:none;\">\n",
              "        \n",
              "  <svg xmlns=\"http://www.w3.org/2000/svg\" height=\"24px\"viewBox=\"0 0 24 24\"\n",
              "       width=\"24px\">\n",
              "    <path d=\"M0 0h24v24H0V0z\" fill=\"none\"/>\n",
              "    <path d=\"M18.56 5.44l.94 2.06.94-2.06 2.06-.94-2.06-.94-.94-2.06-.94 2.06-2.06.94zm-11 1L8.5 8.5l.94-2.06 2.06-.94-2.06-.94L8.5 2.5l-.94 2.06-2.06.94zm10 10l.94 2.06.94-2.06 2.06-.94-2.06-.94-.94-2.06-.94 2.06-2.06.94z\"/><path d=\"M17.41 7.96l-1.37-1.37c-.4-.4-.92-.59-1.43-.59-.52 0-1.04.2-1.43.59L10.3 9.45l-7.72 7.72c-.78.78-.78 2.05 0 2.83L4 21.41c.39.39.9.59 1.41.59.51 0 1.02-.2 1.41-.59l7.78-7.78 2.81-2.81c.8-.78.8-2.07 0-2.86zM5.41 20L4 18.59l7.72-7.72 1.47 1.35L5.41 20z\"/>\n",
              "  </svg>\n",
              "      </button>\n",
              "      \n",
              "  <style>\n",
              "    .colab-df-container {\n",
              "      display:flex;\n",
              "      flex-wrap:wrap;\n",
              "      gap: 12px;\n",
              "    }\n",
              "\n",
              "    .colab-df-convert {\n",
              "      background-color: #E8F0FE;\n",
              "      border: none;\n",
              "      border-radius: 50%;\n",
              "      cursor: pointer;\n",
              "      display: none;\n",
              "      fill: #1967D2;\n",
              "      height: 32px;\n",
              "      padding: 0 0 0 0;\n",
              "      width: 32px;\n",
              "    }\n",
              "\n",
              "    .colab-df-convert:hover {\n",
              "      background-color: #E2EBFA;\n",
              "      box-shadow: 0px 1px 2px rgba(60, 64, 67, 0.3), 0px 1px 3px 1px rgba(60, 64, 67, 0.15);\n",
              "      fill: #174EA6;\n",
              "    }\n",
              "\n",
              "    [theme=dark] .colab-df-convert {\n",
              "      background-color: #3B4455;\n",
              "      fill: #D2E3FC;\n",
              "    }\n",
              "\n",
              "    [theme=dark] .colab-df-convert:hover {\n",
              "      background-color: #434B5C;\n",
              "      box-shadow: 0px 1px 3px 1px rgba(0, 0, 0, 0.15);\n",
              "      filter: drop-shadow(0px 1px 2px rgba(0, 0, 0, 0.3));\n",
              "      fill: #FFFFFF;\n",
              "    }\n",
              "  </style>\n",
              "\n",
              "      <script>\n",
              "        const buttonEl =\n",
              "          document.querySelector('#df-2dc5d51a-66bd-4c22-9736-0b6041a1bd81 button.colab-df-convert');\n",
              "        buttonEl.style.display =\n",
              "          google.colab.kernel.accessAllowed ? 'block' : 'none';\n",
              "\n",
              "        async function convertToInteractive(key) {\n",
              "          const element = document.querySelector('#df-2dc5d51a-66bd-4c22-9736-0b6041a1bd81');\n",
              "          const dataTable =\n",
              "            await google.colab.kernel.invokeFunction('convertToInteractive',\n",
              "                                                     [key], {});\n",
              "          if (!dataTable) return;\n",
              "\n",
              "          const docLinkHtml = 'Like what you see? Visit the ' +\n",
              "            '<a target=\"_blank\" href=https://colab.research.google.com/notebooks/data_table.ipynb>data table notebook</a>'\n",
              "            + ' to learn more about interactive tables.';\n",
              "          element.innerHTML = '';\n",
              "          dataTable['output_type'] = 'display_data';\n",
              "          await google.colab.output.renderOutput(dataTable, element);\n",
              "          const docLink = document.createElement('div');\n",
              "          docLink.innerHTML = docLinkHtml;\n",
              "          element.appendChild(docLink);\n",
              "        }\n",
              "      </script>\n",
              "    </div>\n",
              "  </div>\n",
              "  "
            ],
            "text/plain": [
              "            Position  Level   Salary\n",
              "0   Business Analyst      1    45000\n",
              "1  Junior Consultant      2    50000\n",
              "2  Senior Consultant      3    60000\n",
              "3            Manager      4    80000\n",
              "4    Country Manager      5   110000\n",
              "5     Region Manager      6   150000\n",
              "6            Partner      7   200000\n",
              "7     Senior Partner      8   300000\n",
              "8            C-level      9   500000\n",
              "9                CEO     10  1000000"
            ]
          },
          "metadata": {},
          "execution_count": 3
        }
      ]
    },
    {
      "cell_type": "code",
      "source": [
        "x = dataSet.iloc[:,1:-1].values\n",
        "y = dataSet.iloc[:,-1].values"
      ],
      "metadata": {
        "id": "iaj2YEapIi0z"
      },
      "execution_count": null,
      "outputs": []
    },
    {
      "cell_type": "markdown",
      "source": [
        "#Training the dataset with Random Forest Regression"
      ],
      "metadata": {
        "id": "dg9hwGwhIx9A"
      }
    },
    {
      "cell_type": "code",
      "source": [
        "from sklearn.ensemble import RandomForestRegressor\n",
        "# more the number of n_estimators better the accuracy\n",
        "# more time complexity tho :p\n",
        "RFModel = RandomForestRegressor(n_estimators=11)\n",
        "RFModel.fit(x,y)\n",
        "RFModel.score(x,y)"
      ],
      "metadata": {
        "colab": {
          "base_uri": "https://localhost:8080/"
        },
        "id": "PcKzAhjpIpGc",
        "outputId": "ec6242e1-f6e2-48d0-bb0e-0fd0bba6d931"
      },
      "execution_count": null,
      "outputs": [
        {
          "output_type": "execute_result",
          "data": {
            "text/plain": [
              "0.9929360588326045"
            ]
          },
          "metadata": {},
          "execution_count": 23
        }
      ]
    },
    {
      "cell_type": "markdown",
      "source": [
        "#Predicting the values based on input"
      ],
      "metadata": {
        "id": "6Ub9MmUBJvWo"
      }
    },
    {
      "cell_type": "code",
      "source": [
        "level = input(\"Enter the position level to check the Salary : \")\n",
        "level = np.array(level).reshape(-1,1)\n",
        "answer  = (RFModel.predict(level))\n",
        "print(\"Predicted Salary using Random Forest Regression is : \", answer[0])"
      ],
      "metadata": {
        "colab": {
          "base_uri": "https://localhost:8080/"
        },
        "id": "zdqbwsJmJhK7",
        "outputId": "b7e4f1f4-7133-4ae6-8761-a9121db13793"
      },
      "execution_count": null,
      "outputs": [
        {
          "output_type": "stream",
          "name": "stdout",
          "text": [
            "Enter the position level to check the Salary : 8\n",
            "Predicted Salary using Random Forest Regression is :  290909.0909090909\n"
          ]
        }
      ]
    },
    {
      "cell_type": "code",
      "source": [
        "level = input(\"Enter the position level to check the Salary : \")\n",
        "level = np.array(level).reshape(-1,1)\n",
        "answer  = (RFModel.predict(level))\n",
        "print(\"Predicted Salary using Random Forest Regression is : \", answer[0])"
      ],
      "metadata": {
        "colab": {
          "base_uri": "https://localhost:8080/"
        },
        "id": "iNd4_Op7LFNB",
        "outputId": "12ebb7b5-782c-4178-f13f-a1a46b62996e"
      },
      "execution_count": null,
      "outputs": [
        {
          "output_type": "stream",
          "name": "stdout",
          "text": [
            "Enter the position level to check the Salary : 8.4\n",
            "Predicted Salary using Random Forest Regression is :  318181.8181818182\n"
          ]
        }
      ]
    },
    {
      "cell_type": "code",
      "source": [
        "level = input(\"Enter the position level to check the Salary : \")\n",
        "level = np.array(level).reshape(-1,1)\n",
        "answer  = (RFModel.predict(level))\n",
        "print(\"Predicted Salary using Random Forest Regression is : \", answer[0])"
      ],
      "metadata": {
        "colab": {
          "base_uri": "https://localhost:8080/"
        },
        "id": "pUylFezFLP78",
        "outputId": "0b851e62-2093-434d-9147-f97db2e2952c"
      },
      "execution_count": null,
      "outputs": [
        {
          "output_type": "stream",
          "name": "stdout",
          "text": [
            "Enter the position level to check the Salary : 8.7\n",
            "Predicted Salary using Random Forest Regression is :  536363.6363636364\n"
          ]
        }
      ]
    },
    {
      "cell_type": "code",
      "source": [
        "level = input(\"Enter the position level to check the Salary : \")\n",
        "level = np.array(level).reshape(-1,1)\n",
        "answer  = (RFModel.predict(level))\n",
        "print(\"Predicted Salary using Random Forest Regression is : \", answer[0])"
      ],
      "metadata": {
        "colab": {
          "base_uri": "https://localhost:8080/"
        },
        "id": "ejV08SIcLSKW",
        "outputId": "5ef9fb7a-f049-45f1-c5d2-d2aaa559ecf3"
      },
      "execution_count": null,
      "outputs": [
        {
          "output_type": "stream",
          "name": "stdout",
          "text": [
            "Enter the position level to check the Salary : 8.9\n",
            "Predicted Salary using Random Forest Regression is :  536363.6363636364\n"
          ]
        }
      ]
    },
    {
      "cell_type": "code",
      "source": [
        "# overall the performance of Random forest regression is better as compared to decision trees"
      ],
      "metadata": {
        "id": "rSZJkuAFLVZp"
      },
      "execution_count": null,
      "outputs": []
    },
    {
      "cell_type": "markdown",
      "source": [
        "#Visualising the performance of the RF regression"
      ],
      "metadata": {
        "id": "8yYj8As2Lh4K"
      }
    },
    {
      "cell_type": "code",
      "source": [
        "# here taking x_grid gives us detailed visualisation \n",
        "# because we are taking the values with step size 0.1\n",
        "# from the diagram we can conclude that the graph acts like a step function\n",
        "x_grid = np.arange(min(x), max(x), 0.1)\n",
        "x_grid = x_grid.reshape(len(x_grid), 1)\n",
        "plt.scatter(x, y, color = 'black')\n",
        "plt.plot(x_grid, RFModel.predict(x_grid), color = 'red')\n",
        "plt.title(\"Decision Tree Regression Model\")\n",
        "plt.xlabel(\"Position level\")\n",
        "plt.legend(['Predicted Salary', \"Original Salary\"]) \n",
        "plt.ylabel(\"Salary (10^6)\")\n",
        "plt.show()"
      ],
      "metadata": {
        "colab": {
          "base_uri": "https://localhost:8080/",
          "height": 295
        },
        "id": "OkIw-ACzLfd2",
        "outputId": "bac894aa-d832-4e10-bc90-0600a406778b"
      },
      "execution_count": null,
      "outputs": [
        {
          "output_type": "display_data",
          "data": {
            "image/png": "[encoded data removed]",
            "text/plain": [
              "<Figure size 432x288 with 1 Axes>"
            ]
          },
          "metadata": {
            "needs_background": "light"
          }
        }
      ]
    },
    {
      "cell_type": "code",
      "source": [
        "# this model is better from decision tree model as it will give valid predictions"
      ],
      "metadata": {
        "id": "mBKnia3WMPtw"
      },
      "execution_count": null,
      "outputs": []
    },
    {
      "cell_type": "markdown",
      "source": [
        "#The Code template"
      ],
      "metadata": {
        "id": "TRN4I7j1UL8l"
      }
    },
    {
      "cell_type": "code",
      "source": [
        "# Importing libraries\n",
        "import numpy as np\n",
        "import pandas as pd\n",
        "import matplotlib.pyplot as plt\n",
        "\n",
        "#################################################################\n",
        "\n",
        "# Importing dataSet\n",
        "data = pd.read_csv(\"data.csv\")\n",
        "\n",
        "#################################################################\n",
        "\n",
        "# Assigning the data\n",
        "x = data.iloc[:,1:-1].values\n",
        "y = data.iloc[:,-1].values\n",
        "\n",
        "#################################################################\n",
        "\n",
        "# One hot Encoding if required\n",
        "from sklearn.compose import ColumnTransformer\n",
        "from sklearn.preprocessing import OneHotEncoder\n",
        "    # shift+tab to see arguments and their importance .... the index '0' is the column which we have to encode\n",
        "    # in categorical format\n",
        "    # as we want first column(diagnosis) of the data set to be one hot encoded so we have entered 0\n",
        "ct = ColumnTransformer(transformers = [('encoder', OneHotEncoder(), [0])], remainder = 'passthrough')\n",
        "    # to update the x value\n",
        "x = np.array(ct.fit_transform(x))\n",
        "\n",
        "#################################################################\n",
        "\n",
        "# Splitting the dataset\n",
        "from sklearn.model_selection import train_test_split\n",
        "x_train, x_test, y_train, y_test = train_test_split(x,y,train_size = 0.8)\n",
        "\n",
        "#################################################################\n",
        "\n",
        "# Creating the model\n",
        "from sklearn.ensemble import RandomForestRegressor\n",
        "RFModel = RandomForestRegressor(n_estimators=11)\n",
        "RFModel.fit(x_train, y_train)\n",
        "RFModel.score(x_train, y_train)# training accuracy\n",
        "\n",
        "#################################################################\n",
        "\n",
        "# Predicting the results\n",
        "y_pred = RFModel.predict(x_test)\n",
        "    # to compare the prediceted and actual outputs let us concatenate both of em and print so that it is easy to check ;)\n",
        "np.set_printoptions(precision = 2)\n",
        "print(np.concatenate((y_pred.reshape(len(y_pred),1), y_test.reshape(len(y_test),1)),1))\n",
        "\n",
        "#################################################################\n",
        "\n",
        "# evaluating the performance\n",
        "from sklearn.metrics import r2_score\n",
        "print(r2_score(y_test, y_pred))"
      ],
      "metadata": {
        "id": "hzfW8mgBULUM"
      },
      "execution_count": null,
      "outputs": []
    }
  ]
}