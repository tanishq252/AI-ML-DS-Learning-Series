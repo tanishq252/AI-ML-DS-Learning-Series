{
  "nbformat": 4,
  "nbformat_minor": 0,
  "metadata": {
    "colab": {
      "name": "Simple Linear Regression.ipynb",
      "provenance": [],
      "authorship_tag": "ABX9TyPrtWI2hJW/bXjHdLmIYgX2",
      "include_colab_link": true
    },
    "kernelspec": {
      "name": "python3",
      "display_name": "Python 3"
    },
    "language_info": {
      "name": "python"
    }
  },
  "cells": [
    {
      "cell_type": "markdown",
      "metadata": {
        "id": "view-in-github",
        "colab_type": "text"
      },
      "source": [
        "<a href=\"https://colab.research.google.com/github/tanishq252/AI-ML-DS-Learning-Series/blob/main/Simple_Linear_Regression.ipynb\" target=\"_parent\"><img src=\"https://colab.research.google.com/assets/colab-badge.svg\" alt=\"Open In Colab\"/></a>"
      ]
    },
    {
      "cell_type": "markdown",
      "source": [
        "#Simple Linear Regression\n",
        "\n"
      ],
      "metadata": {
        "id": "gut6oUcOzc-M"
      }
    },
    {
      "cell_type": "markdown",
      "source": [
        "###Import libraries\n"
      ],
      "metadata": {
        "id": "HPYxqgYkzmEl"
      }
    },
    {
      "cell_type": "code",
      "source": [
        "import numpy as np\n",
        "import pandas as pd\n",
        "import matplotlib.pyplot as plt\n"
      ],
      "metadata": {
        "id": "5MV0yfsizkHy"
      },
      "execution_count": 1,
      "outputs": []
    },
    {
      "cell_type": "markdown",
      "source": [
        "###Import dataset"
      ],
      "metadata": {
        "id": "qx1YosnW0f01"
      }
    },
    {
      "cell_type": "code",
      "source": [
        "dataSet = pd.read_csv('data.csv')\n",
        "dataSet.head()"
      ],
      "metadata": {
        "colab": {
          "base_uri": "https://localhost:8080/",
          "height": 288
        },
        "id": "d3Fp5b0j0jNE",
        "outputId": "dfb5a41c-1509-4003-93e8-f8bde17d24bc"
      },
      "execution_count": 83,
      "outputs": [
        {
          "output_type": "execute_result",
          "data": {
            "text/html": [
              "\n",
              "  <div id=\"df-456b182d-a778-41df-ba9e-ee398389db6f\">\n",
              "    <div class=\"colab-df-container\">\n",
              "      <div>\n",
              "<style scoped>\n",
              "    .dataframe tbody tr th:only-of-type {\n",
              "        vertical-align: middle;\n",
              "    }\n",
              "\n",
              "    .dataframe tbody tr th {\n",
              "        vertical-align: top;\n",
              "    }\n",
              "\n",
              "    .dataframe thead th {\n",
              "        text-align: right;\n",
              "    }\n",
              "</style>\n",
              "<table border=\"1\" class=\"dataframe\">\n",
              "  <thead>\n",
              "    <tr style=\"text-align: right;\">\n",
              "      <th></th>\n",
              "      <th>id</th>\n",
              "      <th>diagnosis</th>\n",
              "      <th>radius_mean</th>\n",
              "      <th>texture_mean</th>\n",
              "      <th>perimeter_mean</th>\n",
              "      <th>area_mean</th>\n",
              "      <th>smoothness_mean</th>\n",
              "      <th>compactness_mean</th>\n",
              "      <th>concavity_mean</th>\n",
              "      <th>concave points_mean</th>\n",
              "      <th>symmetry_mean</th>\n",
              "      <th>fractal_dimension_mean</th>\n",
              "      <th>radius_se</th>\n",
              "      <th>texture_se</th>\n",
              "      <th>perimeter_se</th>\n",
              "      <th>area_se</th>\n",
              "      <th>smoothness_se</th>\n",
              "      <th>compactness_se</th>\n",
              "      <th>concavity_se</th>\n",
              "      <th>concave points_se</th>\n",
              "      <th>symmetry_se</th>\n",
              "      <th>fractal_dimension_se</th>\n",
              "      <th>radius_worst</th>\n",
              "      <th>texture_worst</th>\n",
              "      <th>perimeter_worst</th>\n",
              "      <th>area_worst</th>\n",
              "      <th>smoothness_worst</th>\n",
              "      <th>compactness_worst</th>\n",
              "      <th>concavity_worst</th>\n",
              "      <th>concave points_worst</th>\n",
              "      <th>symmetry_worst</th>\n",
              "      <th>fractal_dimension_worst</th>\n",
              "      <th>Unnamed: 32</th>\n",
              "    </tr>\n",
              "  </thead>\n",
              "  <tbody>\n",
              "    <tr>\n",
              "      <th>0</th>\n",
              "      <td>842302</td>\n",
              "      <td>M</td>\n",
              "      <td>17.99</td>\n",
              "      <td>10.38</td>\n",
              "      <td>122.80</td>\n",
              "      <td>1001.0</td>\n",
              "      <td>0.11840</td>\n",
              "      <td>0.27760</td>\n",
              "      <td>0.3001</td>\n",
              "      <td>0.14710</td>\n",
              "      <td>0.2419</td>\n",
              "      <td>0.07871</td>\n",
              "      <td>1.0950</td>\n",
              "      <td>0.9053</td>\n",
              "      <td>8.589</td>\n",
              "      <td>153.40</td>\n",
              "      <td>0.006399</td>\n",
              "      <td>0.04904</td>\n",
              "      <td>0.05373</td>\n",
              "      <td>0.01587</td>\n",
              "      <td>0.03003</td>\n",
              "      <td>0.006193</td>\n",
              "      <td>25.38</td>\n",
              "      <td>17.33</td>\n",
              "      <td>184.60</td>\n",
              "      <td>2019.0</td>\n",
              "      <td>0.1622</td>\n",
              "      <td>0.6656</td>\n",
              "      <td>0.7119</td>\n",
              "      <td>0.2654</td>\n",
              "      <td>0.4601</td>\n",
              "      <td>0.11890</td>\n",
              "      <td>NaN</td>\n",
              "    </tr>\n",
              "    <tr>\n",
              "      <th>1</th>\n",
              "      <td>842517</td>\n",
              "      <td>M</td>\n",
              "      <td>20.57</td>\n",
              "      <td>17.77</td>\n",
              "      <td>132.90</td>\n",
              "      <td>1326.0</td>\n",
              "      <td>0.08474</td>\n",
              "      <td>0.07864</td>\n",
              "      <td>0.0869</td>\n",
              "      <td>0.07017</td>\n",
              "      <td>0.1812</td>\n",
              "      <td>0.05667</td>\n",
              "      <td>0.5435</td>\n",
              "      <td>0.7339</td>\n",
              "      <td>3.398</td>\n",
              "      <td>74.08</td>\n",
              "      <td>0.005225</td>\n",
              "      <td>0.01308</td>\n",
              "      <td>0.01860</td>\n",
              "      <td>0.01340</td>\n",
              "      <td>0.01389</td>\n",
              "      <td>0.003532</td>\n",
              "      <td>24.99</td>\n",
              "      <td>23.41</td>\n",
              "      <td>158.80</td>\n",
              "      <td>1956.0</td>\n",
              "      <td>0.1238</td>\n",
              "      <td>0.1866</td>\n",
              "      <td>0.2416</td>\n",
              "      <td>0.1860</td>\n",
              "      <td>0.2750</td>\n",
              "      <td>0.08902</td>\n",
              "      <td>NaN</td>\n",
              "    </tr>\n",
              "    <tr>\n",
              "      <th>2</th>\n",
              "      <td>84300903</td>\n",
              "      <td>M</td>\n",
              "      <td>19.69</td>\n",
              "      <td>21.25</td>\n",
              "      <td>130.00</td>\n",
              "      <td>1203.0</td>\n",
              "      <td>0.10960</td>\n",
              "      <td>0.15990</td>\n",
              "      <td>0.1974</td>\n",
              "      <td>0.12790</td>\n",
              "      <td>0.2069</td>\n",
              "      <td>0.05999</td>\n",
              "      <td>0.7456</td>\n",
              "      <td>0.7869</td>\n",
              "      <td>4.585</td>\n",
              "      <td>94.03</td>\n",
              "      <td>0.006150</td>\n",
              "      <td>0.04006</td>\n",
              "      <td>0.03832</td>\n",
              "      <td>0.02058</td>\n",
              "      <td>0.02250</td>\n",
              "      <td>0.004571</td>\n",
              "      <td>23.57</td>\n",
              "      <td>25.53</td>\n",
              "      <td>152.50</td>\n",
              "      <td>1709.0</td>\n",
              "      <td>0.1444</td>\n",
              "      <td>0.4245</td>\n",
              "      <td>0.4504</td>\n",
              "      <td>0.2430</td>\n",
              "      <td>0.3613</td>\n",
              "      <td>0.08758</td>\n",
              "      <td>NaN</td>\n",
              "    </tr>\n",
              "    <tr>\n",
              "      <th>3</th>\n",
              "      <td>84348301</td>\n",
              "      <td>M</td>\n",
              "      <td>11.42</td>\n",
              "      <td>20.38</td>\n",
              "      <td>77.58</td>\n",
              "      <td>386.1</td>\n",
              "      <td>0.14250</td>\n",
              "      <td>0.28390</td>\n",
              "      <td>0.2414</td>\n",
              "      <td>0.10520</td>\n",
              "      <td>0.2597</td>\n",
              "      <td>0.09744</td>\n",
              "      <td>0.4956</td>\n",
              "      <td>1.1560</td>\n",
              "      <td>3.445</td>\n",
              "      <td>27.23</td>\n",
              "      <td>0.009110</td>\n",
              "      <td>0.07458</td>\n",
              "      <td>0.05661</td>\n",
              "      <td>0.01867</td>\n",
              "      <td>0.05963</td>\n",
              "      <td>0.009208</td>\n",
              "      <td>14.91</td>\n",
              "      <td>26.50</td>\n",
              "      <td>98.87</td>\n",
              "      <td>567.7</td>\n",
              "      <td>0.2098</td>\n",
              "      <td>0.8663</td>\n",
              "      <td>0.6869</td>\n",
              "      <td>0.2575</td>\n",
              "      <td>0.6638</td>\n",
              "      <td>0.17300</td>\n",
              "      <td>NaN</td>\n",
              "    </tr>\n",
              "    <tr>\n",
              "      <th>4</th>\n",
              "      <td>84358402</td>\n",
              "      <td>M</td>\n",
              "      <td>20.29</td>\n",
              "      <td>14.34</td>\n",
              "      <td>135.10</td>\n",
              "      <td>1297.0</td>\n",
              "      <td>0.10030</td>\n",
              "      <td>0.13280</td>\n",
              "      <td>0.1980</td>\n",
              "      <td>0.10430</td>\n",
              "      <td>0.1809</td>\n",
              "      <td>0.05883</td>\n",
              "      <td>0.7572</td>\n",
              "      <td>0.7813</td>\n",
              "      <td>5.438</td>\n",
              "      <td>94.44</td>\n",
              "      <td>0.011490</td>\n",
              "      <td>0.02461</td>\n",
              "      <td>0.05688</td>\n",
              "      <td>0.01885</td>\n",
              "      <td>0.01756</td>\n",
              "      <td>0.005115</td>\n",
              "      <td>22.54</td>\n",
              "      <td>16.67</td>\n",
              "      <td>152.20</td>\n",
              "      <td>1575.0</td>\n",
              "      <td>0.1374</td>\n",
              "      <td>0.2050</td>\n",
              "      <td>0.4000</td>\n",
              "      <td>0.1625</td>\n",
              "      <td>0.2364</td>\n",
              "      <td>0.07678</td>\n",
              "      <td>NaN</td>\n",
              "    </tr>\n",
              "  </tbody>\n",
              "</table>\n",
              "</div>\n",
              "      <button class=\"colab-df-convert\" onclick=\"convertToInteractive('df-456b182d-a778-41df-ba9e-ee398389db6f')\"\n",
              "              title=\"Convert this dataframe to an interactive table.\"\n",
              "              style=\"display:none;\">\n",
              "        \n",
              "  <svg xmlns=\"http://www.w3.org/2000/svg\" height=\"24px\"viewBox=\"0 0 24 24\"\n",
              "       width=\"24px\">\n",
              "    <path d=\"M0 0h24v24H0V0z\" fill=\"none\"/>\n",
              "    <path d=\"M18.56 5.44l.94 2.06.94-2.06 2.06-.94-2.06-.94-.94-2.06-.94 2.06-2.06.94zm-11 1L8.5 8.5l.94-2.06 2.06-.94-2.06-.94L8.5 2.5l-.94 2.06-2.06.94zm10 10l.94 2.06.94-2.06 2.06-.94-2.06-.94-.94-2.06-.94 2.06-2.06.94z\"/><path d=\"M17.41 7.96l-1.37-1.37c-.4-.4-.92-.59-1.43-.59-.52 0-1.04.2-1.43.59L10.3 9.45l-7.72 7.72c-.78.78-.78 2.05 0 2.83L4 21.41c.39.39.9.59 1.41.59.51 0 1.02-.2 1.41-.59l7.78-7.78 2.81-2.81c.8-.78.8-2.07 0-2.86zM5.41 20L4 18.59l7.72-7.72 1.47 1.35L5.41 20z\"/>\n",
              "  </svg>\n",
              "      </button>\n",
              "      \n",
              "  <style>\n",
              "    .colab-df-container {\n",
              "      display:flex;\n",
              "      flex-wrap:wrap;\n",
              "      gap: 12px;\n",
              "    }\n",
              "\n",
              "    .colab-df-convert {\n",
              "      background-color: #E8F0FE;\n",
              "      border: none;\n",
              "      border-radius: 50%;\n",
              "      cursor: pointer;\n",
              "      display: none;\n",
              "      fill: #1967D2;\n",
              "      height: 32px;\n",
              "      padding: 0 0 0 0;\n",
              "      width: 32px;\n",
              "    }\n",
              "\n",
              "    .colab-df-convert:hover {\n",
              "      background-color: #E2EBFA;\n",
              "      box-shadow: 0px 1px 2px rgba(60, 64, 67, 0.3), 0px 1px 3px 1px rgba(60, 64, 67, 0.15);\n",
              "      fill: #174EA6;\n",
              "    }\n",
              "\n",
              "    [theme=dark] .colab-df-convert {\n",
              "      background-color: #3B4455;\n",
              "      fill: #D2E3FC;\n",
              "    }\n",
              "\n",
              "    [theme=dark] .colab-df-convert:hover {\n",
              "      background-color: #434B5C;\n",
              "      box-shadow: 0px 1px 3px 1px rgba(0, 0, 0, 0.15);\n",
              "      filter: drop-shadow(0px 1px 2px rgba(0, 0, 0, 0.3));\n",
              "      fill: #FFFFFF;\n",
              "    }\n",
              "  </style>\n",
              "\n",
              "      <script>\n",
              "        const buttonEl =\n",
              "          document.querySelector('#df-456b182d-a778-41df-ba9e-ee398389db6f button.colab-df-convert');\n",
              "        buttonEl.style.display =\n",
              "          google.colab.kernel.accessAllowed ? 'block' : 'none';\n",
              "\n",
              "        async function convertToInteractive(key) {\n",
              "          const element = document.querySelector('#df-456b182d-a778-41df-ba9e-ee398389db6f');\n",
              "          const dataTable =\n",
              "            await google.colab.kernel.invokeFunction('convertToInteractive',\n",
              "                                                     [key], {});\n",
              "          if (!dataTable) return;\n",
              "\n",
              "          const docLinkHtml = 'Like what you see? Visit the ' +\n",
              "            '<a target=\"_blank\" href=https://colab.research.google.com/notebooks/data_table.ipynb>data table notebook</a>'\n",
              "            + ' to learn more about interactive tables.';\n",
              "          element.innerHTML = '';\n",
              "          dataTable['output_type'] = 'display_data';\n",
              "          await google.colab.output.renderOutput(dataTable, element);\n",
              "          const docLink = document.createElement('div');\n",
              "          docLink.innerHTML = docLinkHtml;\n",
              "          element.appendChild(docLink);\n",
              "        }\n",
              "      </script>\n",
              "    </div>\n",
              "  </div>\n",
              "  "
            ],
            "text/plain": [
              "         id diagnosis  ...  fractal_dimension_worst  Unnamed: 32\n",
              "0    842302         M  ...                  0.11890          NaN\n",
              "1    842517         M  ...                  0.08902          NaN\n",
              "2  84300903         M  ...                  0.08758          NaN\n",
              "3  84348301         M  ...                  0.17300          NaN\n",
              "4  84358402         M  ...                  0.07678          NaN\n",
              "\n",
              "[5 rows x 33 columns]"
            ]
          },
          "metadata": {},
          "execution_count": 83
        }
      ]
    },
    {
      "cell_type": "code",
      "source": [
        "len(dataSet.columns)\n"
      ],
      "metadata": {
        "colab": {
          "base_uri": "https://localhost:8080/"
        },
        "id": "69oPlRo73egK",
        "outputId": "e365635e-8286-4e2c-c72b-278c44b02590"
      },
      "execution_count": 28,
      "outputs": [
        {
          "output_type": "execute_result",
          "data": {
            "text/plain": [
              "33"
            ]
          },
          "metadata": {},
          "execution_count": 28
        }
      ]
    },
    {
      "cell_type": "code",
      "source": [
        "dataSet = dataSet.iloc[:,:].values\n",
        "dataSet"
      ],
      "metadata": {
        "colab": {
          "base_uri": "https://localhost:8080/"
        },
        "id": "t2xfKLwh2n8x",
        "outputId": "002ef00d-8355-4ac8-e6d8-2d5a13022ff6"
      },
      "execution_count": 32,
      "outputs": [
        {
          "output_type": "execute_result",
          "data": {
            "text/plain": [
              "array([[842302, 'M', 17.99, ..., 0.4601, 0.1189, nan],\n",
              "       [842517, 'M', 20.57, ..., 0.275, 0.08902, nan],\n",
              "       [84300903, 'M', 19.69, ..., 0.3613, 0.08757999999999999, nan],\n",
              "       ...,\n",
              "       [926954, 'M', 16.6, ..., 0.2218, 0.0782, nan],\n",
              "       [927241, 'M', 20.6, ..., 0.4087, 0.124, nan],\n",
              "       [92751, 'B', 7.76, ..., 0.2871, 0.07039, nan]], dtype=object)"
            ]
          },
          "metadata": {},
          "execution_count": 32
        }
      ]
    },
    {
      "cell_type": "code",
      "source": [
        "# this helps us remove the Nan value column\n",
        "# still we need to perform this so that we can do linear regression\n",
        "dataSet = dataSet.iloc[:,:32].values\n",
        "dataSet"
      ],
      "metadata": {
        "colab": {
          "base_uri": "https://localhost:8080/"
        },
        "id": "GFciihYe11Yt",
        "outputId": "e6d45add-f77e-45d9-808b-31b0da2d5e55"
      },
      "execution_count": 37,
      "outputs": [
        {
          "output_type": "execute_result",
          "data": {
            "text/plain": [
              "array([[842302, 'M', 17.99, ..., 0.2654, 0.4601, 0.1189],\n",
              "       [842517, 'M', 20.57, ..., 0.18600000000000003, 0.275, 0.08902],\n",
              "       [84300903, 'M', 19.69, ..., 0.243, 0.3613, 0.08757999999999999],\n",
              "       ...,\n",
              "       [926954, 'M', 16.6, ..., 0.1418, 0.2218, 0.0782],\n",
              "       [927241, 'M', 20.6, ..., 0.265, 0.4087, 0.124],\n",
              "       [92751, 'B', 7.76, ..., 0.0, 0.2871, 0.07039]], dtype=object)"
            ]
          },
          "metadata": {},
          "execution_count": 37
        }
      ]
    },
    {
      "cell_type": "code",
      "source": [
        "# let us predict area_mean column using radius_mean column\n",
        "dataSet = dataSet.iloc[:,2:6].values\n",
        "dataSet"
      ],
      "metadata": {
        "colab": {
          "base_uri": "https://localhost:8080/"
        },
        "id": "PcEKJ2dT4Bd1",
        "outputId": "49139dc2-78d9-4688-d101-08df40b531a6"
      },
      "execution_count": 41,
      "outputs": [
        {
          "output_type": "execute_result",
          "data": {
            "text/plain": [
              "array([[  17.99,   10.38,  122.8 , 1001.  ],\n",
              "       [  20.57,   17.77,  132.9 , 1326.  ],\n",
              "       [  19.69,   21.25,  130.  , 1203.  ],\n",
              "       ...,\n",
              "       [  16.6 ,   28.08,  108.3 ,  858.1 ],\n",
              "       [  20.6 ,   29.33,  140.1 , 1265.  ],\n",
              "       [   7.76,   24.54,   47.92,  181.  ]])"
            ]
          },
          "metadata": {},
          "execution_count": 41
        }
      ]
    },
    {
      "cell_type": "code",
      "source": [
        "# PS :  the above 3 cells are not for any of the further processing"
      ],
      "metadata": {
        "id": "gc3U2H7N982_"
      },
      "execution_count": 94,
      "outputs": []
    },
    {
      "cell_type": "markdown",
      "source": [
        "###Splitting the dataset"
      ],
      "metadata": {
        "id": "dP4G6kkn0_-x"
      }
    },
    {
      "cell_type": "code",
      "source": [
        "# initialize X which is radius_mean column\n",
        "x = dataSet.iloc[:,2].values\n",
        "x"
      ],
      "metadata": {
        "id": "V5QF2Lgs5Pcy"
      },
      "execution_count": null,
      "outputs": []
    },
    {
      "cell_type": "code",
      "source": [
        "# initialize y which is area_mean column\n",
        "y = dataSet.iloc[:,5].values\n",
        "y"
      ],
      "metadata": {
        "id": "3WqkuHdm5PGq"
      },
      "execution_count": null,
      "outputs": []
    },
    {
      "cell_type": "code",
      "source": [
        "# If you do not do this it gives you error saying 1D array given except 2D array\n",
        "x = x.reshape(-1, 1)"
      ],
      "metadata": {
        "id": "BJsxrQgJ7w7J"
      },
      "execution_count": 85,
      "outputs": []
    },
    {
      "cell_type": "code",
      "source": [
        "from sklearn.model_selection import train_test_split"
      ],
      "metadata": {
        "id": "toRtQsO_0-sO"
      },
      "execution_count": 79,
      "outputs": []
    },
    {
      "cell_type": "code",
      "source": [
        "x_train, x_test, y_train, y_test = train_test_split(x,y,train_size=0.8,random_state=0)\n"
      ],
      "metadata": {
        "id": "vaTaei7l1fQ1"
      },
      "execution_count": 86,
      "outputs": []
    },
    {
      "cell_type": "code",
      "source": [
        "x_train, x_test, y_train, y_test"
      ],
      "metadata": {
        "id": "2HcFFdMG5s4H"
      },
      "execution_count": null,
      "outputs": []
    },
    {
      "cell_type": "markdown",
      "source": [
        "###Training Simple Linear Regression model"
      ],
      "metadata": {
        "id": "iNtuqNnS6BX3"
      }
    },
    {
      "cell_type": "code",
      "source": [
        "from sklearn.linear_model import LinearRegression"
      ],
      "metadata": {
        "id": "Yr_U6SFx5v75"
      },
      "execution_count": 61,
      "outputs": []
    },
    {
      "cell_type": "code",
      "source": [
        "model  = LinearRegression()\n",
        "model.fit(x_train, y_train)"
      ],
      "metadata": {
        "colab": {
          "base_uri": "https://localhost:8080/"
        },
        "id": "fsglY-hN6PcQ",
        "outputId": "f9d4d3b4-3208-4df5-f3bf-d48c45eef4fd"
      },
      "execution_count": 88,
      "outputs": [
        {
          "output_type": "execute_result",
          "data": {
            "text/plain": [
              "LinearRegression()"
            ]
          },
          "metadata": {},
          "execution_count": 88
        }
      ]
    },
    {
      "cell_type": "markdown",
      "source": [
        "###Predict the test set"
      ],
      "metadata": {
        "id": "a7WXtdnU8tO-"
      }
    },
    {
      "cell_type": "code",
      "source": [
        "y_pred = model.predict(x_test)"
      ],
      "metadata": {
        "id": "Z2UI3sHH6YHy"
      },
      "execution_count": 89,
      "outputs": []
    },
    {
      "cell_type": "markdown",
      "source": [
        "###Visualization of the data"
      ],
      "metadata": {
        "id": "OcYlN1cd85-k"
      }
    },
    {
      "cell_type": "code",
      "source": [
        "y_test"
      ],
      "metadata": {
        "colab": {
          "base_uri": "https://localhost:8080/"
        },
        "id": "Ij4vxwJP84yQ",
        "outputId": "669be802-6b4a-4fa8-97d3-948c9826d74e"
      },
      "execution_count": 90,
      "outputs": [
        {
          "output_type": "execute_result",
          "data": {
            "text/plain": [
              "array([ 556.7,  537.9,  606.5,  633.1,  523.8,  391.2,  447.8,  418.7,\n",
              "        178.8,  321.6,  656.1,  662.7,  268.8,  880.2,  651.9,  736.9,\n",
              "        244.5, 1319. , 1174. , 1364. ,  440.6,  805.1,  546.3,  428. ,\n",
              "       1386. ,  442.7,  366.8,  578.3,  552.4, 1092. ,  508.8, 1326. ,\n",
              "        536.9,  809.8,  288.5,  499. ,  546.4, 1138. ,  673.7,  716.6,\n",
              "        719.5,  241. ,  797.8,  324.9,  542.9, 1479. ,  227.2,  603.4,\n",
              "        428.9,  658.8, 1123. ,  671.4, 1075. ,  412.7,  471.3,  402.7,\n",
              "        395.7,  465.4,  458.7, 1491. ,  588.9,  817.7,  384.6,  512.2,\n",
              "        980.5,  449.9, 1509. ,  920.6, 1290. ,  269.4,  641.2,  798.8,\n",
              "        406.3,  664.7, 1076. ,  520.2,  221.3,  512. ,  421. ,  234.3,\n",
              "        858.1, 1245. ,  782.6,  477.3,  793.2,  464.1,  566.2,  201.9,\n",
              "        928.3, 1265. ,  273.9,  716.6,  693.7,  716.9,  271.2,  298.3,\n",
              "        803.1,  512.2,  409.7,  398. ,  244. ,  466.7,  690.2,  600.4,\n",
              "       1075. ,  248.7,  994. ,  493.1,  758.6,  948. ,  493.8, 1250. ,\n",
              "       1052. ,  689.4])"
            ]
          },
          "metadata": {},
          "execution_count": 90
        }
      ]
    },
    {
      "cell_type": "code",
      "source": [
        "y_pred"
      ],
      "metadata": {
        "colab": {
          "base_uri": "https://localhost:8080/"
        },
        "id": "v0cA-xvn89pg",
        "outputId": "92a28285-377a-4e7f-bf1d-b4e2fd73e801"
      },
      "execution_count": 91,
      "outputs": [
        {
          "output_type": "execute_result",
          "data": {
            "text/plain": [
              "array([ 582.56800752,  563.56768132,  644.56907196,  668.569484  ,\n",
              "        545.56737229,  376.56447083,  447.56568979,  412.5650889 ,\n",
              "         15.45827133,  268.56261665,  711.57022225,  704.57010207,\n",
              "        182.26113502,  926.57391345,  706.5701364 ,  788.57154421,\n",
              "        146.76052554, 1293.58021425, 1197.57856608, 1336.58095249,\n",
              "        426.56532925,  866.57288335,  589.5681277 ,  426.56532925,\n",
              "       1379.58169073,  435.56548377,  332.56371543,  615.56857408,\n",
              "        582.56800752, 1119.57722695,  523.56699459, 1299.58031726,\n",
              "        556.56756114,  858.572746  ,  216.36172046,  510.5667714 ,\n",
              "        569.56778433, 1142.57762182,  728.57051411,  750.57089181,\n",
              "        755.57097766,  130.36024398,  844.57250564,  274.56271966,\n",
              "        566.56773283, 1398.58201693,  109.65988859,  645.56908913,\n",
              "        423.56527775,  696.56996472, 1159.57791369,  728.57051411,\n",
              "       1087.57667756,  402.56491721,  488.56639369,  389.56469402,\n",
              "        374.5644365 ,  469.56606749,  460.56591298, 1417.58234313,\n",
              "        619.56864275,  849.57259148,  356.56412747,  529.5670976 ,\n",
              "       1002.57521825,  446.56567262, 1469.58323589,  988.57497789,\n",
              "       1300.58033443,  189.06125176,  684.5697587 ,  855.57269449,\n",
              "        394.56477987,  702.57006773, 1107.57702093,  542.56732079,\n",
              "         99.65971691,  547.56740663,  408.56502022,  115.95999675,\n",
              "        902.57350141, 1260.57964769,  820.5720936 ,  485.56634219,\n",
              "        845.57252281,  474.56615334,  592.56817921,   62.15907309,\n",
              "        961.57451434, 1302.58036877,  192.96131872,  754.57096049,\n",
              "        741.5707373 ,  764.57113217,  183.06114875,  230.16195738,\n",
              "        792.57161289,  531.56713194,  399.56486571,  385.56462535,\n",
              "        131.36026114,  478.56622201,  739.57070296,  647.56912347,\n",
              "       1088.57669473,  169.36091354, 1033.57575047,  530.56711477,\n",
              "        803.57180174,  984.57490922,  517.56689158, 1260.57964769,\n",
              "       1073.5764372 ,  746.57082314])"
            ]
          },
          "metadata": {},
          "execution_count": 91
        }
      ]
    },
    {
      "cell_type": "code",
      "source": [
        "# let us plot the predicted outputs(y_pred) as a line and the actual outputs(y_test) as a scatter\n",
        "plt.scatter(x_test, y_test, c = 'red')\n",
        "plt.plot(x_test, y_pred, c = 'blue')\n",
        "plt.title('area_mean of cancer cell vs radius_mean of cancer cell')\n",
        "plt.xlabel('radius_mean of cancer cell')\n",
        "plt.ylabel('area_mean of cancer cell')\n",
        "plt.show()"
      ],
      "metadata": {
        "colab": {
          "base_uri": "https://localhost:8080/",
          "height": 296
        },
        "id": "RxykU2T_8_MB",
        "outputId": "99f3a93b-3c69-43e6-f0b4-d30c62284c32"
      },
      "execution_count": 96,
      "outputs": [
        {
          "output_type": "display_data",
          "data": {
            "image/png": "[encoded data removed]",
            "text/plain": [
              "<Figure size 432x288 with 1 Axes>"
            ]
          },
          "metadata": {
            "needs_background": "light"
          }
        }
      ]
    },
    {
      "cell_type": "code",
      "source": [
        "# here we go with a best fit line above which helps us to show that we have done a good job on predicting the values"
      ],
      "metadata": {
        "id": "W8ge8VKm9lUJ"
      },
      "execution_count": null,
      "outputs": []
    },
    {
      "cell_type": "code",
      "source": [
        ""
      ],
      "metadata": {
        "id": "MXS04Uns94Z-"
      },
      "execution_count": null,
      "outputs": []
    },
    {
      "cell_type": "markdown",
      "source": [
        "###Accuracy Score\n"
      ],
      "metadata": {
        "id": "YDEZgT1J_AFy"
      }
    },
    {
      "cell_type": "code",
      "source": [
        "from sklearn.metrics import accuracy_score\n",
        "# in confusion matrix first input is actual data and second is predicted data\n",
        "r1 = model.score(x_test, y_test)\n",
        "r = model.score(x_train, y_train)\n",
        "r,r1"
      ],
      "metadata": {
        "colab": {
          "base_uri": "https://localhost:8080/"
        },
        "id": "9c-4emBl_B2G",
        "outputId": "215134a9-0a0b-448e-eba3-84fa13e328ba"
      },
      "execution_count": 104,
      "outputs": [
        {
          "output_type": "execute_result",
          "data": {
            "text/plain": [
              "(0.9743536954935726, 0.9762177936782095)"
            ]
          },
          "metadata": {},
          "execution_count": 104
        }
      ]
    },
    {
      "cell_type": "code",
      "source": [
        "r_predicted = model.score(x_test, y_pred)"
      ],
      "metadata": {
        "id": "3r-ab7IU_ZGf"
      },
      "execution_count": 105,
      "outputs": []
    },
    {
      "cell_type": "code",
      "source": [
        "r_predicted"
      ],
      "metadata": {
        "colab": {
          "base_uri": "https://localhost:8080/"
        },
        "id": "rnhsWv8ODCph",
        "outputId": "800850b8-32ba-483e-da8b-0e6d2afca15f"
      },
      "execution_count": 106,
      "outputs": [
        {
          "output_type": "execute_result",
          "data": {
            "text/plain": [
              "1.0"
            ]
          },
          "metadata": {},
          "execution_count": 106
        }
      ]
    },
    {
      "cell_type": "markdown",
      "source": [
        "###Without Sklearn"
      ],
      "metadata": {
        "id": "uKCSaytCDI1p"
      }
    },
    {
      "cell_type": "code",
      "source": [
        "slope = sum(x-np.mean(x))*sum(y-np.mean(y))/(sum(x-np.mean(x))**2)"
      ],
      "metadata": {
        "id": "KxzX9bWnDENT"
      },
      "execution_count": 107,
      "outputs": []
    },
    {
      "cell_type": "code",
      "source": [
        "slope"
      ],
      "metadata": {
        "colab": {
          "base_uri": "https://localhost:8080/"
        },
        "id": "90VcJd5FD2nm",
        "outputId": "634f5399-9f65-4985-f5f5-622c5c3ff65f"
      },
      "execution_count": 108,
      "outputs": [
        {
          "output_type": "execute_result",
          "data": {
            "text/plain": [
              "array([131.36842105])"
            ]
          },
          "metadata": {},
          "execution_count": 108
        }
      ]
    },
    {
      "cell_type": "code",
      "source": [
        "coefficient= np.mean(y) - (slope*np.mean(x))"
      ],
      "metadata": {
        "id": "8UMxStR1D3lo"
      },
      "execution_count": 109,
      "outputs": []
    },
    {
      "cell_type": "code",
      "source": [
        "coefficient\n"
      ],
      "metadata": {
        "colab": {
          "base_uri": "https://localhost:8080/"
        },
        "id": "XTG33KXlEB0Z",
        "outputId": "aa701a0a-c092-4db6-cc01-76fcef396169"
      },
      "execution_count": 110,
      "outputs": [
        {
          "output_type": "execute_result",
          "data": {
            "text/plain": [
              "array([-1200.99090593])"
            ]
          },
          "metadata": {},
          "execution_count": 110
        }
      ]
    },
    {
      "cell_type": "code",
      "source": [
        "Y_PRED = slope*x + coefficient"
      ],
      "metadata": {
        "id": "mEANQwE-EEM5"
      },
      "execution_count": 111,
      "outputs": []
    },
    {
      "cell_type": "code",
      "source": [
        "Y_PRED"
      ],
      "metadata": {
        "id": "RzZiN0-CEMuC"
      },
      "execution_count": null,
      "outputs": []
    },
    {
      "cell_type": "code",
      "source": [
        "# By using the mathematical formula we get the below results\n",
        "plt.scatter(x, y, c = 'red')\n",
        "plt.plot(x, Y_PRED, c = 'blue')\n",
        "plt.title('area_mean of cancer cell vs radius_mean of cancer cell')\n",
        "plt.xlabel('radius_mean of cancer cell')\n",
        "plt.ylabel('area_mean of cancer cell')\n",
        "plt.show()"
      ],
      "metadata": {
        "colab": {
          "base_uri": "https://localhost:8080/",
          "height": 296
        },
        "id": "aJYggiLeEOHE",
        "outputId": "c3024999-2475-41c9-9311-05a457359a97"
      },
      "execution_count": 114,
      "outputs": [
        {
          "output_type": "display_data",
          "data": {
            "image/png": "[encoded data removed]",
            "text/plain": [
              "<Figure size 432x288 with 1 Axes>"
            ]
          },
          "metadata": {
            "needs_background": "light"
          }
        }
      ]
    },
    {
      "cell_type": "code",
      "source": [
        "# R score using maths\n",
        "r_PRED = sum((Y_PRED-np.mean(y))**2)/sum((y-np.mean(y))**2)"
      ],
      "metadata": {
        "id": "J7VRTcjDEc1x"
      },
      "execution_count": 115,
      "outputs": []
    },
    {
      "cell_type": "code",
      "source": [
        "r_PRED"
      ],
      "metadata": {
        "colab": {
          "base_uri": "https://localhost:8080/"
        },
        "id": "1aDbZZGyFT1F",
        "outputId": "0b16334c-745f-4705-8cea-31c3c8d2d34b"
      },
      "execution_count": 116,
      "outputs": [
        {
          "output_type": "execute_result",
          "data": {
            "text/plain": [
              "array([1.73058281])"
            ]
          },
          "metadata": {},
          "execution_count": 116
        }
      ]
    },
    {
      "cell_type": "code",
      "source": [
        ""
      ],
      "metadata": {
        "id": "oQwj0Jz2FU87"
      },
      "execution_count": null,
      "outputs": []
    },
    {
      "cell_type": "code",
      "source": [
        ""
      ],
      "metadata": {
        "id": "OUwoDWurF7dD"
      },
      "execution_count": null,
      "outputs": []
    }
  ]
}