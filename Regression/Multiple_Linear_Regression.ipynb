{
  "nbformat": 4,
  "nbformat_minor": 0,
  "metadata": {
    "colab": {
      "name": "Multiple Linear Regression.ipynb",
      "provenance": [],
      "authorship_tag": "ABX9TyNRgpAS2Q36IoNhE7d6igIk",
      "include_colab_link": true
    },
    "kernelspec": {
      "name": "python3",
      "display_name": "Python 3"
    },
    "language_info": {
      "name": "python"
    }
  },
  "cells": [
    {
      "cell_type": "markdown",
      "metadata": {
        "id": "view-in-github",
        "colab_type": "text"
      },
      "source": [
        "<a href=\"https://colab.research.google.com/github/tanishq252/AI-ML-DS-Learning-Series/blob/main/Multiple_Linear_Regression.ipynb\" target=\"_parent\"><img src=\"https://colab.research.google.com/assets/colab-badge.svg\" alt=\"Open In Colab\"/></a>"
      ]
    },
    {
      "cell_type": "markdown",
      "source": [
        "[Kaggle tutorial to make your linear regression model better](https://www.kaggle.com/jnikhilsai/cross-validation-with-linear-regression)\n",
        "###in the cancer dataset K-fold cross validation and RFE are being applied"
      ],
      "metadata": {
        "id": "amYPpImnTf2Y"
      }
    },
    {
      "cell_type": "code",
      "source": [
        ""
      ],
      "metadata": {
        "id": "tJ3ZolRkTfi0"
      },
      "execution_count": null,
      "outputs": []
    },
    {
      "cell_type": "markdown",
      "source": [
        "##Importing dataset"
      ],
      "metadata": {
        "id": "9PwQKMD-OLCR"
      }
    },
    {
      "cell_type": "code",
      "source": [
        "import numpy as np\n",
        "import pandas as pd\n",
        "import matplotlib.pyplot as plt\n"
      ],
      "metadata": {
        "id": "HQfuPkuvOQu0"
      },
      "execution_count": 1,
      "outputs": []
    },
    {
      "cell_type": "code",
      "source": [
        "\n",
        "dataSet = pd.read_csv('50_Startups.csv')\n",
        "dataSet.head()"
      ],
      "metadata": {
        "colab": {
          "base_uri": "https://localhost:8080/",
          "height": 206
        },
        "id": "fegYvLvQOZXF",
        "outputId": "f19093df-d907-43d2-a625-1294e1484dbe"
      },
      "execution_count": 2,
      "outputs": [
        {
          "output_type": "execute_result",
          "data": {
            "text/html": [
              "\n",
              "  <div id=\"df-5313a76f-b486-47e2-aa6f-dfb8bdcc7951\">\n",
              "    <div class=\"colab-df-container\">\n",
              "      <div>\n",
              "<style scoped>\n",
              "    .dataframe tbody tr th:only-of-type {\n",
              "        vertical-align: middle;\n",
              "    }\n",
              "\n",
              "    .dataframe tbody tr th {\n",
              "        vertical-align: top;\n",
              "    }\n",
              "\n",
              "    .dataframe thead th {\n",
              "        text-align: right;\n",
              "    }\n",
              "</style>\n",
              "<table border=\"1\" class=\"dataframe\">\n",
              "  <thead>\n",
              "    <tr style=\"text-align: right;\">\n",
              "      <th></th>\n",
              "      <th>R&amp;D Spend</th>\n",
              "      <th>Administration</th>\n",
              "      <th>Marketing Spend</th>\n",
              "      <th>State</th>\n",
              "      <th>Profit</th>\n",
              "    </tr>\n",
              "  </thead>\n",
              "  <tbody>\n",
              "    <tr>\n",
              "      <th>0</th>\n",
              "      <td>165349.20</td>\n",
              "      <td>136897.80</td>\n",
              "      <td>471784.10</td>\n",
              "      <td>New York</td>\n",
              "      <td>192261.83</td>\n",
              "    </tr>\n",
              "    <tr>\n",
              "      <th>1</th>\n",
              "      <td>162597.70</td>\n",
              "      <td>151377.59</td>\n",
              "      <td>443898.53</td>\n",
              "      <td>California</td>\n",
              "      <td>191792.06</td>\n",
              "    </tr>\n",
              "    <tr>\n",
              "      <th>2</th>\n",
              "      <td>153441.51</td>\n",
              "      <td>101145.55</td>\n",
              "      <td>407934.54</td>\n",
              "      <td>Florida</td>\n",
              "      <td>191050.39</td>\n",
              "    </tr>\n",
              "    <tr>\n",
              "      <th>3</th>\n",
              "      <td>144372.41</td>\n",
              "      <td>118671.85</td>\n",
              "      <td>383199.62</td>\n",
              "      <td>New York</td>\n",
              "      <td>182901.99</td>\n",
              "    </tr>\n",
              "    <tr>\n",
              "      <th>4</th>\n",
              "      <td>142107.34</td>\n",
              "      <td>91391.77</td>\n",
              "      <td>366168.42</td>\n",
              "      <td>Florida</td>\n",
              "      <td>166187.94</td>\n",
              "    </tr>\n",
              "  </tbody>\n",
              "</table>\n",
              "</div>\n",
              "      <button class=\"colab-df-convert\" onclick=\"convertToInteractive('df-5313a76f-b486-47e2-aa6f-dfb8bdcc7951')\"\n",
              "              title=\"Convert this dataframe to an interactive table.\"\n",
              "              style=\"display:none;\">\n",
              "        \n",
              "  <svg xmlns=\"http://www.w3.org/2000/svg\" height=\"24px\"viewBox=\"0 0 24 24\"\n",
              "       width=\"24px\">\n",
              "    <path d=\"M0 0h24v24H0V0z\" fill=\"none\"/>\n",
              "    <path d=\"M18.56 5.44l.94 2.06.94-2.06 2.06-.94-2.06-.94-.94-2.06-.94 2.06-2.06.94zm-11 1L8.5 8.5l.94-2.06 2.06-.94-2.06-.94L8.5 2.5l-.94 2.06-2.06.94zm10 10l.94 2.06.94-2.06 2.06-.94-2.06-.94-.94-2.06-.94 2.06-2.06.94z\"/><path d=\"M17.41 7.96l-1.37-1.37c-.4-.4-.92-.59-1.43-.59-.52 0-1.04.2-1.43.59L10.3 9.45l-7.72 7.72c-.78.78-.78 2.05 0 2.83L4 21.41c.39.39.9.59 1.41.59.51 0 1.02-.2 1.41-.59l7.78-7.78 2.81-2.81c.8-.78.8-2.07 0-2.86zM5.41 20L4 18.59l7.72-7.72 1.47 1.35L5.41 20z\"/>\n",
              "  </svg>\n",
              "      </button>\n",
              "      \n",
              "  <style>\n",
              "    .colab-df-container {\n",
              "      display:flex;\n",
              "      flex-wrap:wrap;\n",
              "      gap: 12px;\n",
              "    }\n",
              "\n",
              "    .colab-df-convert {\n",
              "      background-color: #E8F0FE;\n",
              "      border: none;\n",
              "      border-radius: 50%;\n",
              "      cursor: pointer;\n",
              "      display: none;\n",
              "      fill: #1967D2;\n",
              "      height: 32px;\n",
              "      padding: 0 0 0 0;\n",
              "      width: 32px;\n",
              "    }\n",
              "\n",
              "    .colab-df-convert:hover {\n",
              "      background-color: #E2EBFA;\n",
              "      box-shadow: 0px 1px 2px rgba(60, 64, 67, 0.3), 0px 1px 3px 1px rgba(60, 64, 67, 0.15);\n",
              "      fill: #174EA6;\n",
              "    }\n",
              "\n",
              "    [theme=dark] .colab-df-convert {\n",
              "      background-color: #3B4455;\n",
              "      fill: #D2E3FC;\n",
              "    }\n",
              "\n",
              "    [theme=dark] .colab-df-convert:hover {\n",
              "      background-color: #434B5C;\n",
              "      box-shadow: 0px 1px 3px 1px rgba(0, 0, 0, 0.15);\n",
              "      filter: drop-shadow(0px 1px 2px rgba(0, 0, 0, 0.3));\n",
              "      fill: #FFFFFF;\n",
              "    }\n",
              "  </style>\n",
              "\n",
              "      <script>\n",
              "        const buttonEl =\n",
              "          document.querySelector('#df-5313a76f-b486-47e2-aa6f-dfb8bdcc7951 button.colab-df-convert');\n",
              "        buttonEl.style.display =\n",
              "          google.colab.kernel.accessAllowed ? 'block' : 'none';\n",
              "\n",
              "        async function convertToInteractive(key) {\n",
              "          const element = document.querySelector('#df-5313a76f-b486-47e2-aa6f-dfb8bdcc7951');\n",
              "          const dataTable =\n",
              "            await google.colab.kernel.invokeFunction('convertToInteractive',\n",
              "                                                     [key], {});\n",
              "          if (!dataTable) return;\n",
              "\n",
              "          const docLinkHtml = 'Like what you see? Visit the ' +\n",
              "            '<a target=\"_blank\" href=https://colab.research.google.com/notebooks/data_table.ipynb>data table notebook</a>'\n",
              "            + ' to learn more about interactive tables.';\n",
              "          element.innerHTML = '';\n",
              "          dataTable['output_type'] = 'display_data';\n",
              "          await google.colab.output.renderOutput(dataTable, element);\n",
              "          const docLink = document.createElement('div');\n",
              "          docLink.innerHTML = docLinkHtml;\n",
              "          element.appendChild(docLink);\n",
              "        }\n",
              "      </script>\n",
              "    </div>\n",
              "  </div>\n",
              "  "
            ],
            "text/plain": [
              "   R&D Spend  Administration  Marketing Spend       State     Profit\n",
              "0  165349.20       136897.80        471784.10    New York  192261.83\n",
              "1  162597.70       151377.59        443898.53  California  191792.06\n",
              "2  153441.51       101145.55        407934.54     Florida  191050.39\n",
              "3  144372.41       118671.85        383199.62    New York  182901.99\n",
              "4  142107.34        91391.77        366168.42     Florida  166187.94"
            ]
          },
          "metadata": {},
          "execution_count": 2
        }
      ]
    },
    {
      "cell_type": "code",
      "source": [
        "x = dataSet.iloc[:,:-1].values\n",
        "y = dataSet.iloc[:,-1].values\n",
        "x"
      ],
      "metadata": {
        "colab": {
          "base_uri": "https://localhost:8080/"
        },
        "id": "jsw-8xjSOhhP",
        "outputId": "1c38075c-769e-46cb-c93c-d18e0aee4ccf"
      },
      "execution_count": 3,
      "outputs": [
        {
          "output_type": "execute_result",
          "data": {
            "text/plain": [
              "array([[165349.2, 136897.8, 471784.1, 'New York'],\n",
              "       [162597.7, 151377.59, 443898.53, 'California'],\n",
              "       [153441.51, 101145.55, 407934.54, 'Florida'],\n",
              "       [144372.41, 118671.85, 383199.62, 'New York'],\n",
              "       [142107.34, 91391.77, 366168.42, 'Florida'],\n",
              "       [131876.9, 99814.71, 362861.36, 'New York'],\n",
              "       [134615.46, 147198.87, 127716.82, 'California'],\n",
              "       [130298.13, 145530.06, 323876.68, 'Florida'],\n",
              "       [120542.52, 148718.95, 311613.29, 'New York'],\n",
              "       [123334.88, 108679.17, 304981.62, 'California'],\n",
              "       [101913.08, 110594.11, 229160.95, 'Florida'],\n",
              "       [100671.96, 91790.61, 249744.55, 'California'],\n",
              "       [93863.75, 127320.38, 249839.44, 'Florida'],\n",
              "       [91992.39, 135495.07, 252664.93, 'California'],\n",
              "       [119943.24, 156547.42, 256512.92, 'Florida'],\n",
              "       [114523.61, 122616.84, 261776.23, 'New York'],\n",
              "       [78013.11, 121597.55, 264346.06, 'California'],\n",
              "       [94657.16, 145077.58, 282574.31, 'New York'],\n",
              "       [91749.16, 114175.79, 294919.57, 'Florida'],\n",
              "       [86419.7, 153514.11, 0.0, 'New York'],\n",
              "       [76253.86, 113867.3, 298664.47, 'California'],\n",
              "       [78389.47, 153773.43, 299737.29, 'New York'],\n",
              "       [73994.56, 122782.75, 303319.26, 'Florida'],\n",
              "       [67532.53, 105751.03, 304768.73, 'Florida'],\n",
              "       [77044.01, 99281.34, 140574.81, 'New York'],\n",
              "       [64664.71, 139553.16, 137962.62, 'California'],\n",
              "       [75328.87, 144135.98, 134050.07, 'Florida'],\n",
              "       [72107.6, 127864.55, 353183.81, 'New York'],\n",
              "       [66051.52, 182645.56, 118148.2, 'Florida'],\n",
              "       [65605.48, 153032.06, 107138.38, 'New York'],\n",
              "       [61994.48, 115641.28, 91131.24, 'Florida'],\n",
              "       [61136.38, 152701.92, 88218.23, 'New York'],\n",
              "       [63408.86, 129219.61, 46085.25, 'California'],\n",
              "       [55493.95, 103057.49, 214634.81, 'Florida'],\n",
              "       [46426.07, 157693.92, 210797.67, 'California'],\n",
              "       [46014.02, 85047.44, 205517.64, 'New York'],\n",
              "       [28663.76, 127056.21, 201126.82, 'Florida'],\n",
              "       [44069.95, 51283.14, 197029.42, 'California'],\n",
              "       [20229.59, 65947.93, 185265.1, 'New York'],\n",
              "       [38558.51, 82982.09, 174999.3, 'California'],\n",
              "       [28754.33, 118546.05, 172795.67, 'California'],\n",
              "       [27892.92, 84710.77, 164470.71, 'Florida'],\n",
              "       [23640.93, 96189.63, 148001.11, 'California'],\n",
              "       [15505.73, 127382.3, 35534.17, 'New York'],\n",
              "       [22177.74, 154806.14, 28334.72, 'California'],\n",
              "       [1000.23, 124153.04, 1903.93, 'New York'],\n",
              "       [1315.46, 115816.21, 297114.46, 'Florida'],\n",
              "       [0.0, 135426.92, 0.0, 'California'],\n",
              "       [542.05, 51743.15, 0.0, 'New York'],\n",
              "       [0.0, 116983.8, 45173.06, 'California']], dtype=object)"
            ]
          },
          "metadata": {},
          "execution_count": 3
        }
      ]
    },
    {
      "cell_type": "markdown",
      "source": [
        "##Encoding categorical data"
      ],
      "metadata": {
        "id": "iVlFeurPQvbp"
      }
    },
    {
      "cell_type": "code",
      "source": [
        "from sklearn.compose import ColumnTransformer\n",
        "from sklearn.preprocessing import OneHotEncoder\n",
        "# shift+tab to see arguments and their importance .... the index '0' is the column which we have to encode\n",
        "# in categorical format\n",
        "# as we want last column of the data set to be one hot encoded so we have entered -1\n",
        "ct = ColumnTransformer(transformers = [('encoder', OneHotEncoder(), [-1])], remainder = 'passthrough')\n",
        "# to update the x value\n",
        "x = np.array(ct.fit_transform(x))"
      ],
      "metadata": {
        "id": "CQNqyZtgQqCH"
      },
      "execution_count": 4,
      "outputs": []
    },
    {
      "cell_type": "code",
      "source": [
        "# here we can see that the state column is being encoded properly\n",
        "print(x)"
      ],
      "metadata": {
        "colab": {
          "base_uri": "https://localhost:8080/"
        },
        "id": "I3mhHOWtRAhI",
        "outputId": "dde71740-42be-4e0c-8843-2fc0de424a41"
      },
      "execution_count": 5,
      "outputs": [
        {
          "output_type": "stream",
          "name": "stdout",
          "text": [
            "[[0.0 0.0 1.0 165349.2 136897.8 471784.1]\n",
            " [1.0 0.0 0.0 162597.7 151377.59 443898.53]\n",
            " [0.0 1.0 0.0 153441.51 101145.55 407934.54]\n",
            " [0.0 0.0 1.0 144372.41 118671.85 383199.62]\n",
            " [0.0 1.0 0.0 142107.34 91391.77 366168.42]\n",
            " [0.0 0.0 1.0 131876.9 99814.71 362861.36]\n",
            " [1.0 0.0 0.0 134615.46 147198.87 127716.82]\n",
            " [0.0 1.0 0.0 130298.13 145530.06 323876.68]\n",
            " [0.0 0.0 1.0 120542.52 148718.95 311613.29]\n",
            " [1.0 0.0 0.0 123334.88 108679.17 304981.62]\n",
            " [0.0 1.0 0.0 101913.08 110594.11 229160.95]\n",
            " [1.0 0.0 0.0 100671.96 91790.61 249744.55]\n",
            " [0.0 1.0 0.0 93863.75 127320.38 249839.44]\n",
            " [1.0 0.0 0.0 91992.39 135495.07 252664.93]\n",
            " [0.0 1.0 0.0 119943.24 156547.42 256512.92]\n",
            " [0.0 0.0 1.0 114523.61 122616.84 261776.23]\n",
            " [1.0 0.0 0.0 78013.11 121597.55 264346.06]\n",
            " [0.0 0.0 1.0 94657.16 145077.58 282574.31]\n",
            " [0.0 1.0 0.0 91749.16 114175.79 294919.57]\n",
            " [0.0 0.0 1.0 86419.7 153514.11 0.0]\n",
            " [1.0 0.0 0.0 76253.86 113867.3 298664.47]\n",
            " [0.0 0.0 1.0 78389.47 153773.43 299737.29]\n",
            " [0.0 1.0 0.0 73994.56 122782.75 303319.26]\n",
            " [0.0 1.0 0.0 67532.53 105751.03 304768.73]\n",
            " [0.0 0.0 1.0 77044.01 99281.34 140574.81]\n",
            " [1.0 0.0 0.0 64664.71 139553.16 137962.62]\n",
            " [0.0 1.0 0.0 75328.87 144135.98 134050.07]\n",
            " [0.0 0.0 1.0 72107.6 127864.55 353183.81]\n",
            " [0.0 1.0 0.0 66051.52 182645.56 118148.2]\n",
            " [0.0 0.0 1.0 65605.48 153032.06 107138.38]\n",
            " [0.0 1.0 0.0 61994.48 115641.28 91131.24]\n",
            " [0.0 0.0 1.0 61136.38 152701.92 88218.23]\n",
            " [1.0 0.0 0.0 63408.86 129219.61 46085.25]\n",
            " [0.0 1.0 0.0 55493.95 103057.49 214634.81]\n",
            " [1.0 0.0 0.0 46426.07 157693.92 210797.67]\n",
            " [0.0 0.0 1.0 46014.02 85047.44 205517.64]\n",
            " [0.0 1.0 0.0 28663.76 127056.21 201126.82]\n",
            " [1.0 0.0 0.0 44069.95 51283.14 197029.42]\n",
            " [0.0 0.0 1.0 20229.59 65947.93 185265.1]\n",
            " [1.0 0.0 0.0 38558.51 82982.09 174999.3]\n",
            " [1.0 0.0 0.0 28754.33 118546.05 172795.67]\n",
            " [0.0 1.0 0.0 27892.92 84710.77 164470.71]\n",
            " [1.0 0.0 0.0 23640.93 96189.63 148001.11]\n",
            " [0.0 0.0 1.0 15505.73 127382.3 35534.17]\n",
            " [1.0 0.0 0.0 22177.74 154806.14 28334.72]\n",
            " [0.0 0.0 1.0 1000.23 124153.04 1903.93]\n",
            " [0.0 1.0 0.0 1315.46 115816.21 297114.46]\n",
            " [1.0 0.0 0.0 0.0 135426.92 0.0]\n",
            " [0.0 0.0 1.0 542.05 51743.15 0.0]\n",
            " [1.0 0.0 0.0 0.0 116983.8 45173.06]]\n"
          ]
        }
      ]
    },
    {
      "cell_type": "markdown",
      "source": [
        "##Splitting the dataset"
      ],
      "metadata": {
        "id": "8_eks-AdRnip"
      }
    },
    {
      "cell_type": "code",
      "source": [
        "from sklearn.model_selection import train_test_split\n",
        "x_train, x_test, y_train, y_test = train_test_split(x,y,train_size=0.8,random_state=0)\n"
      ],
      "metadata": {
        "id": "_HehKjRhRBqu"
      },
      "execution_count": 6,
      "outputs": []
    },
    {
      "cell_type": "markdown",
      "source": [
        "##Feature Scaling\n",
        "####It is necessary as we are having multiple variables whose range of values differs from each other"
      ],
      "metadata": {
        "id": "vB_k9FbRS1Fo"
      }
    },
    {
      "cell_type": "code",
      "source": [
        "from sklearn.preprocessing import StandardScaler\n",
        "sc = StandardScaler()\n",
        "x_train = sc.fit_transform(x_train) \n",
        "x_test = sc.transform(x_test)\n",
        "print(x_train)"
      ],
      "metadata": {
        "colab": {
          "base_uri": "https://localhost:8080/"
        },
        "id": "l-5emH9zS1wU",
        "outputId": "dd23ec13-fcc3-4dce-94a0-7b8539f6e114"
      },
      "execution_count": 7,
      "outputs": [
        {
          "output_type": "stream",
          "name": "stdout",
          "text": [
            "[[-0.81649658  1.73205081 -0.73379939 -0.35006454 -0.78547109  0.1011968 ]\n",
            " [-0.81649658 -0.57735027  1.36277029 -0.55530319 -1.48117426  0.02734979]\n",
            " [-0.81649658  1.73205081 -0.73379939  0.07935762  0.80133381 -0.55152132]\n",
            " [ 1.22474487 -0.57735027 -0.73379939 -0.54638238  1.32505817  0.07011684]\n",
            " [-0.81649658  1.73205081 -0.73379939  0.43485371 -0.35598663  0.75148516]\n",
            " [-0.81649658  1.73205081 -0.73379939  1.26943143  0.85518519  0.98603118]\n",
            " [-0.81649658  1.73205081 -0.73379939  1.04525007  1.28077047  0.4404    ]\n",
            " [-0.81649658 -0.57735027  1.36277029 -1.529843    0.02942065 -1.6218751 ]\n",
            " [-0.81649658 -0.57735027  1.36277029 -1.53976251 -2.76767264 -1.6372965 ]\n",
            " [-0.81649658 -0.57735027  1.36277029 -0.13115188  1.14497701 -0.76949991]\n",
            " [-0.81649658 -0.57735027  1.36277029  0.92791613 -0.02992062  0.48303162]\n",
            " [-0.81649658  1.73205081 -0.73379939 -0.20932933 -0.2993768  -0.89915412]\n",
            " [ 1.22474487 -0.57735027 -0.73379939 -0.17870828  0.2251352  -1.26401642]\n",
            " [ 1.22474487 -0.57735027 -0.73379939  0.1374709  -0.06929437  0.50384666]\n",
            " [ 1.22474487 -0.57735027 -0.73379939 -1.03967624 -1.05076697 -0.43852106]\n",
            " [ 1.22474487 -0.57735027 -0.73379939  0.09938348 -0.36790317  0.781818  ]\n",
            " [-0.81649658 -0.57735027  1.36277029 -1.21580174  0.15416247 -1.34947778]\n",
            " [-0.81649658 -0.57735027  1.36277029  1.05822437  0.97836757  0.88670051]\n",
            " [ 1.22474487 -0.57735027 -0.73379939  0.4401196   0.46754749  0.40923215]\n",
            " [ 1.22474487 -0.57735027 -0.73379939 -0.15151937  0.62430586 -0.51983056]\n",
            " [-0.81649658 -0.57735027  1.36277029  1.30361149 -0.91073517  1.30179825]\n",
            " [-0.81649658 -0.57735027  1.36277029  0.49781135  0.83770651  0.65149135]\n",
            " [ 1.22474487 -0.57735027 -0.73379939 -0.92897212 -0.18716957 -0.23769075]\n",
            " [ 1.22474487 -0.57735027 -0.73379939 -1.55149779 -0.24751712 -1.27140496]\n",
            " [ 1.22474487 -0.57735027 -0.73379939  1.96871085  1.08106713  1.95818096]\n",
            " [-0.81649658  1.73205081 -0.73379939  0.48063418  0.15177059  0.38634632]\n",
            " [ 1.22474487 -0.57735027 -0.73379939 -0.59739193 -2.78544219 -0.04140287]\n",
            " [-0.81649658 -0.57735027  1.36277029  0.11649007 -0.93133851 -0.49867241]\n",
            " [ 1.22474487 -0.57735027 -0.73379939  1.36290079  0.91964899 -0.60281921]\n",
            " [-0.81649658  1.73205081 -0.73379939 -0.08943162 -0.68142339  0.83126112]\n",
            " [-0.81649658  1.73205081 -0.73379939 -0.93093295  0.14156607 -0.00821485]\n",
            " [-0.81649658 -0.57735027  1.36277029  0.14561902  1.1736151   0.7905076 ]\n",
            " [-0.81649658 -0.57735027  1.36277029  0.31947194  1.16359793 -1.6372965 ]\n",
            " [ 1.22474487 -0.57735027 -0.73379939  1.11867842 -0.56831342  0.83298548]\n",
            " [ 1.22474487 -0.57735027 -0.73379939 -0.71671353 -1.56095586 -0.21984184]\n",
            " [-0.81649658  1.73205081 -0.73379939 -1.52301833 -0.29261949  0.76926327]\n",
            " [-0.81649658 -0.57735027  1.36277029  1.57413686 -0.18231009  1.46653355]\n",
            " [-0.81649658 -0.57735027  1.36277029  2.02828029  0.52173299  2.18404776]\n",
            " [ 1.22474487 -0.57735027 -0.73379939 -1.55149779  0.46491495 -1.6372965 ]\n",
            " [ 1.22474487 -0.57735027 -0.73379939 -1.07135402  1.21350725 -1.40779169]]\n"
          ]
        }
      ]
    },
    {
      "cell_type": "markdown",
      "source": [
        "##Fitting the model"
      ],
      "metadata": {
        "id": "KW6nlQ7YS8lt"
      }
    },
    {
      "cell_type": "code",
      "source": [
        "from sklearn.linear_model import LinearRegression\n",
        "model = LinearRegression()"
      ],
      "metadata": {
        "id": "nAFg-WnHRzhU"
      },
      "execution_count": 8,
      "outputs": []
    },
    {
      "cell_type": "code",
      "source": [
        "# let us fit the model now \n",
        "model.fit(x_train, y_train)"
      ],
      "metadata": {
        "colab": {
          "base_uri": "https://localhost:8080/"
        },
        "id": "yIgB1P9tSJ6Y",
        "outputId": "effa154b-4e90-4f15-cf6c-6b61e0ef08ff"
      },
      "execution_count": 9,
      "outputs": [
        {
          "output_type": "execute_result",
          "data": {
            "text/plain": [
              "LinearRegression()"
            ]
          },
          "metadata": {},
          "execution_count": 9
        }
      ]
    },
    {
      "cell_type": "markdown",
      "source": [
        "##Prediction on test_data"
      ],
      "metadata": {
        "id": "3fpqgvQ8UftZ"
      }
    },
    {
      "cell_type": "code",
      "source": [
        "y_pred= model.predict(x_test)"
      ],
      "metadata": {
        "id": "gDhMFu0TUN_R"
      },
      "execution_count": 11,
      "outputs": []
    },
    {
      "cell_type": "code",
      "source": [
        "# to compare the prediceted and actual outputs let us concatenate both of em and print so that it is easy to check ;)\n",
        "np.set_printoptions(precision = 2)\n",
        "print(np.concatenate((y_pred.reshape(len(y_pred),1), y_test.reshape(len(y_test),1)),1))"
      ],
      "metadata": {
        "colab": {
          "base_uri": "https://localhost:8080/"
        },
        "id": "PpO0V4UATVCX",
        "outputId": "c8f39bc3-a96b-433e-a239-ffb5f2815d50"
      },
      "execution_count": 12,
      "outputs": [
        {
          "output_type": "stream",
          "name": "stdout",
          "text": [
            "[[103015.2  103282.38]\n",
            " [132582.28 144259.4 ]\n",
            " [132447.74 146121.95]\n",
            " [ 71976.1   77798.83]\n",
            " [178537.48 191050.39]\n",
            " [116161.24 105008.31]\n",
            " [ 67851.69  81229.06]\n",
            " [ 98791.73  97483.56]\n",
            " [113969.44 110352.25]\n",
            " [167921.07 166187.94]]\n"
          ]
        }
      ]
    },
    {
      "cell_type": "code",
      "source": [
        "# here we have a close resemblance between the actual and predicted values :D"
      ],
      "metadata": {
        "id": "CdVOU85yUpdl"
      },
      "execution_count": 52,
      "outputs": []
    },
    {
      "cell_type": "code",
      "source": [
        "# acuuracy on test data\n",
        "model.score(x_test, y_test)"
      ],
      "metadata": {
        "colab": {
          "base_uri": "https://localhost:8080/"
        },
        "id": "x6SdFk_gU6xq",
        "outputId": "35a948cd-6401-4761-8781-8cb335dcc297"
      },
      "execution_count": 14,
      "outputs": [
        {
          "output_type": "execute_result",
          "data": {
            "text/plain": [
              "0.9347068473282423"
            ]
          },
          "metadata": {},
          "execution_count": 14
        }
      ]
    },
    {
      "cell_type": "code",
      "source": [
        "# so we get training accuracy of around 95%\n",
        "model.score(x_train, y_train)"
      ],
      "metadata": {
        "colab": {
          "base_uri": "https://localhost:8080/"
        },
        "id": "7BOwuISZDwcH",
        "outputId": "d0ca3d05-b2d8-4e56-e183-56989e5e5abb"
      },
      "execution_count": 15,
      "outputs": [
        {
          "output_type": "execute_result",
          "data": {
            "text/plain": [
              "0.9501847627493607"
            ]
          },
          "metadata": {},
          "execution_count": 15
        }
      ]
    },
    {
      "cell_type": "markdown",
      "source": [
        "#Cancer dataset\n",
        "#### let us now calculate perimeter_se using diagnosis, radius_mean, smoothness_mean\n"
      ],
      "metadata": {
        "id": "n9cxa0koEGlj"
      }
    },
    {
      "cell_type": "code",
      "source": [
        "dataSet = pd.read_csv('data.csv')\n",
        "dataSet.head()"
      ],
      "metadata": {
        "colab": {
          "base_uri": "https://localhost:8080/",
          "height": 288
        },
        "id": "5iU_lLGhD7tN",
        "outputId": "af8a7674-1ce6-4ac5-b326-edf372df8125"
      },
      "execution_count": 24,
      "outputs": [
        {
          "output_type": "execute_result",
          "data": {
            "text/html": [
              "\n",
              "  <div id=\"df-00ccefdb-ad7a-4b77-8ba1-6f2595e0632b\">\n",
              "    <div class=\"colab-df-container\">\n",
              "      <div>\n",
              "<style scoped>\n",
              "    .dataframe tbody tr th:only-of-type {\n",
              "        vertical-align: middle;\n",
              "    }\n",
              "\n",
              "    .dataframe tbody tr th {\n",
              "        vertical-align: top;\n",
              "    }\n",
              "\n",
              "    .dataframe thead th {\n",
              "        text-align: right;\n",
              "    }\n",
              "</style>\n",
              "<table border=\"1\" class=\"dataframe\">\n",
              "  <thead>\n",
              "    <tr style=\"text-align: right;\">\n",
              "      <th></th>\n",
              "      <th>id</th>\n",
              "      <th>diagnosis</th>\n",
              "      <th>radius_mean</th>\n",
              "      <th>texture_mean</th>\n",
              "      <th>perimeter_mean</th>\n",
              "      <th>area_mean</th>\n",
              "      <th>smoothness_mean</th>\n",
              "      <th>compactness_mean</th>\n",
              "      <th>concavity_mean</th>\n",
              "      <th>concave points_mean</th>\n",
              "      <th>symmetry_mean</th>\n",
              "      <th>fractal_dimension_mean</th>\n",
              "      <th>radius_se</th>\n",
              "      <th>texture_se</th>\n",
              "      <th>perimeter_se</th>\n",
              "      <th>area_se</th>\n",
              "      <th>smoothness_se</th>\n",
              "      <th>compactness_se</th>\n",
              "      <th>concavity_se</th>\n",
              "      <th>concave points_se</th>\n",
              "      <th>symmetry_se</th>\n",
              "      <th>fractal_dimension_se</th>\n",
              "      <th>radius_worst</th>\n",
              "      <th>texture_worst</th>\n",
              "      <th>perimeter_worst</th>\n",
              "      <th>area_worst</th>\n",
              "      <th>smoothness_worst</th>\n",
              "      <th>compactness_worst</th>\n",
              "      <th>concavity_worst</th>\n",
              "      <th>concave points_worst</th>\n",
              "      <th>symmetry_worst</th>\n",
              "      <th>fractal_dimension_worst</th>\n",
              "      <th>Unnamed: 32</th>\n",
              "    </tr>\n",
              "  </thead>\n",
              "  <tbody>\n",
              "    <tr>\n",
              "      <th>0</th>\n",
              "      <td>842302</td>\n",
              "      <td>M</td>\n",
              "      <td>17.99</td>\n",
              "      <td>10.38</td>\n",
              "      <td>122.80</td>\n",
              "      <td>1001.0</td>\n",
              "      <td>0.11840</td>\n",
              "      <td>0.27760</td>\n",
              "      <td>0.3001</td>\n",
              "      <td>0.14710</td>\n",
              "      <td>0.2419</td>\n",
              "      <td>0.07871</td>\n",
              "      <td>1.0950</td>\n",
              "      <td>0.9053</td>\n",
              "      <td>8.589</td>\n",
              "      <td>153.40</td>\n",
              "      <td>0.006399</td>\n",
              "      <td>0.04904</td>\n",
              "      <td>0.05373</td>\n",
              "      <td>0.01587</td>\n",
              "      <td>0.03003</td>\n",
              "      <td>0.006193</td>\n",
              "      <td>25.38</td>\n",
              "      <td>17.33</td>\n",
              "      <td>184.60</td>\n",
              "      <td>2019.0</td>\n",
              "      <td>0.1622</td>\n",
              "      <td>0.6656</td>\n",
              "      <td>0.7119</td>\n",
              "      <td>0.2654</td>\n",
              "      <td>0.4601</td>\n",
              "      <td>0.11890</td>\n",
              "      <td>NaN</td>\n",
              "    </tr>\n",
              "    <tr>\n",
              "      <th>1</th>\n",
              "      <td>842517</td>\n",
              "      <td>M</td>\n",
              "      <td>20.57</td>\n",
              "      <td>17.77</td>\n",
              "      <td>132.90</td>\n",
              "      <td>1326.0</td>\n",
              "      <td>0.08474</td>\n",
              "      <td>0.07864</td>\n",
              "      <td>0.0869</td>\n",
              "      <td>0.07017</td>\n",
              "      <td>0.1812</td>\n",
              "      <td>0.05667</td>\n",
              "      <td>0.5435</td>\n",
              "      <td>0.7339</td>\n",
              "      <td>3.398</td>\n",
              "      <td>74.08</td>\n",
              "      <td>0.005225</td>\n",
              "      <td>0.01308</td>\n",
              "      <td>0.01860</td>\n",
              "      <td>0.01340</td>\n",
              "      <td>0.01389</td>\n",
              "      <td>0.003532</td>\n",
              "      <td>24.99</td>\n",
              "      <td>23.41</td>\n",
              "      <td>158.80</td>\n",
              "      <td>1956.0</td>\n",
              "      <td>0.1238</td>\n",
              "      <td>0.1866</td>\n",
              "      <td>0.2416</td>\n",
              "      <td>0.1860</td>\n",
              "      <td>0.2750</td>\n",
              "      <td>0.08902</td>\n",
              "      <td>NaN</td>\n",
              "    </tr>\n",
              "    <tr>\n",
              "      <th>2</th>\n",
              "      <td>84300903</td>\n",
              "      <td>M</td>\n",
              "      <td>19.69</td>\n",
              "      <td>21.25</td>\n",
              "      <td>130.00</td>\n",
              "      <td>1203.0</td>\n",
              "      <td>0.10960</td>\n",
              "      <td>0.15990</td>\n",
              "      <td>0.1974</td>\n",
              "      <td>0.12790</td>\n",
              "      <td>0.2069</td>\n",
              "      <td>0.05999</td>\n",
              "      <td>0.7456</td>\n",
              "      <td>0.7869</td>\n",
              "      <td>4.585</td>\n",
              "      <td>94.03</td>\n",
              "      <td>0.006150</td>\n",
              "      <td>0.04006</td>\n",
              "      <td>0.03832</td>\n",
              "      <td>0.02058</td>\n",
              "      <td>0.02250</td>\n",
              "      <td>0.004571</td>\n",
              "      <td>23.57</td>\n",
              "      <td>25.53</td>\n",
              "      <td>152.50</td>\n",
              "      <td>1709.0</td>\n",
              "      <td>0.1444</td>\n",
              "      <td>0.4245</td>\n",
              "      <td>0.4504</td>\n",
              "      <td>0.2430</td>\n",
              "      <td>0.3613</td>\n",
              "      <td>0.08758</td>\n",
              "      <td>NaN</td>\n",
              "    </tr>\n",
              "    <tr>\n",
              "      <th>3</th>\n",
              "      <td>84348301</td>\n",
              "      <td>M</td>\n",
              "      <td>11.42</td>\n",
              "      <td>20.38</td>\n",
              "      <td>77.58</td>\n",
              "      <td>386.1</td>\n",
              "      <td>0.14250</td>\n",
              "      <td>0.28390</td>\n",
              "      <td>0.2414</td>\n",
              "      <td>0.10520</td>\n",
              "      <td>0.2597</td>\n",
              "      <td>0.09744</td>\n",
              "      <td>0.4956</td>\n",
              "      <td>1.1560</td>\n",
              "      <td>3.445</td>\n",
              "      <td>27.23</td>\n",
              "      <td>0.009110</td>\n",
              "      <td>0.07458</td>\n",
              "      <td>0.05661</td>\n",
              "      <td>0.01867</td>\n",
              "      <td>0.05963</td>\n",
              "      <td>0.009208</td>\n",
              "      <td>14.91</td>\n",
              "      <td>26.50</td>\n",
              "      <td>98.87</td>\n",
              "      <td>567.7</td>\n",
              "      <td>0.2098</td>\n",
              "      <td>0.8663</td>\n",
              "      <td>0.6869</td>\n",
              "      <td>0.2575</td>\n",
              "      <td>0.6638</td>\n",
              "      <td>0.17300</td>\n",
              "      <td>NaN</td>\n",
              "    </tr>\n",
              "    <tr>\n",
              "      <th>4</th>\n",
              "      <td>84358402</td>\n",
              "      <td>M</td>\n",
              "      <td>20.29</td>\n",
              "      <td>14.34</td>\n",
              "      <td>135.10</td>\n",
              "      <td>1297.0</td>\n",
              "      <td>0.10030</td>\n",
              "      <td>0.13280</td>\n",
              "      <td>0.1980</td>\n",
              "      <td>0.10430</td>\n",
              "      <td>0.1809</td>\n",
              "      <td>0.05883</td>\n",
              "      <td>0.7572</td>\n",
              "      <td>0.7813</td>\n",
              "      <td>5.438</td>\n",
              "      <td>94.44</td>\n",
              "      <td>0.011490</td>\n",
              "      <td>0.02461</td>\n",
              "      <td>0.05688</td>\n",
              "      <td>0.01885</td>\n",
              "      <td>0.01756</td>\n",
              "      <td>0.005115</td>\n",
              "      <td>22.54</td>\n",
              "      <td>16.67</td>\n",
              "      <td>152.20</td>\n",
              "      <td>1575.0</td>\n",
              "      <td>0.1374</td>\n",
              "      <td>0.2050</td>\n",
              "      <td>0.4000</td>\n",
              "      <td>0.1625</td>\n",
              "      <td>0.2364</td>\n",
              "      <td>0.07678</td>\n",
              "      <td>NaN</td>\n",
              "    </tr>\n",
              "  </tbody>\n",
              "</table>\n",
              "</div>\n",
              "      <button class=\"colab-df-convert\" onclick=\"convertToInteractive('df-00ccefdb-ad7a-4b77-8ba1-6f2595e0632b')\"\n",
              "              title=\"Convert this dataframe to an interactive table.\"\n",
              "              style=\"display:none;\">\n",
              "        \n",
              "  <svg xmlns=\"http://www.w3.org/2000/svg\" height=\"24px\"viewBox=\"0 0 24 24\"\n",
              "       width=\"24px\">\n",
              "    <path d=\"M0 0h24v24H0V0z\" fill=\"none\"/>\n",
              "    <path d=\"M18.56 5.44l.94 2.06.94-2.06 2.06-.94-2.06-.94-.94-2.06-.94 2.06-2.06.94zm-11 1L8.5 8.5l.94-2.06 2.06-.94-2.06-.94L8.5 2.5l-.94 2.06-2.06.94zm10 10l.94 2.06.94-2.06 2.06-.94-2.06-.94-.94-2.06-.94 2.06-2.06.94z\"/><path d=\"M17.41 7.96l-1.37-1.37c-.4-.4-.92-.59-1.43-.59-.52 0-1.04.2-1.43.59L10.3 9.45l-7.72 7.72c-.78.78-.78 2.05 0 2.83L4 21.41c.39.39.9.59 1.41.59.51 0 1.02-.2 1.41-.59l7.78-7.78 2.81-2.81c.8-.78.8-2.07 0-2.86zM5.41 20L4 18.59l7.72-7.72 1.47 1.35L5.41 20z\"/>\n",
              "  </svg>\n",
              "      </button>\n",
              "      \n",
              "  <style>\n",
              "    .colab-df-container {\n",
              "      display:flex;\n",
              "      flex-wrap:wrap;\n",
              "      gap: 12px;\n",
              "    }\n",
              "\n",
              "    .colab-df-convert {\n",
              "      background-color: #E8F0FE;\n",
              "      border: none;\n",
              "      border-radius: 50%;\n",
              "      cursor: pointer;\n",
              "      display: none;\n",
              "      fill: #1967D2;\n",
              "      height: 32px;\n",
              "      padding: 0 0 0 0;\n",
              "      width: 32px;\n",
              "    }\n",
              "\n",
              "    .colab-df-convert:hover {\n",
              "      background-color: #E2EBFA;\n",
              "      box-shadow: 0px 1px 2px rgba(60, 64, 67, 0.3), 0px 1px 3px 1px rgba(60, 64, 67, 0.15);\n",
              "      fill: #174EA6;\n",
              "    }\n",
              "\n",
              "    [theme=dark] .colab-df-convert {\n",
              "      background-color: #3B4455;\n",
              "      fill: #D2E3FC;\n",
              "    }\n",
              "\n",
              "    [theme=dark] .colab-df-convert:hover {\n",
              "      background-color: #434B5C;\n",
              "      box-shadow: 0px 1px 3px 1px rgba(0, 0, 0, 0.15);\n",
              "      filter: drop-shadow(0px 1px 2px rgba(0, 0, 0, 0.3));\n",
              "      fill: #FFFFFF;\n",
              "    }\n",
              "  </style>\n",
              "\n",
              "      <script>\n",
              "        const buttonEl =\n",
              "          document.querySelector('#df-00ccefdb-ad7a-4b77-8ba1-6f2595e0632b button.colab-df-convert');\n",
              "        buttonEl.style.display =\n",
              "          google.colab.kernel.accessAllowed ? 'block' : 'none';\n",
              "\n",
              "        async function convertToInteractive(key) {\n",
              "          const element = document.querySelector('#df-00ccefdb-ad7a-4b77-8ba1-6f2595e0632b');\n",
              "          const dataTable =\n",
              "            await google.colab.kernel.invokeFunction('convertToInteractive',\n",
              "                                                     [key], {});\n",
              "          if (!dataTable) return;\n",
              "\n",
              "          const docLinkHtml = 'Like what you see? Visit the ' +\n",
              "            '<a target=\"_blank\" href=https://colab.research.google.com/notebooks/data_table.ipynb>data table notebook</a>'\n",
              "            + ' to learn more about interactive tables.';\n",
              "          element.innerHTML = '';\n",
              "          dataTable['output_type'] = 'display_data';\n",
              "          await google.colab.output.renderOutput(dataTable, element);\n",
              "          const docLink = document.createElement('div');\n",
              "          docLink.innerHTML = docLinkHtml;\n",
              "          element.appendChild(docLink);\n",
              "        }\n",
              "      </script>\n",
              "    </div>\n",
              "  </div>\n",
              "  "
            ],
            "text/plain": [
              "         id diagnosis  ...  fractal_dimension_worst  Unnamed: 32\n",
              "0    842302         M  ...                  0.11890          NaN\n",
              "1    842517         M  ...                  0.08902          NaN\n",
              "2  84300903         M  ...                  0.08758          NaN\n",
              "3  84348301         M  ...                  0.17300          NaN\n",
              "4  84358402         M  ...                  0.07678          NaN\n",
              "\n",
              "[5 rows x 33 columns]"
            ]
          },
          "metadata": {},
          "execution_count": 24
        }
      ]
    },
    {
      "cell_type": "code",
      "source": [
        "x = dataSet.iloc[:,1:14].values\n",
        "# x = dataSet.iloc[:,1:8].values #65% accuracy\n",
        "# x = dataSet.iloc[:,1:6].values #50% accuracy\n",
        "# x = dataSet.iloc[:,1:7].values #60% accuracy\n",
        "# try doing this and u will get a good one\n",
        "# x = dataSet[['diagnosis', 'radius_mean']]\n",
        "\n",
        "y = dataSet.iloc[:,14].values"
      ],
      "metadata": {
        "id": "q4HQNhDEEOQ7"
      },
      "execution_count": 164,
      "outputs": []
    },
    {
      "cell_type": "code",
      "source": [
        "x = np.array(x)\n",
        "x,y"
      ],
      "metadata": {
        "colab": {
          "base_uri": "https://localhost:8080/"
        },
        "id": "0uoo60oGFz7q",
        "outputId": "174bdd0f-af52-4f39-a845-2a9017384c86"
      },
      "execution_count": 165,
      "outputs": [
        {
          "output_type": "execute_result",
          "data": {
            "text/plain": [
              "(array([['M', 17.99, 10.38, ..., 0.07871, 1.095, 0.9053],\n",
              "        ['M', 20.57, 17.77, ..., 0.056670000000000005, 0.5435, 0.7339],\n",
              "        ['M', 19.69, 21.25, ..., 0.059989999999999995, 0.7456, 0.7869],\n",
              "        ...,\n",
              "        ['M', 16.6, 28.08, ..., 0.056479999999999995, 0.4564, 1.075],\n",
              "        ['M', 20.6, 29.33, ..., 0.07016, 0.726, 1.595],\n",
              "        ['B', 7.76, 24.54, ..., 0.058839999999999996, 0.3857,\n",
              "         1.4280000000000002]], dtype=object),\n",
              " array([ 8.59,  3.4 ,  4.58,  3.44,  5.44,  2.22,  3.18,  3.86,  2.41,\n",
              "         2.04,  2.47,  3.56, 11.07,  2.9 ,  2.06,  2.88,  3.19,  3.85,\n",
              "         5.87,  2.06,  1.38,  1.91,  3.38,  4.3 ,  5.46,  7.28,  2.11,\n",
              "         5.63,  3.5 ,  4.66,  5.57,  3.48,  4.  ,  3.53,  2.18,  3.01,\n",
              "         2.66,  1.17,  8.08,  1.54,  1.57,  1.82,  8.83,  2.43,  1.33,\n",
              "         4.29,  1.09,  1.9 ,  1.85,  1.74,  2.63,  1.45,  1.52,  4.88,\n",
              "         2.1 ,  2.18,  4.84,  2.73,  2.6 ,  1.05,  3.31,  2.49,  5.37,\n",
              "         2.61,  2.93,  2.45,  1.66,  1.83,  1.89,  1.47,  5.49,  3.17,\n",
              "         3.71,  1.96,  1.74,  5.03,  2.65,  6.31,  8.65,  1.78,  2.08,\n",
              "         1.53,  7.38,  5.8 ,  1.44,  4.78,  3.3 ,  3.06,  2.2 ,  3.81,\n",
              "         2.28,  2.08,  2.7 ,  2.1 ,  3.71,  4.55,  2.41,  2.13,  1.48,\n",
              "         2.38,  2.86,  1.55,  1.18,  1.53,  2.3 ,  2.41,  2.15,  0.85,\n",
              "        10.05,  1.6 ,  2.75,  2.71,  3.4 ,  2.04,  1.35,  2.  ,  3.28,\n",
              "         2.99,  3.6 ,  3.36,  1.1 ,  4.89,  9.81,  1.93,  1.22,  1.5 ,\n",
              "         1.75,  5.22,  2.8 ,  2.77,  1.97,  3.09,  2.84,  1.97,  3.77,\n",
              "         1.46,  3.26,  1.14,  8.42,  1.85,  1.22,  4.53,  1.94,  1.69,\n",
              "         1.81,  3.02,  2.28,  3.27,  2.12,  1.57,  2.87,  1.24,  4.07,\n",
              "         1.43,  1.82,  1.48,  5.54,  3.48,  1.17,  1.81,  3.93,  6.97,\n",
              "         4.79,  1.96,  4.6 ,  1.29,  1.13,  4.13,  7.34,  1.89,  1.67,\n",
              "         3.14,  2.81,  1.38,  2.15,  1.44,  3.13,  2.48,  1.1 ,  1.78,\n",
              "         5.82,  4.41,  2.41,  1.9 ,  1.34,  2.68,  1.82,  1.74,  1.01,\n",
              "         1.69,  2.11,  5.12,  2.23,  2.64,  3.59,  1.49,  4.91,  4.31,\n",
              "         3.83,  1.45,  2.31,  3.09,  4.67,  3.91,  2.5 ,  1.97,  1.52,\n",
              "         4.11,  1.49,  1.52,  7.03,  1.44, 21.98,  3.77,  3.53,  1.93,\n",
              "         2.09,  2.75,  6.49,  4.72,  1.39,  2.01,  1.64,  2.24,  2.04,\n",
              "         3.76,  1.21,  2.28,  1.45,  2.26,  2.15,  1.06,  1.49,  3.77,\n",
              "         1.22,  1.67,  7.25,  5.14,  2.1 ,  3.  ,  2.  ,  0.76,  2.37,\n",
              "         2.83,  4.04,  2.52,  0.87,  2.39,  1.5 ,  1.69,  6.37,  2.68,\n",
              "         4.12,  2.19,  3.8 ,  2.56,  7.16,  4.06, 10.12,  1.9 ,  2.59,\n",
              "         2.58,  6.15,  1.53,  2.82,  7.75,  3.43,  2.59,  1.55,  2.23,\n",
              "         0.84,  1.16,  8.87,  1.75,  2.77,  4.02,  1.56,  2.36,  1.68,\n",
              "         1.83,  4.32,  3.72,  2.9 ,  2.46,  2.35,  1.72,  3.2 ,  1.11,\n",
              "         2.88,  1.95,  4.36,  2.17,  1.23,  1.23,  1.34,  1.48,  1.27,\n",
              "         4.14,  1.66,  2.29,  7.24,  2.58,  7.8 ,  1.03,  2.48,  1.96,\n",
              "         1.2 ,  1.14,  1.51,  2.57,  1.11,  1.95,  2.35,  1.11,  2.22,\n",
              "         1.05,  1.44,  2.55,  3.77,  2.49,  1.6 ,  3.87,  1.61,  4.01,\n",
              "         1.96,  1.57,  1.56,  1.47,  3.27,  2.96,  2.63,  2.46,  1.96,\n",
              "         1.53,  1.2 ,  6.08,  0.92,  4.37,  1.78,  6.46,  2.68,  1.43,\n",
              "         1.35,  5.17,  2.35,  2.39,  1.56,  2.54,  1.09,  2.46,  2.23,\n",
              "         3.48,  7.22,  4.17,  3.33,  3.21,  2.59,  1.74,  4.28,  3.27,\n",
              "         2.33,  2.03,  1.53,  2.34,  1.04,  4.22,  7.13,  1.87,  7.73,\n",
              "         7.56,  2.97,  1.34,  2.41,  4.12,  1.37,  1.35,  2.36,  1.4 ,\n",
              "         1.1 ,  1.72,  1.81,  1.28,  1.78,  2.12,  1.59,  2.91,  2.1 ,\n",
              "         1.71,  2.57,  5.38,  1.35,  3.17,  4.67,  4.16,  1.87,  1.24,\n",
              "         1.51,  2.67,  1.26,  2.23,  3.12,  1.65,  2.4 ,  1.  ,  2.6 ,\n",
              "         3.02,  1.73,  2.55,  3.06,  2.08,  1.36,  1.34,  1.17,  2.31,\n",
              "         3.04,  1.93,  2.76,  9.42,  1.53,  1.97,  2.21,  4.79,  1.67,\n",
              "         1.8 ,  4.61,  1.18,  2.56,  2.24,  0.97,  2.11,  3.47,  2.2 ,\n",
              "         3.01,  4.49,  1.61,  1.6 ,  2.6 ,  2.64,  2.33,  1.61,  2.81,\n",
              "         3.28,  2.23,  1.28,  1.92,  1.86,  2.87,  1.48,  1.99,  4.54,\n",
              "         1.96,  2.92,  1.52,  2.14,  1.12,  2.29,  2.15,  1.31,  1.66,\n",
              "         1.24,  6.05, 18.65,  1.73,  1.3 ,  1.24,  3.37,  2.31,  2.27,\n",
              "         5.8 ,  3.03,  2.57,  4.1 ,  1.83,  2.88,  1.3 ,  1.2 ,  2.75,\n",
              "         1.39,  1.57,  3.07,  1.68,  2.06,  1.1 ,  1.56,  1.14,  5.  ,\n",
              "         1.47,  3.63,  2.55,  1.77,  1.58,  3.16,  5.35,  2.11,  2.33,\n",
              "         1.6 ,  1.7 ,  1.25,  4.85,  4.21,  2.3 ,  2.97,  1.57,  9.63,\n",
              "         3.01,  1.79,  0.99,  1.32,  1.15,  2.94,  1.34,  1.68,  3.09,\n",
              "         2.56,  2.63,  1.49,  3.22,  3.65,  3.18,  2.5 ,  2.39,  7.05,\n",
              "         0.98,  2.28,  1.98,  1.07,  1.44,  0.77,  4.09,  1.71,  3.15,\n",
              "         1.39,  1.37,  5.17,  1.17,  4.71,  1.9 ,  2.16,  2.49,  1.45,\n",
              "         1.63,  2.62,  2.18,  1.54,  2.08,  2.07,  1.36,  0.99,  2.05,\n",
              "         3.56,  2.12,  1.99,  1.48,  2.12,  1.5 ,  1.44,  1.65,  3.62,\n",
              "         2.22,  1.94,  2.89,  2.04,  2.36,  8.76,  7.67,  5.2 ,  3.42,\n",
              "         5.77,  2.55]))"
            ]
          },
          "metadata": {},
          "execution_count": 165
        }
      ]
    },
    {
      "cell_type": "markdown",
      "source": [
        "##One hot encoding on diagnosis column"
      ],
      "metadata": {
        "id": "S36jofSYGw_3"
      }
    },
    {
      "cell_type": "code",
      "source": [
        "from sklearn.compose import ColumnTransformer\n",
        "from sklearn.preprocessing import OneHotEncoder\n",
        "# shift+tab to see arguments and their importance .... the index '0' is the column which we have to encode\n",
        "# in categorical format\n",
        "# as we want first column(diagnosis) of the data set to be one hot encoded so we have entered 0\n",
        "ct = ColumnTransformer(transformers = [('encoder', OneHotEncoder(), [0])], remainder = 'passthrough')\n",
        "# to update the x value\n",
        "x = np.array(ct.fit_transform(x))"
      ],
      "metadata": {
        "id": "0mJ3PBjaGRoL"
      },
      "execution_count": 166,
      "outputs": []
    },
    {
      "cell_type": "code",
      "source": [
        "x"
      ],
      "metadata": {
        "colab": {
          "base_uri": "https://localhost:8080/"
        },
        "id": "tBWJBa3BHVFr",
        "outputId": "96c0a9f8-46f6-43c1-af02-2faf45eeed4c"
      },
      "execution_count": 167,
      "outputs": [
        {
          "output_type": "execute_result",
          "data": {
            "text/plain": [
              "array([[0.0, 1.0, 17.99, ..., 0.07871, 1.095, 0.9053],\n",
              "       [0.0, 1.0, 20.57, ..., 0.056670000000000005, 0.5435, 0.7339],\n",
              "       [0.0, 1.0, 19.69, ..., 0.059989999999999995, 0.7456, 0.7869],\n",
              "       ...,\n",
              "       [0.0, 1.0, 16.6, ..., 0.056479999999999995, 0.4564, 1.075],\n",
              "       [0.0, 1.0, 20.6, ..., 0.07016, 0.726, 1.595],\n",
              "       [1.0, 0.0, 7.76, ..., 0.058839999999999996, 0.3857,\n",
              "        1.4280000000000002]], dtype=object)"
            ]
          },
          "metadata": {},
          "execution_count": 167
        }
      ]
    },
    {
      "cell_type": "markdown",
      "source": [
        "##Splitting the dataset\n"
      ],
      "metadata": {
        "id": "gzj-157ZHfAE"
      }
    },
    {
      "cell_type": "code",
      "source": [
        "from sklearn.model_selection import train_test_split\n",
        "x_Train, x_Test, y_Train, y_Test = train_test_split(x,y,train_size = 0.8)"
      ],
      "metadata": {
        "id": "o6SajSLmHV3O"
      },
      "execution_count": 168,
      "outputs": []
    },
    {
      "cell_type": "markdown",
      "source": [
        "###Feature Scaling as all variables are not in a plausible range"
      ],
      "metadata": {
        "id": "vnIzU-J5It60"
      }
    },
    {
      "cell_type": "code",
      "source": [
        "from sklearn.preprocessing import StandardScaler\n",
        "sc = StandardScaler()\n",
        "x_Train = sc.fit_transform(x_Train) \n",
        "x_Test = sc.transform(x_Test)\n",
        "print(x_Train)"
      ],
      "metadata": {
        "colab": {
          "base_uri": "https://localhost:8080/"
        },
        "id": "wkstqQxuIkiF",
        "outputId": "ab91bc15-aeb3-4c92-ac91-7c8959e44f3a"
      },
      "execution_count": 169,
      "outputs": [
        {
          "output_type": "stream",
          "name": "stdout",
          "text": [
            "[[ 7.76e-01 -7.76e-01 -6.84e-01 ...  1.50e+00 -4.15e-01  1.34e+00]\n",
            " [ 7.76e-01 -7.76e-01 -7.27e-01 ...  6.45e-01 -4.79e-01  9.68e-01]\n",
            " [ 7.76e-01 -7.76e-01 -8.05e-01 ...  8.26e-01 -5.62e-01 -4.27e-01]\n",
            " ...\n",
            " [-1.29e+00  1.29e+00  1.19e+00 ... -1.58e-03  1.58e+00  6.56e-01]\n",
            " [ 7.76e-01 -7.76e-01 -3.34e-01 ... -8.82e-01 -7.92e-01 -5.65e-01]\n",
            " [ 7.76e-01 -7.76e-01 -1.62e-01 ... -3.18e-01 -7.20e-01  1.90e-01]]\n"
          ]
        }
      ]
    },
    {
      "cell_type": "markdown",
      "source": [
        "###Fitting the model"
      ],
      "metadata": {
        "id": "ACTJ3STvIzSX"
      }
    },
    {
      "cell_type": "code",
      "source": [
        "from sklearn.linear_model import LinearRegression\n",
        "regressor = LinearRegression()\n",
        "regressor.fit(x_Train, y_Train)"
      ],
      "metadata": {
        "colab": {
          "base_uri": "https://localhost:8080/"
        },
        "id": "spaDgTJ0H38e",
        "outputId": "f749ec39-528a-46b3-f98a-a04480faa96f"
      },
      "execution_count": 170,
      "outputs": [
        {
          "output_type": "execute_result",
          "data": {
            "text/plain": [
              "LinearRegression()"
            ]
          },
          "metadata": {},
          "execution_count": 170
        }
      ]
    },
    {
      "cell_type": "code",
      "source": [
        "# training data set\n",
        "regressor.score(x_Train, y_Train)"
      ],
      "metadata": {
        "colab": {
          "base_uri": "https://localhost:8080/"
        },
        "id": "SCsitKr1IDum",
        "outputId": "8b9f8062-c543-4192-d7ed-16ddb3ad7228"
      },
      "execution_count": 171,
      "outputs": [
        {
          "output_type": "execute_result",
          "data": {
            "text/plain": [
              "0.9635520476830198"
            ]
          },
          "metadata": {},
          "execution_count": 171
        }
      ]
    },
    {
      "cell_type": "code",
      "source": [
        "# without feature scaling we get around 74% accuracy\n",
        "# with feature scaling we get around 75% accuracy\n",
        "# this model was consisting starting 6 columns which was giving 17% accuracy on dataset"
      ],
      "metadata": {
        "id": "GKBf05qPIOKp"
      },
      "execution_count": 172,
      "outputs": []
    },
    {
      "cell_type": "markdown",
      "source": [
        "###Prediction on test data"
      ],
      "metadata": {
        "id": "3gIEGRdoJcEx"
      }
    },
    {
      "cell_type": "code",
      "source": [
        "y_PRED = regressor.predict(x_Test)"
      ],
      "metadata": {
        "id": "Td7GkKwvJZ1Y"
      },
      "execution_count": 173,
      "outputs": []
    },
    {
      "cell_type": "code",
      "source": [
        "# to compare the prediceted and actual outputs let us concatenate both of em and print so that it is easy to check ;)\n",
        "np.set_printoptions(precision = 2)\n",
        "print(np.concatenate((y_PRED.reshape(len(y_PRED),1), y_Test.reshape(len(y_Test),1)),1))"
      ],
      "metadata": {
        "colab": {
          "base_uri": "https://localhost:8080/"
        },
        "id": "Biu7gZmXJv06",
        "outputId": "2973658f-59bc-417d-f264-9083f3455f33"
      },
      "execution_count": 174,
      "outputs": [
        {
          "output_type": "stream",
          "name": "stdout",
          "text": [
            "[[ 3.12  3.13]\n",
            " [ 0.83  0.77]\n",
            " [ 2.11  1.94]\n",
            " [ 2.03  2.15]\n",
            " [ 3.03  2.86]\n",
            " [ 1.65  1.73]\n",
            " [ 2.48  2.04]\n",
            " [ 4.87  4.78]\n",
            " [ 4.48  4.61]\n",
            " [ 3.04  3.15]\n",
            " [ 2.15  1.96]\n",
            " [ 2.22  1.97]\n",
            " [ 2.04  2.  ]\n",
            " [ 5.68  5.44]\n",
            " [ 1.9   1.93]\n",
            " [ 1.71  1.87]\n",
            " [ 1.65  1.57]\n",
            " [ 2.16  2.08]\n",
            " [ 2.    2.08]\n",
            " [ 2.27  2.11]\n",
            " [ 4.82  4.53]\n",
            " [ 3.36  3.93]\n",
            " [ 1.69  1.67]\n",
            " [ 2.46  2.47]\n",
            " [ 2.36  2.31]\n",
            " [ 1.4   1.37]\n",
            " [ 2.53  2.68]\n",
            " [ 2.62  2.55]\n",
            " [ 3.54  2.55]\n",
            " [ 4.1   4.22]\n",
            " [ 1.44  1.49]\n",
            " [ 2.24  2.28]\n",
            " [ 2.73  3.59]\n",
            " [ 2.54  2.46]\n",
            " [ 1.79  2.29]\n",
            " [ 1.83  1.95]\n",
            " [ 4.28  4.91]\n",
            " [ 1.59  1.77]\n",
            " [ 1.44  1.43]\n",
            " [ 1.7   1.7 ]\n",
            " [ 2.78  2.5 ]\n",
            " [ 1.39  1.53]\n",
            " [ 2.98  2.64]\n",
            " [ 1.48  1.52]\n",
            " [ 9.16  8.87]\n",
            " [ 1.82  1.96]\n",
            " [ 2.72  2.82]\n",
            " [ 2.62  2.77]\n",
            " [ 4.91  4.41]\n",
            " [ 2.06  1.92]\n",
            " [ 1.08  1.1 ]\n",
            " [ 1.9   2.14]\n",
            " [ 2.57  2.75]\n",
            " [ 1.61  1.56]\n",
            " [ 3.08  3.19]\n",
            " [ 3.1   3.18]\n",
            " [ 5.    5.12]\n",
            " [ 2.46  2.6 ]\n",
            " [ 5.2   4.72]\n",
            " [ 1.49  1.45]\n",
            " [ 1.42  1.52]\n",
            " [ 2.85  2.7 ]\n",
            " [ 2.38  2.35]\n",
            " [ 0.86  1.07]\n",
            " [ 4.07  3.6 ]\n",
            " [ 1.92  1.78]\n",
            " [ 4.54  4.89]\n",
            " [ 1.47  1.78]\n",
            " [ 2.16  2.4 ]\n",
            " [ 1.83  1.98]\n",
            " [ 1.71  1.74]\n",
            " [ 4.45  4.54]\n",
            " [ 2.27  2.06]\n",
            " [ 2.33  2.08]\n",
            " [ 0.89  1.06]\n",
            " [ 2.77  3.06]\n",
            " [ 3.03  2.83]\n",
            " [ 2.58  2.64]\n",
            " [ 3.35  3.43]\n",
            " [ 3.01  3.53]\n",
            " [ 4.04  4.12]\n",
            " [ 1.99  1.93]\n",
            " [ 1.12  1.24]\n",
            " [ 1.82  1.57]\n",
            " [19.69 21.98]\n",
            " [ 2.22  2.22]\n",
            " [ 5.95  5.63]\n",
            " [ 1.47  1.61]\n",
            " [ 1.36  1.22]\n",
            " [ 7.61  7.22]\n",
            " [ 1.17  1.13]\n",
            " [ 0.99  1.17]\n",
            " [ 1.53  1.53]\n",
            " [ 1.78  1.65]\n",
            " [ 4.02  3.48]\n",
            " [ 6.27  5.82]\n",
            " [ 4.    3.77]\n",
            " [ 1.47  1.44]\n",
            " [ 1.9   1.97]\n",
            " [ 3.77  3.63]\n",
            " [ 1.41  1.68]\n",
            " [ 1.55  1.53]\n",
            " [ 3.12  2.9 ]\n",
            " [ 1.72  1.68]\n",
            " [ 2.44  1.9 ]\n",
            " [ 4.32  4.3 ]\n",
            " [ 3.39  3.27]\n",
            " [ 2.6   2.1 ]\n",
            " [ 4.36  4.31]\n",
            " [ 1.02  1.  ]\n",
            " [ 1.66  1.64]\n",
            " [ 1.28  1.72]\n",
            " [ 1.84  2.06]\n",
            " [ 1.35  1.34]]\n"
          ]
        }
      ]
    },
    {
      "cell_type": "code",
      "source": [
        "from sklearn.metrics import r2_score\n",
        "\n",
        "r2_score(y_Test, y_PRED)"
      ],
      "metadata": {
        "colab": {
          "base_uri": "https://localhost:8080/"
        },
        "id": "v8NZEeZgPfwt",
        "outputId": "487dcb93-6e6f-46ec-ab66-a9736210980a"
      },
      "execution_count": 175,
      "outputs": [
        {
          "output_type": "execute_result",
          "data": {
            "text/plain": [
              "0.9780248839198086"
            ]
          },
          "metadata": {},
          "execution_count": 175
        }
      ]
    },
    {
      "cell_type": "code",
      "source": [
        "regressor.score(x_Test, y_Test)"
      ],
      "metadata": {
        "colab": {
          "base_uri": "https://localhost:8080/"
        },
        "id": "M7ay_FmkJ84f",
        "outputId": "f705c8d8-23f7-4fdf-e760-b1bcf4d71659"
      },
      "execution_count": 176,
      "outputs": [
        {
          "output_type": "execute_result",
          "data": {
            "text/plain": [
              "0.9780248839198086"
            ]
          },
          "metadata": {},
          "execution_count": 176
        }
      ]
    },
    {
      "cell_type": "markdown",
      "source": [
        "###Using *RFE*\n",
        "RFE is Recursive Feature Elimination, or RFE for short, is a feature selection algorithm.\n",
        "\n",
        "A machine learning dataset for classification or regression is comprised of rows and columns, like an excel spreadsheet. Rows are often referred to as samples and columns are referred to as features, e.g. features of an observation in a problem domain.\n",
        "\n",
        "Feature selection refers to techniques that select a subset of the most relevant features (columns) for a dataset. Fewer features can allow machine learning algorithms to run more efficiently (less space or time complexity) and be more effective. Some machine learning algorithms can be misled by irrelevant input features, resulting in worse predictive performance.\n",
        "\n",
        "[RFE detailed explanation](https://machinelearningmastery.com/rfe-feature-selection-in-python/)"
      ],
      "metadata": {
        "id": "VIgdXAm5MfSJ"
      }
    },
    {
      "cell_type": "code",
      "source": [
        "from sklearn.feature_selection import RFE\n",
        "\n",
        "lm = LinearRegression()\n",
        "lm.fit(x_Train, y_Train)\n",
        "\n",
        "rfe = RFE(lm, n_features_to_select=10)             \n",
        "rfe = rfe.fit(x_Train, y_Train)"
      ],
      "metadata": {
        "id": "iqOlcTK2KEeh"
      },
      "execution_count": 178,
      "outputs": []
    },
    {
      "cell_type": "code",
      "source": [
        "yPred =  rfe.predict(x_Test)"
      ],
      "metadata": {
        "id": "vK0M1KGrN2Vw"
      },
      "execution_count": 179,
      "outputs": []
    },
    {
      "cell_type": "code",
      "source": [
        "r2_score(y_Test, yPred)"
      ],
      "metadata": {
        "colab": {
          "base_uri": "https://localhost:8080/"
        },
        "id": "2Jw095GZQFLv",
        "outputId": "3c439d2b-6f1a-4fd8-98d2-47d253df04f7"
      },
      "execution_count": 180,
      "outputs": [
        {
          "output_type": "execute_result",
          "data": {
            "text/plain": [
              "0.9779578887556146"
            ]
          },
          "metadata": {},
          "execution_count": 180
        }
      ]
    },
    {
      "cell_type": "markdown",
      "source": [
        "###K-Fold Cross Validation\n",
        "k-Fold Cross-Validation\n",
        "Cross-validation is a resampling procedure used to evaluate machine learning models on a limited data sample.\n",
        "\n",
        "The procedure has a single parameter called k that refers to the number of groups that a given data sample is to be split into. As such, the procedure is often called k-fold cross-validation. When a specific value for k is chosen, it may be used in place of k in the reference to the model, such as k=10 becoming 10-fold cross-validation.\n",
        "\n",
        "Cross-validation is primarily used in applied machine learning to estimate the skill of a machine learning model on unseen data. That is, to use a limited sample in order to estimate how the model is expected to perform in general when used to make predictions on data not used during the training of the model.\n",
        "\n",
        "It is a popular method because it is simple to understand and because it generally results in a less biased or less optimistic estimate of the model skill than other methods, such as a simple train/test split.\n",
        "\n",
        "[K-Fold Cross Validation ](https://machinelearningmastery.com/k-fold-cross-validation/)"
      ],
      "metadata": {
        "id": "Uc-q9JxVSFZ_"
      }
    },
    {
      "cell_type": "code",
      "source": [
        "\n",
        "from sklearn.model_selection import cross_val_score\n",
        "from sklearn.model_selection import KFold\n",
        "\n",
        "# create a KFold object with 5 splits \n",
        "folds = KFold(n_splits = 10, shuffle = True, random_state = 100)\n",
        "scores = cross_val_score(lm, x_Train, y_Train, scoring='r2', cv=folds)\n",
        "scores  "
      ],
      "metadata": {
        "colab": {
          "base_uri": "https://localhost:8080/"
        },
        "id": "PKBilqvvQHND",
        "outputId": "5b6c1fd7-b5cb-4531-fdd1-88d338c3700b"
      },
      "execution_count": 182,
      "outputs": [
        {
          "output_type": "execute_result",
          "data": {
            "text/plain": [
              "array([0.97, 0.96, 0.89, 0.96, 0.96, 0.97, 0.98, 0.98, 0.95, 0.96])"
            ]
          },
          "metadata": {},
          "execution_count": 182
        }
      ]
    },
    {
      "cell_type": "code",
      "source": [
        ""
      ],
      "metadata": {
        "id": "gIo0vdI5SW7p"
      },
      "execution_count": null,
      "outputs": []
    }
  ]
}